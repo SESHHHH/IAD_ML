{
  "cells": [
    {
      "cell_type": "markdown",
      "metadata": {
        "id": "-epqh5YJwCu5"
      },
      "source": [
        "### Машинное Обучения\n",
        "\n",
        "## Домашнее задание №2 - Дерево решений"
      ]
    },
    {
      "cell_type": "markdown",
      "metadata": {
        "id": "VuWwK1KcwCu6"
      },
      "source": [
        "**Общая информация**\n",
        "\n",
        "**Срок сдачи:** 23 апреля 2024, 23:59   \n",
        "**Штраф за опоздание:** -2 балла за каждые 2 дня опоздания\n",
        "\n",
        "Решений залить в свой github репозиторий.\n",
        "\n",
        "Используйте данный Ipython Notebook при оформлении домашнего задания."
      ]
    },
    {
      "cell_type": "markdown",
      "metadata": {
        "id": "QD-w3KhzwCu7"
      },
      "source": [
        "##  Реализуем дерево решений (3 балла)"
      ]
    },
    {
      "cell_type": "markdown",
      "metadata": {
        "id": "P1RCOJw-wCu7"
      },
      "source": [
        "Допишите недостающие части дерева решений. Ваша реализация дерева должна работать по точности не хуже DecisionTreeClassifier из sklearn.\n",
        "Внимание: если Вас не устраивает предложенная структура хранения дерева, Вы без потери баллов можете сделать свой класс MyDecisionTreeClassifier, в котором сами полностью воспроизведете алгоритм дерева решений. Обязательно в нем иметь только функции fit, predict . (Но название класса не менять)"
      ]
    },
    {
      "cell_type": "code",
      "execution_count": 662,
      "metadata": {
        "id": "Dz_9pFghwCu7"
      },
      "outputs": [],
      "source": [
        "import matplotlib.pyplot as plt\n",
        "import numpy as np\n",
        "import pandas as pd\n",
        "\n",
        "from sklearn.datasets import load_wine\n",
        "from sklearn.ensemble import RandomForestClassifier\n",
        "from sklearn.metrics import accuracy_score, roc_auc_score\n",
        "from sklearn.model_selection import KFold, train_test_split, GridSearchCV, RandomizedSearchCV\n",
        "from sklearn.tree import DecisionTreeClassifier"
      ]
    },
    {
      "cell_type": "code",
      "execution_count": 876,
      "metadata": {
        "id": "FUZ-iFxAwCu7"
      },
      "outputs": [],
      "source": [
        "class MyDecisionTreeClassifier:\n",
        "    NON_LEAF_TYPE = 0\n",
        "    LEAF_TYPE = 1\n",
        "\n",
        "    def __init__(self, min_samples_split=2, max_depth=5, criterion='gini'):\n",
        "        \"\"\"\n",
        "        criterion -- критерий расщепления. необходимо релизовать три:\n",
        "        Ошибка классификации, Индекс Джини, Энтропийный критерий\n",
        "        max_depth -- максимальная глубина дерева\n",
        "        min_samples_split -- минимальное число объектов в листе, чтобы сделать новый сплит\n",
        "        \"\"\"\n",
        "        self.min_samples_split = min_samples_split\n",
        "        self.max_depth = max_depth\n",
        "        self.num_class = -1\n",
        "        # Для последнего задания\n",
        "        self.feature_importances_ = {}\n",
        "        self.criterion = criterion\n",
        "        # Структура, которая описывает дерево\n",
        "        # Представляет словарь, где для  node_id (айдишник узла дерева) храним\n",
        "        # (тип_узла, айдишник признака сплита, порог сплита) если тип NON_LEAF_TYPE\n",
        "        # (тип_узла, предсказание класса, вероятность класса) если тип LEAF_TYPE\n",
        "        # Подразумевается, что у каждого node_id в дереве слева\n",
        "        # узел с айди 2 * node_id + 1, а справа 2 * node_id + 2\n",
        "        self.tree = dict()\n",
        "\n",
        "    def __div_samples(self, x, y, feature_id, threshold):\n",
        "        \"\"\"\n",
        "        Разделяет объекты на 2 множества\n",
        "        x -- матрица объектов\n",
        "        y -- вектор ответов\n",
        "        feature_id -- айдишник признака, по которому делаем сплит\n",
        "        threshold -- порог, по которому делаем сплит\n",
        "        \"\"\"\n",
        "        left_mask = x[:, feature_id] > threshold\n",
        "        right_mask = ~left_mask\n",
        "        return x[left_mask], x[right_mask], y[left_mask], y[right_mask]\n",
        "\n",
        "    def __find_threshold(self, x, y):\n",
        "        \"\"\"\n",
        "        Находим оптимальный признак и порог для сплита\n",
        "        Здесь используемые разные impurity в зависимости от self.criterion\n",
        "        \"\"\"\n",
        "        # Ваш код здесь\n",
        "        best_f = None\n",
        "        best_thr = None\n",
        "        best_error = float('inf')\n",
        "\n",
        "        idx = np.argsort(x, axis=0)\n",
        "        sorted_x = np.take_along_axis(x, idx, axis=0)\n",
        "        sorted_y = np.take_along_axis(y.reshape(-1, 1), idx, axis=0)\n",
        "\n",
        "        for j in range(x.shape[1]):  # Перебираем признаки\n",
        "            y_sorted, x_sorted = sorted_y[:, j], sorted_x[:, j]\n",
        "            # feature = x[:, j]  # Инициализируем рассматриваемый признак\n",
        "            # idx = np.argsort(feature)  # Сортируем индексы по значению признака\n",
        "            # y_sorted, x_sorted = y[idx], feature[idx]  # Сортируем записи по новому порядку индексов\n",
        "\n",
        "            if len(np.unique(x_sorted)) <= 1:\n",
        "                continue\n",
        "\n",
        "            # Инициализируем возможные поклассовые количества объектов при разбиениях (правую и левую часть)\n",
        "            left_cls_counts = np.array([np.cumsum(y_sorted == cls) for cls in np.unique(y)])\n",
        "            left_count = np.arange(1, len(y) + 1)  # 1, 2, ..., N\n",
        "\n",
        "            right_cls_counts = left_cls_counts[:, -1].reshape(-1, 1) - left_cls_counts\n",
        "            right_count = left_count[-1] - left_count[:-1] # N - 1, N - 2, ..., 1\n",
        "\n",
        "            # Убираем случаи, когда в левой или правой части нет элементов\n",
        "            left_cls_counts,  right_cls_counts = left_cls_counts[:, :-1], right_cls_counts[:, :-1]\n",
        "            left_count = left_count[:-1]\n",
        "\n",
        "            if self.criterion == 'gini':\n",
        "                # Берем суммы квадратов представителей классов в каждой части при разбиении\n",
        "                left_squared_sums = np.sum(np.square(left_cls_counts), axis=0)\n",
        "                right_squared_sums = np.sum(np.square(right_cls_counts), axis=0)\n",
        "                errors = (left_count ** 2 - left_squared_sums) / left_count + (right_count ** 2 - right_squared_sums) / right_count\n",
        "\n",
        "            elif self.criterion == 'entropy':\n",
        "                # Расчёт вероятностей\n",
        "                left_probs = left_cls_counts / left_count\n",
        "                right_probs = right_cls_counts / right_count\n",
        "                # Расчёт энтропии\n",
        "                left_entropy = -np.sum(left_probs * np.log2(left_probs, where=left_probs > 0), axis=0)\n",
        "                right_entropy = -np.sum(right_probs * np.log2(right_probs, where=right_probs > 0), axis=0)\n",
        "                errors = left_count * left_entropy + right_count * right_entropy\n",
        "\n",
        "            elif self.criterion == 'min_error':\n",
        "                # Расчёт ошибки классификации\n",
        "                left_classification_error = 1 - np.max(left_cls_counts / left_count, axis=0)\n",
        "                right_classification_error = 1 - np.max(right_cls_counts / right_count, axis=0)\n",
        "                errors = left_count * left_classification_error + right_count * right_classification_error\n",
        "\n",
        "            # Индекс наименьшей ошибки, т.е. индекс значения признака, на этом значении надо делать сплит\n",
        "            best_f_idx = np.argmin(errors)\n",
        "            # Лучший thr для данной фичи\n",
        "            best_f_thr = 0.5 * (x_sorted[best_f_idx] + x_sorted[best_f_idx + 1])\n",
        "            # Минимальная ошибка для данной фичи при лучшем thr\n",
        "            min_f_error = errors[best_f_idx]\n",
        "            # Обновляем наименьшую ошибку, фичу и ее thr\n",
        "            if min_f_error < best_error:\n",
        "                best_error = min_f_error\n",
        "                best_f = j\n",
        "                best_thr = best_f_thr\n",
        "\n",
        "        _, node_cls_counts = np.unique(y, return_counts=True)\n",
        "        if self.criterion == 'gini':\n",
        "            probs = node_cls_counts / len(y)\n",
        "            node_info = 1 - np.sum(np.square(probs))\n",
        "        elif self.criterion == 'entropy':\n",
        "            probs = node_cls_counts / len(y)\n",
        "            node_info = -np.sum(probs * np.log2(probs))\n",
        "        elif self.criterion == 'min_error':\n",
        "            probs = max(node_cls_counts) / len(y)\n",
        "            node_info = 1 - probs\n",
        "\n",
        "        if best_f in self.feature_importances_.keys():\n",
        "            self.feature_importances_[best_f] += node_info - best_error / len(y)\n",
        "        else:\n",
        "            self.feature_importances_[best_f] = node_info - best_error / len(y)\n",
        "\n",
        "        return best_f, best_thr\n",
        "\n",
        "\n",
        "\n",
        "    def __fit_node(self, x, y, node_id, depth):\n",
        "        \"\"\"\n",
        "        Делаем новый узел в дереве\n",
        "        Решаем, терминальный он или нет\n",
        "        Если нет, то строим левый узел  с айди 2 * node_id + 1\n",
        "        И правый узел с  айди 2 * node_id + 2\n",
        "        \"\"\"\n",
        "        # Ваш код здесь\n",
        "        if depth >= self.max_depth or len(y) < self.min_samples_split or len(np.unique(y)) == 1:\n",
        "            class_counts = np.bincount(y, minlength=self.num_class)\n",
        "            most_common = np.argmax(class_counts)\n",
        "            self.tree[node_id] = (self.LEAF_TYPE, most_common, class_counts[most_common] / len(y))\n",
        "            return\n",
        "\n",
        "        best_f, best_thr = self.__find_threshold(x, y)\n",
        "        if best_f is None:\n",
        "            # Если признак для разделения не найден, делаем узел листом\n",
        "            class_counts = np.bincount(y, minlength=self.num_class)\n",
        "            most_common = np.argmax(class_counts)\n",
        "            self.tree[node_id] = (self.LEAF_TYPE, most_common, class_counts[most_common] / len(y))\n",
        "            return\n",
        "\n",
        "        x_left, x_right, y_left, y_right = self.__div_samples(x, y, best_f, best_thr)\n",
        "        if len(y_left) == 0 or len(y_right) == 0:\n",
        "            class_counts = np.bincount(y, minlength=self.num_class)\n",
        "            most_common = np.argmax(class_counts)\n",
        "            self.tree[node_id] = (self.LEAF_TYPE, most_common, class_counts[most_common] / len(y))\n",
        "            return\n",
        "\n",
        "        self.tree[node_id] = (self.NON_LEAF_TYPE, best_f, best_thr)\n",
        "        self.__fit_node(x_left, y_left, 2 * node_id + 1, depth + 1)\n",
        "        self.__fit_node(x_right, y_right, 2 * node_id + 2, depth + 1)\n",
        "\n",
        "    def fit(self, x, y):\n",
        "        \"\"\"\n",
        "        Рекурсивно строим дерево решений\n",
        "        Начинаем с корня node_id 0\n",
        "        \"\"\"\n",
        "        self.num_class = np.unique(y).size\n",
        "        self.__fit_node(x, y, 0, 0)\n",
        "\n",
        "    def __predict_class(self, x, node_id):\n",
        "        \"\"\"\n",
        "        Рекурсивно обходим дерево по всем узлам,\n",
        "        пока не дойдем до терминального\n",
        "        \"\"\"\n",
        "        node = self.tree[node_id]\n",
        "        if node[0] == self.__class__.NON_LEAF_TYPE:\n",
        "            _, feature_id, threshold = node\n",
        "            if x[feature_id] > threshold:\n",
        "                return self.__predict_class(x, 2 * node_id + 1)\n",
        "            else:\n",
        "                return self.__predict_class(x, 2 * node_id + 2)\n",
        "        else:\n",
        "            return node[1]\n",
        "\n",
        "    def predict(self, X):\n",
        "        \"\"\"\n",
        "        Вызывает predict для всех объектов из матрицы X\n",
        "        \"\"\"\n",
        "        return np.array([self.__predict_class(x, 0) for x in X])\n",
        "\n",
        "    def fit_predict(self, x_train, y_train, predicted_x):\n",
        "        self.fit(x_train, y_train)\n",
        "        return self.predict(predicted_x)\n",
        "\n",
        "    def get_feature_importance(self):\n",
        "        \"\"\"\n",
        "        Возвращает важность признаков\n",
        "        \"\"\"\n",
        "        # Ваш код здесь\n",
        "        return dict(sorted(self.feature_importances_.items(), key=lambda item: item[1], reverse=True))"
      ]
    },
    {
      "cell_type": "code",
      "execution_count": 789,
      "metadata": {
        "id": "3WSw-gfmwCu8"
      },
      "outputs": [],
      "source": [
        "my_clf = MyDecisionTreeClassifier(min_samples_split=2)\n",
        "clf = DecisionTreeClassifier(min_samples_split=2)"
      ]
    },
    {
      "cell_type": "code",
      "execution_count": 790,
      "metadata": {
        "id": "xtnBB8MswCu8"
      },
      "outputs": [],
      "source": [
        "wine = load_wine()\n",
        "X_train, X_test, y_train, y_test = train_test_split(wine.data, wine.target, test_size=0.1, stratify=wine.target, random_state=1337)"
      ]
    },
    {
      "cell_type": "code",
      "source": [
        "clf.fit(X_train, y_train)\n",
        "my_clf.fit(X_train, y_train)"
      ],
      "metadata": {
        "id": "kM3pjA078JkP"
      },
      "execution_count": 791,
      "outputs": []
    },
    {
      "cell_type": "code",
      "execution_count": 792,
      "metadata": {
        "id": "FV5LLVyFwCu8",
        "colab": {
          "base_uri": "https://localhost:8080/"
        },
        "outputId": "b77ace46-9334-4d3e-8bfb-19bb6f3bde95"
      },
      "outputs": [
        {
          "output_type": "stream",
          "name": "stdout",
          "text": [
            "0.8888888888888888\n",
            "0.8888888888888888\n"
          ]
        }
      ],
      "source": [
        "print(accuracy_score(y_pred=clf.predict(X_test), y_true=y_test))\n",
        "print(accuracy_score(y_pred=my_clf.predict(X_test), y_true=y_test))"
      ]
    },
    {
      "cell_type": "markdown",
      "metadata": {
        "id": "nY6hQBcNwCu8"
      },
      "source": [
        "Совет: Проверьте, что ваша реализация корректно работает с признаками в которых встречаются повторы.\n",
        "И подумайте, какие еще граничные случаи могут быть.\n",
        "Например, проверьте, что на таком примере ваша модель корректно работает:"
      ]
    },
    {
      "cell_type": "code",
      "execution_count": 807,
      "metadata": {
        "id": "QtF-SZyvwCu8",
        "colab": {
          "base_uri": "https://localhost:8080/"
        },
        "outputId": "c7135814-2edb-485b-be99-858a7259cee8"
      },
      "outputs": [
        {
          "output_type": "stream",
          "name": "stdout",
          "text": [
            "DEPTH: 1 \n",
            "\t\tTree: {0: (0, 1, 2.5), 1: (1, 1, 0.7142857142857143), 2: (1, 0, 1.0)} [0 0 0 1 1 1 1 1 1 1]\n",
            "DEPTH: 2 \n",
            "\t\tTree: {0: (0, 1, 2.5), 1: (0, 1, 6.5), 3: (1, 1, 1.0), 4: (1, 0, 0.5), 2: (1, 0, 1.0)} [0 0 0 0 0 0 0 1 1 1]\n",
            "DEPTH: 3 \n",
            "\t\tTree: {0: (0, 1, 2.5), 1: (0, 1, 6.5), 3: (1, 1, 1.0), 4: (0, 1, 4.5), 9: (1, 0, 1.0), 10: (1, 1, 1.0), 2: (1, 0, 1.0)} [0 0 0 0 0 1 1 1 1 1]\n",
            "DEPTH: 4 \n",
            "\t\tTree: {0: (0, 1, 2.5), 1: (0, 1, 6.5), 3: (1, 1, 1.0), 4: (0, 1, 4.5), 9: (1, 0, 1.0), 10: (1, 1, 1.0), 2: (1, 0, 1.0)} [0 0 0 0 0 1 1 1 1 1]\n"
          ]
        }
      ],
      "source": [
        "X = np.array([[1] * 10, [0, 1, 2, 5, 6, 3, 4, 7, 8, 9]]).T\n",
        "y = np.array([0, 0, 0, 0, 0, 1, 1, 1, 1, 1])\n",
        "for depth in range(1, 5):\n",
        "    my_clf = MyDecisionTreeClassifier(max_depth=depth)\n",
        "    my_clf.fit(X, y)\n",
        "    print(\"DEPTH:\", depth, \"\\n\\t\\tTree:\", my_clf.tree, my_clf.predict(X))"
      ]
    },
    {
      "cell_type": "markdown",
      "metadata": {
        "id": "qMJPtUcwwCu9"
      },
      "source": [
        "## Ускоряем дерево решений (2 балла)\n",
        "Добиться скорости работы на fit не медленнее чем в 10 раз sklearn на данных wine.\n",
        "Для этого используем numpy."
      ]
    },
    {
      "cell_type": "code",
      "execution_count": 801,
      "metadata": {
        "scrolled": true,
        "id": "bIVzwwR5wCu9",
        "colab": {
          "base_uri": "https://localhost:8080/",
          "height": 109
        },
        "outputId": "eba83fd5-5ed7-4f8e-d612-68cefdb8a37e"
      },
      "outputs": [
        {
          "output_type": "stream",
          "name": "stdout",
          "text": [
            "CPU times: user 3.26 ms, sys: 0 ns, total: 3.26 ms\n",
            "Wall time: 3.18 ms\n"
          ]
        },
        {
          "output_type": "execute_result",
          "data": {
            "text/plain": [
              "DecisionTreeClassifier()"
            ],
            "text/html": [
              "<style>#sk-container-id-93 {color: black;background-color: white;}#sk-container-id-93 pre{padding: 0;}#sk-container-id-93 div.sk-toggleable {background-color: white;}#sk-container-id-93 label.sk-toggleable__label {cursor: pointer;display: block;width: 100%;margin-bottom: 0;padding: 0.3em;box-sizing: border-box;text-align: center;}#sk-container-id-93 label.sk-toggleable__label-arrow:before {content: \"▸\";float: left;margin-right: 0.25em;color: #696969;}#sk-container-id-93 label.sk-toggleable__label-arrow:hover:before {color: black;}#sk-container-id-93 div.sk-estimator:hover label.sk-toggleable__label-arrow:before {color: black;}#sk-container-id-93 div.sk-toggleable__content {max-height: 0;max-width: 0;overflow: hidden;text-align: left;background-color: #f0f8ff;}#sk-container-id-93 div.sk-toggleable__content pre {margin: 0.2em;color: black;border-radius: 0.25em;background-color: #f0f8ff;}#sk-container-id-93 input.sk-toggleable__control:checked~div.sk-toggleable__content {max-height: 200px;max-width: 100%;overflow: auto;}#sk-container-id-93 input.sk-toggleable__control:checked~label.sk-toggleable__label-arrow:before {content: \"▾\";}#sk-container-id-93 div.sk-estimator input.sk-toggleable__control:checked~label.sk-toggleable__label {background-color: #d4ebff;}#sk-container-id-93 div.sk-label input.sk-toggleable__control:checked~label.sk-toggleable__label {background-color: #d4ebff;}#sk-container-id-93 input.sk-hidden--visually {border: 0;clip: rect(1px 1px 1px 1px);clip: rect(1px, 1px, 1px, 1px);height: 1px;margin: -1px;overflow: hidden;padding: 0;position: absolute;width: 1px;}#sk-container-id-93 div.sk-estimator {font-family: monospace;background-color: #f0f8ff;border: 1px dotted black;border-radius: 0.25em;box-sizing: border-box;margin-bottom: 0.5em;}#sk-container-id-93 div.sk-estimator:hover {background-color: #d4ebff;}#sk-container-id-93 div.sk-parallel-item::after {content: \"\";width: 100%;border-bottom: 1px solid gray;flex-grow: 1;}#sk-container-id-93 div.sk-label:hover label.sk-toggleable__label {background-color: #d4ebff;}#sk-container-id-93 div.sk-serial::before {content: \"\";position: absolute;border-left: 1px solid gray;box-sizing: border-box;top: 0;bottom: 0;left: 50%;z-index: 0;}#sk-container-id-93 div.sk-serial {display: flex;flex-direction: column;align-items: center;background-color: white;padding-right: 0.2em;padding-left: 0.2em;position: relative;}#sk-container-id-93 div.sk-item {position: relative;z-index: 1;}#sk-container-id-93 div.sk-parallel {display: flex;align-items: stretch;justify-content: center;background-color: white;position: relative;}#sk-container-id-93 div.sk-item::before, #sk-container-id-93 div.sk-parallel-item::before {content: \"\";position: absolute;border-left: 1px solid gray;box-sizing: border-box;top: 0;bottom: 0;left: 50%;z-index: -1;}#sk-container-id-93 div.sk-parallel-item {display: flex;flex-direction: column;z-index: 1;position: relative;background-color: white;}#sk-container-id-93 div.sk-parallel-item:first-child::after {align-self: flex-end;width: 50%;}#sk-container-id-93 div.sk-parallel-item:last-child::after {align-self: flex-start;width: 50%;}#sk-container-id-93 div.sk-parallel-item:only-child::after {width: 0;}#sk-container-id-93 div.sk-dashed-wrapped {border: 1px dashed gray;margin: 0 0.4em 0.5em 0.4em;box-sizing: border-box;padding-bottom: 0.4em;background-color: white;}#sk-container-id-93 div.sk-label label {font-family: monospace;font-weight: bold;display: inline-block;line-height: 1.2em;}#sk-container-id-93 div.sk-label-container {text-align: center;}#sk-container-id-93 div.sk-container {/* jupyter's `normalize.less` sets `[hidden] { display: none; }` but bootstrap.min.css set `[hidden] { display: none !important; }` so we also need the `!important` here to be able to override the default hidden behavior on the sphinx rendered scikit-learn.org. See: https://github.com/scikit-learn/scikit-learn/issues/21755 */display: inline-block !important;position: relative;}#sk-container-id-93 div.sk-text-repr-fallback {display: none;}</style><div id=\"sk-container-id-93\" class=\"sk-top-container\"><div class=\"sk-text-repr-fallback\"><pre>DecisionTreeClassifier()</pre><b>In a Jupyter environment, please rerun this cell to show the HTML representation or trust the notebook. <br />On GitHub, the HTML representation is unable to render, please try loading this page with nbviewer.org.</b></div><div class=\"sk-container\" hidden><div class=\"sk-item\"><div class=\"sk-estimator sk-toggleable\"><input class=\"sk-toggleable__control sk-hidden--visually\" id=\"sk-estimator-id-93\" type=\"checkbox\" checked><label for=\"sk-estimator-id-93\" class=\"sk-toggleable__label sk-toggleable__label-arrow\">DecisionTreeClassifier</label><div class=\"sk-toggleable__content\"><pre>DecisionTreeClassifier()</pre></div></div></div></div></div>"
            ]
          },
          "metadata": {},
          "execution_count": 801
        }
      ],
      "source": [
        "%time clf.fit(X_train, y_train)"
      ]
    },
    {
      "cell_type": "code",
      "execution_count": 802,
      "metadata": {
        "id": "Ae_iRgLzwCu9",
        "colab": {
          "base_uri": "https://localhost:8080/"
        },
        "outputId": "0387c6d3-9d5a-43b7-ec03-e7fa9da2881b"
      },
      "outputs": [
        {
          "output_type": "stream",
          "name": "stdout",
          "text": [
            "CPU times: user 16.8 ms, sys: 0 ns, total: 16.8 ms\n",
            "Wall time: 18 ms\n"
          ]
        }
      ],
      "source": [
        "%time my_clf.fit(X_train, y_train)"
      ]
    },
    {
      "cell_type": "code",
      "execution_count": null,
      "metadata": {
        "id": "IKeviGybwCu9"
      },
      "outputs": [],
      "source": []
    },
    {
      "cell_type": "markdown",
      "metadata": {
        "id": "YzoM2UiIwCu9"
      },
      "source": [
        "## Боевое применение (3 балла)\n",
        "\n",
        "На практике Вы познакомились с датасетом Speed Dating Data. В нем каждая пара в быстрых свиданиях характеризуется определенным набором признаков. Задача -- предсказать, произойдет ли матч пары (колонка match).\n",
        "\n",
        "Данные и описания колонок во вложениях.\n",
        "\n",
        "Пример работы с датасетом можете найти в практике пункт 2\n",
        "https://github.com/VVVikulin/ml1.sphere/blob/master/2019-09/lecture_06/pract-trees.ipynb\n",
        "\n",
        "Либо воспользоваться функцией:"
      ]
    },
    {
      "cell_type": "code",
      "execution_count": 808,
      "metadata": {
        "id": "xaKMLI86wCu9"
      },
      "outputs": [],
      "source": [
        "def preprocess_spd_data(df):\n",
        "    df = df.iloc[:, :97]\n",
        "\n",
        "    to_drop = [\n",
        "        'id', 'idg', 'condtn', 'round', 'position', 'positin1', 'order', 'partner',\n",
        "        'age_o', 'race_o', 'pf_o_att', 'pf_o_sin', 'pf_o_int', 'pf_o_fun', 'pf_o_amb', 'pf_o_sha',\n",
        "        'dec_o', 'attr_o', 'sinc_o', 'intel_o', 'fun_o', 'amb_o', 'shar_o', 'like_o', 'prob_o','met_o',\n",
        "        'field', 'undergra', 'from', 'zipcode', 'income', 'career', 'sports', 'tvsports', 'exercise',\n",
        "        'dining', 'museums', 'art', 'hiking', 'gaming', 'clubbing', 'reading', 'tv', 'theater', 'movies',\n",
        "        'concerts', 'music', 'shopping', 'yoga', 'expnum',\n",
        "        'mn_sat', 'tuition'\n",
        "    ]\n",
        "\n",
        "    df = df.drop(to_drop, axis=1)\n",
        "    df = df.dropna(subset=['age', 'imprelig', 'imprace', 'date'])\n",
        "\n",
        "    df.loc[:, 'field_cd'] = df.loc[:, 'field_cd'].fillna(19)\n",
        "    df.loc[:, 'career_c'] = df.loc[:, 'career_c'].fillna(18)\n",
        "\n",
        "    # attr1 processing\n",
        "    df.loc[:, 'temp_totalsum'] = df.loc[:, ['attr1_1', 'sinc1_1', 'intel1_1', 'fun1_1',\n",
        "                                            'amb1_1', 'shar1_1']].sum(axis=1)\n",
        "    df.loc[:, ['attr1_1', 'sinc1_1', 'intel1_1', 'fun1_1', 'amb1_1', 'shar1_1']] =\\\n",
        "    (df.loc[:, ['attr1_1', 'sinc1_1', 'intel1_1', 'fun1_1', 'amb1_1', 'shar1_1']].T /\n",
        "     df.loc[:, 'temp_totalsum'].T).T * 100\n",
        "\n",
        "    # attr2 processing\n",
        "    df.loc[:, 'temp_totalsum'] = df.loc[:, ['attr2_1', 'sinc2_1', 'intel2_1', 'fun2_1',\n",
        "                                            'amb2_1', 'shar2_1']].sum(axis=1)\n",
        "    df.loc[:, ['attr2_1', 'sinc2_1', 'intel2_1', 'fun2_1', 'amb2_1', 'shar2_1']] =\\\n",
        "    (df.loc[:, ['attr2_1', 'sinc2_1', 'intel2_1', 'fun2_1', 'amb2_1', 'shar2_1']].T /\n",
        "     df.loc[:, 'temp_totalsum'].T).T * 100\n",
        "    df = df.drop(['temp_totalsum'], axis=1)\n",
        "\n",
        "    for i in [4, 5]:\n",
        "        feat = ['attr{}_1'.format(i), 'sinc{}_1'.format(i),\n",
        "                'intel{}_1'.format(i), 'fun{}_1'.format(i),\n",
        "                'amb{}_1'.format(i), 'shar{}_1'.format(i)]\n",
        "\n",
        "        if i != 4:\n",
        "            feat.remove('shar{}_1'.format(i))\n",
        "\n",
        "        df = df.drop(feat, axis=1)\n",
        "\n",
        "    df = df.drop(['wave'], axis=1)\n",
        "    df = df.dropna()\n",
        "    return df"
      ]
    },
    {
      "cell_type": "markdown",
      "metadata": {
        "id": "DsBr6NIUwCu-"
      },
      "source": [
        "Скачайте датасет, обработайте данные, как показано на семинаре или своим собственным способом. Обучите дерево классифкации. В качестве таргета возьмите колонку 'match'. Постарайтесь хорошо обработать признаки, чтобы выбить максимальную точность. Если точность будет близка к случайному гаданию, задание не будет защитано. В качестве метрики можно взять roc-auc.\n"
      ]
    },
    {
      "cell_type": "code",
      "execution_count": 819,
      "metadata": {
        "id": "BwEt2NVzwCu-",
        "colab": {
          "base_uri": "https://localhost:8080/"
        },
        "outputId": "18133468-3610-4e3f-c61f-520f83764ec7"
      },
      "outputs": [
        {
          "output_type": "execute_result",
          "data": {
            "text/plain": [
              "(array([0, 1]), array([6775, 1329]))"
            ]
          },
          "metadata": {},
          "execution_count": 819
        }
      ],
      "source": [
        "df = pd.read_csv('/content/sample_data/Speed_Dating_Data.csv', encoding='latin1')\n",
        "df = preprocess_spd_data(df)\n",
        "np.unique(df['match'], return_counts=True)"
      ]
    },
    {
      "cell_type": "code",
      "source": [
        "X = df.drop('match', axis=1).to_numpy()\n",
        "y = df['match'].to_numpy()"
      ],
      "metadata": {
        "id": "5L0F34O4VnXX"
      },
      "execution_count": 820,
      "outputs": []
    },
    {
      "cell_type": "code",
      "source": [
        "from imblearn.over_sampling import SMOTE\n",
        "\n",
        "overSampler = SMOTE(random_state=1337)\n",
        "X, y = overSampler.fit_resample(X, y)\n",
        "\n",
        "print(np.unique(y, return_counts=True))\n",
        "\n",
        "# from imblearn.under_sampling import RandomUnderSampler\n",
        "\n",
        "# rus = RandomUnderSampler(random_state=0)\n",
        "# X_reduced, y_reduced = rus.fit_resample(X, y)\n",
        "\n",
        "# print(X_reduced.shape, y_reduced.shape)\n",
        "\n",
        "# np.unique(y_reduced, return_counts=True)"
      ],
      "metadata": {
        "colab": {
          "base_uri": "https://localhost:8080/"
        },
        "id": "YR3xLCj0NwhF",
        "outputId": "eedde540-b225-4541-dbb1-c9af6cd80839"
      },
      "execution_count": 821,
      "outputs": [
        {
          "output_type": "stream",
          "name": "stdout",
          "text": [
            "(array([0, 1]), array([6775, 6775]))\n"
          ]
        }
      ]
    },
    {
      "cell_type": "code",
      "source": [
        "X_train, X_test, y_train, y_test = train_test_split(X, y, test_size=0.3, random_state=123, stratify=y)"
      ],
      "metadata": {
        "id": "uuiLn84JLy6k"
      },
      "execution_count": 822,
      "outputs": []
    },
    {
      "cell_type": "code",
      "source": [
        "my_clf = MyDecisionTreeClassifier(min_samples_split=2, max_depth=5)\n",
        "my_clf.fit(X_train, y_train)\n",
        "\n",
        "clf = DecisionTreeClassifier(min_samples_split=2, max_depth=5)\n",
        "clf.fit(X_train, y_train)"
      ],
      "metadata": {
        "colab": {
          "base_uri": "https://localhost:8080/",
          "height": 75
        },
        "id": "xwaCYLneVxkB",
        "outputId": "81dd998c-a14d-4138-af7d-64846556b26f"
      },
      "execution_count": 823,
      "outputs": [
        {
          "output_type": "execute_result",
          "data": {
            "text/plain": [
              "DecisionTreeClassifier(max_depth=5)"
            ],
            "text/html": [
              "<style>#sk-container-id-95 {color: black;background-color: white;}#sk-container-id-95 pre{padding: 0;}#sk-container-id-95 div.sk-toggleable {background-color: white;}#sk-container-id-95 label.sk-toggleable__label {cursor: pointer;display: block;width: 100%;margin-bottom: 0;padding: 0.3em;box-sizing: border-box;text-align: center;}#sk-container-id-95 label.sk-toggleable__label-arrow:before {content: \"▸\";float: left;margin-right: 0.25em;color: #696969;}#sk-container-id-95 label.sk-toggleable__label-arrow:hover:before {color: black;}#sk-container-id-95 div.sk-estimator:hover label.sk-toggleable__label-arrow:before {color: black;}#sk-container-id-95 div.sk-toggleable__content {max-height: 0;max-width: 0;overflow: hidden;text-align: left;background-color: #f0f8ff;}#sk-container-id-95 div.sk-toggleable__content pre {margin: 0.2em;color: black;border-radius: 0.25em;background-color: #f0f8ff;}#sk-container-id-95 input.sk-toggleable__control:checked~div.sk-toggleable__content {max-height: 200px;max-width: 100%;overflow: auto;}#sk-container-id-95 input.sk-toggleable__control:checked~label.sk-toggleable__label-arrow:before {content: \"▾\";}#sk-container-id-95 div.sk-estimator input.sk-toggleable__control:checked~label.sk-toggleable__label {background-color: #d4ebff;}#sk-container-id-95 div.sk-label input.sk-toggleable__control:checked~label.sk-toggleable__label {background-color: #d4ebff;}#sk-container-id-95 input.sk-hidden--visually {border: 0;clip: rect(1px 1px 1px 1px);clip: rect(1px, 1px, 1px, 1px);height: 1px;margin: -1px;overflow: hidden;padding: 0;position: absolute;width: 1px;}#sk-container-id-95 div.sk-estimator {font-family: monospace;background-color: #f0f8ff;border: 1px dotted black;border-radius: 0.25em;box-sizing: border-box;margin-bottom: 0.5em;}#sk-container-id-95 div.sk-estimator:hover {background-color: #d4ebff;}#sk-container-id-95 div.sk-parallel-item::after {content: \"\";width: 100%;border-bottom: 1px solid gray;flex-grow: 1;}#sk-container-id-95 div.sk-label:hover label.sk-toggleable__label {background-color: #d4ebff;}#sk-container-id-95 div.sk-serial::before {content: \"\";position: absolute;border-left: 1px solid gray;box-sizing: border-box;top: 0;bottom: 0;left: 50%;z-index: 0;}#sk-container-id-95 div.sk-serial {display: flex;flex-direction: column;align-items: center;background-color: white;padding-right: 0.2em;padding-left: 0.2em;position: relative;}#sk-container-id-95 div.sk-item {position: relative;z-index: 1;}#sk-container-id-95 div.sk-parallel {display: flex;align-items: stretch;justify-content: center;background-color: white;position: relative;}#sk-container-id-95 div.sk-item::before, #sk-container-id-95 div.sk-parallel-item::before {content: \"\";position: absolute;border-left: 1px solid gray;box-sizing: border-box;top: 0;bottom: 0;left: 50%;z-index: -1;}#sk-container-id-95 div.sk-parallel-item {display: flex;flex-direction: column;z-index: 1;position: relative;background-color: white;}#sk-container-id-95 div.sk-parallel-item:first-child::after {align-self: flex-end;width: 50%;}#sk-container-id-95 div.sk-parallel-item:last-child::after {align-self: flex-start;width: 50%;}#sk-container-id-95 div.sk-parallel-item:only-child::after {width: 0;}#sk-container-id-95 div.sk-dashed-wrapped {border: 1px dashed gray;margin: 0 0.4em 0.5em 0.4em;box-sizing: border-box;padding-bottom: 0.4em;background-color: white;}#sk-container-id-95 div.sk-label label {font-family: monospace;font-weight: bold;display: inline-block;line-height: 1.2em;}#sk-container-id-95 div.sk-label-container {text-align: center;}#sk-container-id-95 div.sk-container {/* jupyter's `normalize.less` sets `[hidden] { display: none; }` but bootstrap.min.css set `[hidden] { display: none !important; }` so we also need the `!important` here to be able to override the default hidden behavior on the sphinx rendered scikit-learn.org. See: https://github.com/scikit-learn/scikit-learn/issues/21755 */display: inline-block !important;position: relative;}#sk-container-id-95 div.sk-text-repr-fallback {display: none;}</style><div id=\"sk-container-id-95\" class=\"sk-top-container\"><div class=\"sk-text-repr-fallback\"><pre>DecisionTreeClassifier(max_depth=5)</pre><b>In a Jupyter environment, please rerun this cell to show the HTML representation or trust the notebook. <br />On GitHub, the HTML representation is unable to render, please try loading this page with nbviewer.org.</b></div><div class=\"sk-container\" hidden><div class=\"sk-item\"><div class=\"sk-estimator sk-toggleable\"><input class=\"sk-toggleable__control sk-hidden--visually\" id=\"sk-estimator-id-95\" type=\"checkbox\" checked><label for=\"sk-estimator-id-95\" class=\"sk-toggleable__label sk-toggleable__label-arrow\">DecisionTreeClassifier</label><div class=\"sk-toggleable__content\"><pre>DecisionTreeClassifier(max_depth=5)</pre></div></div></div></div></div>"
            ]
          },
          "metadata": {},
          "execution_count": 823
        }
      ]
    },
    {
      "cell_type": "code",
      "source": [
        "print(accuracy_score(y_pred=clf.predict(X_test), y_true=y_test))\n",
        "print(accuracy_score(y_pred=my_clf.predict(X_test), y_true=y_test))"
      ],
      "metadata": {
        "colab": {
          "base_uri": "https://localhost:8080/"
        },
        "id": "b9W0-NCrzK24",
        "outputId": "0012d3e7-51ee-4f1b-feb9-f66e6a2db28d"
      },
      "execution_count": 824,
      "outputs": [
        {
          "output_type": "stream",
          "name": "stdout",
          "text": [
            "0.6947109471094711\n",
            "0.6856088560885609\n"
          ]
        }
      ]
    },
    {
      "cell_type": "code",
      "source": [
        "def get_proba_from_tree(x, tree, node_id=0, positive_class=1):\n",
        "    node = tree[node_id]\n",
        "    if node[0] == MyDecisionTreeClassifier.LEAF_TYPE:\n",
        "        if node[1] == positive_class:\n",
        "            return node[2]\n",
        "        else:\n",
        "            return 1 - node[2]\n",
        "    feature_id, threshold = node[1], node[2]\n",
        "    if x[feature_id] > threshold:\n",
        "        return get_proba_from_tree(x, tree, 2 * node_id + 1, positive_class)\n",
        "    else:\n",
        "        return get_proba_from_tree(x, tree, 2 * node_id + 2, positive_class)\n",
        "\n",
        "y_probas = np.array([get_proba_from_tree(xi, my_clf.tree) for xi in X_test])"
      ],
      "metadata": {
        "id": "WKtNTgb65m-S"
      },
      "execution_count": 825,
      "outputs": []
    },
    {
      "cell_type": "code",
      "source": [
        "roc_auc_score(y_score=y_probas, y_true=y_test)"
      ],
      "metadata": {
        "colab": {
          "base_uri": "https://localhost:8080/"
        },
        "id": "uXsinjobK3nW",
        "outputId": "93d36f79-8923-44f4-f387-3b313d40ad06"
      },
      "execution_count": 826,
      "outputs": [
        {
          "output_type": "execute_result",
          "data": {
            "text/plain": [
              "0.7605952327927774"
            ]
          },
          "metadata": {},
          "execution_count": 826
        }
      ]
    },
    {
      "cell_type": "code",
      "source": [
        "np.unique(y_probas)"
      ],
      "metadata": {
        "id": "zPj8Dv8r7A9k"
      },
      "execution_count": null,
      "outputs": []
    },
    {
      "cell_type": "code",
      "source": [
        "y_probas_clf = clf.predict_proba(X_test)[:, 1]\n",
        "np.unique(y_probas_clf)"
      ],
      "metadata": {
        "id": "SOcdcG6X_QUV"
      },
      "execution_count": null,
      "outputs": []
    },
    {
      "cell_type": "code",
      "source": [
        "from sklearn.metrics import roc_curve, auc\n",
        "import matplotlib.pyplot as plt\n",
        "\n",
        "fpr, tpr, thresholds = roc_curve(y_test, y_probas)\n",
        "roc_auc = auc(fpr, tpr)\n",
        "\n",
        "plt.figure()\n",
        "plt.plot(fpr, tpr, color='darkorange', lw=2, label='ROC curve (area = %0.2f)' % roc_auc)\n",
        "plt.plot([0, 1], [0, 1], color='navy', lw=2, linestyle='--')\n",
        "plt.xlim([0.0, 1.0])\n",
        "plt.ylim([0.0, 1.05])\n",
        "plt.xlabel('False Positive Rate')\n",
        "plt.ylabel('True Positive Rate')\n",
        "plt.title('Receiver Operating Characteristic')\n",
        "plt.legend(loc=\"lower right\")\n",
        "plt.show()\n"
      ],
      "metadata": {
        "colab": {
          "base_uri": "https://localhost:8080/",
          "height": 472
        },
        "id": "ru5uOLRq6L9g",
        "outputId": "44ecd158-d316-4f31-fe06-e77cf4a42e86"
      },
      "execution_count": 829,
      "outputs": [
        {
          "output_type": "display_data",
          "data": {
            "text/plain": [
              "<Figure size 640x480 with 1 Axes>"
            ],
            "image/png": "[encoded data removed]"
          },
          "metadata": {}
        }
      ]
    },
    {
      "cell_type": "markdown",
      "metadata": {
        "id": "rE6Au-oJwCu-"
      },
      "source": [
        "Разбейте датасет на трейн и валидацию. Подберите на валидации оптимальный критерий  информативности.\n",
        "Постройте графики зависимости точности на валидации и трейне от глубины дерева, от минимального числа объектов для сплита. (Т.е должно быть 2 графика, на каждой должны быть 2 кривые - для трейна и валидации)\n",
        "Какой максимальной точности удалось достигнуть?"
      ]
    },
    {
      "cell_type": "code",
      "execution_count": 830,
      "metadata": {
        "id": "WQYBvULowCu-",
        "colab": {
          "base_uri": "https://localhost:8080/"
        },
        "outputId": "3dcd0678-12b3-429d-9c11-24605e6f1f81"
      },
      "outputs": [
        {
          "output_type": "stream",
          "name": "stdout",
          "text": [
            "roc_auc_score on Test: 0.7605952327927774, accuracy_score on Test: 0.6856088560885609\n"
          ]
        }
      ],
      "source": [
        "my_clf_G = MyDecisionTreeClassifier(min_samples_split=2, max_depth=5, criterion='gini')\n",
        "my_clf_G.fit(X_train, y_train)\n",
        "y_probas = np.array([get_proba_from_tree(xi, my_clf_G.tree) for xi in X_test])\n",
        "print(f'roc_auc_score on Test: {roc_auc_score(y_score=y_probas, y_true=y_test)}, accuracy_score on Test: {accuracy_score(y_pred=my_clf_G.predict(X_test), y_true=y_test)}')"
      ]
    },
    {
      "cell_type": "code",
      "execution_count": 831,
      "metadata": {
        "id": "L0OkYZrfwCu-",
        "colab": {
          "base_uri": "https://localhost:8080/"
        },
        "outputId": "14a380b2-9f10-4965-e5eb-462c8cc4e63e"
      },
      "outputs": [
        {
          "output_type": "stream",
          "name": "stdout",
          "text": [
            "roc_auc_score on Test: 0.7570484399146367, accuracy_score on Test: 0.6853628536285363\n"
          ]
        }
      ],
      "source": [
        "my_clf_E = MyDecisionTreeClassifier(min_samples_split=2, max_depth=5, criterion='entropy')\n",
        "my_clf_E.fit(X_train, y_train)\n",
        "y_probas = np.array([get_proba_from_tree(xi, my_clf_E.tree) for xi in X_test])\n",
        "print(f'roc_auc_score on Test: {roc_auc_score(y_score=y_probas, y_true=y_test)}, accuracy_score on Test: {accuracy_score(y_pred=my_clf_E.predict(X_test), y_true=y_test)}')"
      ]
    },
    {
      "cell_type": "code",
      "source": [
        "my_clf_miner = MyDecisionTreeClassifier(min_samples_split=2, max_depth=5, criterion='min_error')\n",
        "my_clf_miner.fit(X_train, y_train)\n",
        "y_probas = np.array([get_proba_from_tree(xi, my_clf_miner.tree) for xi in X_test])\n",
        "print(f'roc_auc_score on Test: {roc_auc_score(y_score=y_probas, y_true=y_test)}, accuracy_score on Test: {accuracy_score(y_pred=my_clf_miner.predict(X_test), y_true=y_test)}')"
      ],
      "metadata": {
        "colab": {
          "base_uri": "https://localhost:8080/"
        },
        "id": "FK7Smko51CXm",
        "outputId": "56e77ea0-ea20-43f1-bd41-cc65a5d2ef86"
      },
      "execution_count": 832,
      "outputs": [
        {
          "output_type": "stream",
          "name": "stdout",
          "text": [
            "roc_auc_score on Test: 0.7351700146403243, accuracy_score on Test: 0.7025830258302583\n"
          ]
        }
      ]
    },
    {
      "cell_type": "code",
      "source": [
        "dephts_list = range(1, 17)\n",
        "\n",
        "train_accuracy = []\n",
        "test_accuracy = []\n",
        "\n",
        "train_roc_auc = []\n",
        "test_roc_auc = []\n",
        "\n",
        "for depth in dephts_list:\n",
        "    my_clf = MyDecisionTreeClassifier(min_samples_split=2, max_depth=depth, criterion='gini')\n",
        "    my_clf.fit(X_train, y_train)\n",
        "\n",
        "    y_train_probas = np.array([get_proba_from_tree(xi, my_clf.tree) for xi in X_train])\n",
        "    y_test_probas = np.array([get_proba_from_tree(xi, my_clf.tree) for xi in X_test])\n",
        "\n",
        "    train_accuracy.append(accuracy_score(y_pred=my_clf.predict(X_train), y_true=y_train))\n",
        "    test_accuracy.append(accuracy_score(y_pred=my_clf.predict(X_test), y_true=y_test))\n",
        "\n",
        "    train_roc_auc.append(roc_auc_score(y_score=y_train_probas, y_true=y_train))\n",
        "    test_roc_auc.append(roc_auc_score(y_score=y_test_probas, y_true=y_test))\n",
        "\n",
        "\n",
        "plt.figure(figsize=(15, 6))\n",
        "\n",
        "plt.subplot(1, 2, 1)\n",
        "plt.title(\"The dependence of Accuracy on Max Depth\")\n",
        "plt.xlabel(r\"$Depth$\")\n",
        "plt.ylabel(r\"Accuracy\")\n",
        "plt.plot(dephts_list, train_accuracy, label='Train')\n",
        "plt.plot(dephts_list, test_accuracy, label='Test')\n",
        "plt.legend()\n",
        "\n",
        "plt.subplot(1, 2, 2)\n",
        "plt.title(\"The dependence of ROC AUC score on Max Depth\")\n",
        "plt.xlabel(r\"$Depth$\")\n",
        "plt.ylabel(r\"ROC AUC score\")\n",
        "plt.plot(dephts_list, train_roc_auc, label='Train')\n",
        "plt.plot(dephts_list, test_roc_auc, label='Test')\n",
        "plt.legend()"
      ],
      "metadata": {
        "colab": {
          "base_uri": "https://localhost:8080/",
          "height": 585
        },
        "id": "F9KlcCFE2yP-",
        "outputId": "4b64e79c-8969-44d3-be37-e104886802bc"
      },
      "execution_count": 834,
      "outputs": [
        {
          "output_type": "execute_result",
          "data": {
            "text/plain": [
              "<matplotlib.legend.Legend at 0x7a2fafb744f0>"
            ]
          },
          "metadata": {},
          "execution_count": 834
        },
        {
          "output_type": "display_data",
          "data": {
            "text/plain": [
              "<Figure size 1500x600 with 2 Axes>"
            ],
            "image/png": "[encoded data removed]"
          },
          "metadata": {}
        }
      ]
    },
    {
      "cell_type": "code",
      "source": [
        "split_list = range(2, 30, 2)\n",
        "\n",
        "train_accuracy = []\n",
        "test_accuracy = []\n",
        "\n",
        "train_roc_auc = []\n",
        "test_roc_auc = []\n",
        "\n",
        "for samples in split_list:\n",
        "    my_clf = MyDecisionTreeClassifier(min_samples_split=samples, max_depth=15, criterion='gini')\n",
        "    my_clf.fit(X_train, y_train)\n",
        "\n",
        "    y_train_probas = np.array([get_proba_from_tree(xi, my_clf.tree) for xi in X_train])\n",
        "    y_test_probas = np.array([get_proba_from_tree(xi, my_clf.tree) for xi in X_test])\n",
        "\n",
        "    train_accuracy.append(accuracy_score(y_pred=my_clf.predict(X_train), y_true=y_train))\n",
        "    test_accuracy.append(accuracy_score(y_pred=my_clf.predict(X_test), y_true=y_test))\n",
        "\n",
        "    train_roc_auc.append(roc_auc_score(y_score=y_train_probas, y_true=y_train))\n",
        "    test_roc_auc.append(roc_auc_score(y_score=y_test_probas, y_true=y_test))\n",
        "\n",
        "\n",
        "plt.figure(figsize=(15, 6))\n",
        "\n",
        "plt.subplot(1, 2, 1)\n",
        "plt.title(\"The dependence of Accuracy on Min Samples Split\")\n",
        "plt.xlabel(r\"$Samples$\")\n",
        "plt.ylabel(r\"Accuracy\")\n",
        "plt.plot(split_list, train_accuracy, label='Train')\n",
        "plt.plot(split_list, test_accuracy, label='Test')\n",
        "plt.legend()\n",
        "\n",
        "plt.subplot(1, 2, 2)\n",
        "plt.title(\"The dependence of ROC AUC score on Min Samples Split\")\n",
        "plt.xlabel(r\"$Samples$\")\n",
        "plt.ylabel(r\"ROC AUC score\")\n",
        "plt.plot(split_list, train_roc_auc, label='Train')\n",
        "plt.plot(split_list, test_roc_auc, label='Test')\n",
        "plt.legend()"
      ],
      "metadata": {
        "colab": {
          "base_uri": "https://localhost:8080/",
          "height": 585
        },
        "id": "NXFKRazK-XPG",
        "outputId": "455a970f-840e-434c-c496-7436c7793a19"
      },
      "execution_count": 835,
      "outputs": [
        {
          "output_type": "execute_result",
          "data": {
            "text/plain": [
              "<matplotlib.legend.Legend at 0x7a2faf9a48e0>"
            ]
          },
          "metadata": {},
          "execution_count": 835
        },
        {
          "output_type": "display_data",
          "data": {
            "text/plain": [
              "<Figure size 1500x600 with 2 Axes>"
            ],
            "image/png": "[encoded data removed]"
          },
          "metadata": {}
        }
      ]
    },
    {
      "cell_type": "code",
      "source": [
        "best_clf = MyDecisionTreeClassifier(min_samples_split=20, max_depth=15, criterion='gini')\n",
        "best_clf.fit(X_train, y_train)\n",
        "y_probas = np.array([get_proba_from_tree(xi, best_clf.tree) for xi in X_test])\n",
        "print(f'roc_auc_score on Test: {roc_auc_score(y_score=y_probas, y_true=y_test)}, accuracy_score on Test: {accuracy_score(y_pred=best_clf.predict(X_test), y_true=y_test)}')"
      ],
      "metadata": {
        "colab": {
          "base_uri": "https://localhost:8080/"
        },
        "id": "8iqHlupHAlC2",
        "outputId": "d73df54e-2d11-4833-f246-24a02cd4e2a9"
      },
      "execution_count": 836,
      "outputs": [
        {
          "output_type": "stream",
          "name": "stdout",
          "text": [
            "roc_auc_score on Test: 0.8657567217679935, accuracy_score on Test: 0.7928659286592866\n"
          ]
        }
      ]
    },
    {
      "cell_type": "markdown",
      "source": [
        "__Ответ__: оптимальным критерием информативности оказался критерий Джини. Оптимальным параметром максимальной глубины оказалось значение 15, для минимального числа объектов для сплита - 20. При таких значения гиперпараметров: Accuracy = 0.79, roc-auc = 0.87."
      ],
      "metadata": {
        "id": "dbpkO9jU1aXn"
      }
    },
    {
      "cell_type": "markdown",
      "metadata": {
        "id": "nJL1RVEvwCu-"
      },
      "source": [
        "Известным фактом является то, что деревья решений сильно переобучаются при увеличении глубины и просто запоминают трейн.\n",
        "Замечаете ли вы такой эффект судя по графикам? Что при этом происходит с качеством на валидации?"
      ]
    },
    {
      "cell_type": "markdown",
      "source": [
        "__Ответ__: на графиках зависимости качества от максимальной глубины дерева видно, что при большой глубине (>20) качество на train части датасета растёт, а на test части (валидации) начинает падать. Это признак переобучения."
      ],
      "metadata": {
        "id": "06wDDaVcBqWS"
      }
    },
    {
      "cell_type": "markdown",
      "metadata": {
        "id": "wwu2pqTHwCu-"
      },
      "source": [
        "## Находим самые важные признаки (2 балла)\n",
        "\n"
      ]
    },
    {
      "cell_type": "markdown",
      "metadata": {
        "id": "gv3BSJctwCu_"
      },
      "source": [
        "По построенному дереву  легко понять, какие признаки лучше всего помогли решить задачу. Часто это бывает нужно  не только  для сокращения размерности в данных, но и для лучшего понимания прикладной задачи. Например, Вы хотите понять, какие признаки стоит еще конструировать -- для этого нужно понимать, какие из текущих лучше всего работают в дереве."
      ]
    },
    {
      "cell_type": "markdown",
      "metadata": {
        "id": "U2-o_Tf-wCu_"
      },
      "source": [
        "Самый простой метод -- посчитать число сплитов, где использовался данные признак. Это не лучший вариант, так как по признаку который принимает всего 2 значения, но который почти точно разделяет выборку, число сплитов будет очень 1, но при этом признак сам очень хороший.\n",
        "В этом задании предлагается для каждого признака считать суммарный gain (в лекции обозначено как Q) при использовании этого признака в сплите. Тогда даже у очень хороших признаков с маленьким число сплитов это значение должно быть довольно высоким.  "
      ]
    },
    {
      "cell_type": "markdown",
      "metadata": {
        "id": "_WiVzuSrwCu_"
      },
      "source": [
        "Реализовать это довольно просто: создаете словарь номер фичи : суммарный гейн и добавляете в нужную фичу каждый раз, когда используете ее при построении дерева."
      ]
    },
    {
      "cell_type": "markdown",
      "metadata": {
        "id": "GSRVbpJQwCu_"
      },
      "source": [
        "Добавьте функционал, который определяет значения feature importance. Обучите дерево на датасете Speed Dating Data.\n",
        "Выведите 10 главных фичей по важности."
      ]
    },
    {
      "cell_type": "code",
      "execution_count": 877,
      "metadata": {
        "id": "I_2LLj0zwCu_"
      },
      "outputs": [],
      "source": [
        "best_clf = MyDecisionTreeClassifier(min_samples_split=20, max_depth=15, criterion='gini')\n",
        "best_clf.fit(X_train, y_train)"
      ]
    },
    {
      "cell_type": "code",
      "source": [
        "best_clf.get_feature_importance()"
      ],
      "metadata": {
        "colab": {
          "base_uri": "https://localhost:8080/"
        },
        "id": "y_Nm7gA3cS4g",
        "outputId": "c021058a-f005-4fc3-b466-6b876d2f9058"
      },
      "execution_count": 878,
      "outputs": [
        {
          "output_type": "execute_result",
          "data": {
            "text/plain": [
              "{3: 3.2374426967263608,\n",
              " 2: 1.8165162620051656,\n",
              " 11: 1.2126891841137915,\n",
              " 5: 1.1203875583936822,\n",
              " 0: 0.8940665368593192,\n",
              " 18: 0.8613235933006145,\n",
              " 19: 0.7889085428513802,\n",
              " 6: 0.7811321636179209,\n",
              " 27: 0.6952344444357464,\n",
              " 9: 0.6926927532070144,\n",
              " 7: 0.6684550656274629,\n",
              " 15: 0.6426025952788621,\n",
              " 13: 0.6243110300994239,\n",
              " 21: 0.621507031524513,\n",
              " 10: 0.5854127581473026,\n",
              " 14: 0.5607545748909841,\n",
              " 30: 0.5528027985544575,\n",
              " 12: 0.5284437110274591,\n",
              " 8: 0.4627160739171411,\n",
              " 24: 0.4159366327352192,\n",
              " 17: 0.39513514155689083,\n",
              " 22: 0.39393084679309615,\n",
              " 23: 0.3937797579631071,\n",
              " 1: 0.3899836071898032,\n",
              " 26: 0.2840363433270219,\n",
              " 31: 0.2771600792389046,\n",
              " 28: 0.270493555878072,\n",
              " 16: 0.2662729309609523,\n",
              " 25: 0.24722968389348207,\n",
              " 20: 0.20471380667424297,\n",
              " 4: 0.1875787018703748,\n",
              " 29: 0.18680766529944676}"
            ]
          },
          "metadata": {},
          "execution_count": 878
        }
      ]
    },
    {
      "cell_type": "code",
      "execution_count": 879,
      "metadata": {
        "id": "rTyrTg9BwCu_",
        "colab": {
          "base_uri": "https://localhost:8080/"
        },
        "outputId": "7a26403b-8fd2-47e2-ef3c-4a7b2a92a38b"
      },
      "outputs": [
        {
          "output_type": "execute_result",
          "data": {
            "text/plain": [
              "Index(['int_corr', 'pid', 'date', 'age', 'iid', 'fun1_1', 'amb1_1', 'field_cd',\n",
              "       'attr3_1', 'imprelig'],\n",
              "      dtype='object')"
            ]
          },
          "metadata": {},
          "execution_count": 879
        }
      ],
      "source": [
        "df.drop('match', axis=1).columns[list(best_clf.get_feature_importance().keys())][:10]"
      ]
    },
    {
      "cell_type": "markdown",
      "metadata": {
        "id": "DowZ_Gl9wCu_"
      },
      "source": [
        "## Фидбек (бесценно)"
      ]
    },
    {
      "cell_type": "markdown",
      "metadata": {
        "id": "PGSkupLywCu_"
      },
      "source": [
        "* Какие аспекты обучения деревьев решений Вам показались непонятными? Какое место стоит дополнительно объяснить?"
      ]
    },
    {
      "cell_type": "markdown",
      "metadata": {
        "id": "-v7S_YwSwCvA"
      },
      "source": [
        "### Ваш ответ здесь"
      ]
    },
    {
      "cell_type": "markdown",
      "metadata": {
        "id": "fsk2LfEOwCvA"
      },
      "source": [
        "* Здесь Вы можете оставить отзыв о этой домашней работе или о всем курсе."
      ]
    },
    {
      "cell_type": "markdown",
      "metadata": {
        "id": "NhGuZ_aWwCvA"
      },
      "source": [
        "### ВАШ ОТЗЫВ ЗДЕСЬ\n",
        "\n"
      ]
    },
    {
      "cell_type": "code",
      "execution_count": null,
      "metadata": {
        "collapsed": true,
        "jupyter": {
          "outputs_hidden": true
        },
        "id": "hVvV4IWswCvA"
      },
      "outputs": [],
      "source": []
    },
    {
      "cell_type": "code",
      "execution_count": null,
      "metadata": {
        "collapsed": true,
        "jupyter": {
          "outputs_hidden": true
        },
        "id": "_R2mCQprwCvA"
      },
      "outputs": [],
      "source": []
    }
  ],
  "metadata": {
    "anaconda-cloud": {},
    "kernelspec": {
      "display_name": "Python 3 (ipykernel)",
      "language": "python",
      "name": "python3"
    },
    "language_info": {
      "codemirror_mode": {
        "name": "ipython",
        "version": 3
      },
      "file_extension": ".py",
      "mimetype": "text/x-python",
      "name": "python",
      "nbconvert_exporter": "python",
      "pygments_lexer": "ipython3",
      "version": "3.9.13"
    },
    "colab": {
      "provenance": []
    }
  },
  "nbformat": 4,
  "nbformat_minor": 0
}