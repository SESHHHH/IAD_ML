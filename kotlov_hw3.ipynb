{
  "cells": [
    {
      "cell_type": "markdown",
      "metadata": {
        "id": "Az5lzs1vIY8E"
      },
      "source": [
        "### Машинное обучение\n",
        "## Домашнее задание №3 - Градиентный бустинг"
      ]
    },
    {
      "cell_type": "markdown",
      "metadata": {
        "id": "-xy0wuDRIY8F"
      },
      "source": [
        "**Общая информация**\n",
        "\n",
        "**Срок сдачи:** 14 мая 2024, 23:59   \n",
        "**Штраф за опоздание:** -2 балла за каждые сутки\n",
        "\n",
        "Используйте данный Ipython Notebook при оформлении домашнего задания."
      ]
    },
    {
      "cell_type": "markdown",
      "metadata": {
        "id": "KoiwRo6xIY8G"
      },
      "source": [
        "##  Считаем производные для функций потерь (1 балл)"
      ]
    },
    {
      "cell_type": "markdown",
      "metadata": {
        "id": "JsepQdhLIY8G"
      },
      "source": [
        "Мы будем реализовать градиентный бустинг для 3 функций потерь:\n",
        "\n",
        "1) MSE  $L(a(x_i), y_i) = (y_i - a(x_i)) ^ 2$\n",
        "\n",
        "2) Экспоненциальная  $L(a(x_i), y_i) = exp( -a(x_i) y_i), y_i \\in \\{-1, 1\\}$\n",
        "\n",
        "3) Логистическая  $L(a(x_i), y_i) = \\log (1 + exp( -a(x_i) y_i)), y_i \\in \\{-1, 1\\}$\n",
        "\n",
        "где $a(x_i)$ предсказание бустинга на итом объекте.\n",
        "\n",
        "Для каждой функции потерь напишите таргет, на который будет настраиваться каждое дерево в бустинге."
      ]
    },
    {
      "cell_type": "markdown",
      "metadata": {
        "id": "dTmxT4CeIY8G"
      },
      "source": [
        "Ваше решение тут\n",
        "\n",
        "y_hat = a(x) - предсказания предыдущих моделей"
      ]
    },
    {
      "cell_type": "code",
      "source": [
        "import numpy as np"
      ],
      "metadata": {
        "id": "rjKal7i_cNhm"
      },
      "execution_count": 1,
      "outputs": []
    },
    {
      "cell_type": "code",
      "source": [
        "def calculate_grad(y, y_hat, loss):\n",
        "    if loss == 'mse':\n",
        "        return y - y_hat\n",
        "    elif loss == 'exp':\n",
        "        return y * np.exp(-y * y_hat)\n",
        "    elif loss == 'logit':\n",
        "        return y / (1 + np.exp(y * y_hat))"
      ],
      "metadata": {
        "id": "xmaheprtYGN_"
      },
      "execution_count": 2,
      "outputs": []
    },
    {
      "cell_type": "markdown",
      "metadata": {
        "id": "J8dY42nmIY8G"
      },
      "source": [
        "##  Реализуем градиентный бустинг (3 балла)"
      ]
    },
    {
      "cell_type": "markdown",
      "metadata": {
        "id": "WdFRii2WIY8G"
      },
      "source": [
        "Реализуйте класс градиентного бустинга для классификации. Ваша реализация бустинга должна работать по точности не более чем на 5 процентов хуже чем GradientBoostingClassifier из sklearn.\n"
      ]
    },
    {
      "cell_type": "markdown",
      "metadata": {
        "id": "Tw8C9afsIY8G"
      },
      "source": [
        "Детали реализации:\n",
        "\n",
        "-- должно поддерживаться 3 функции потерь\n",
        "\n",
        "-- сами базовые алгоритмы(деревья, линейные модели и тп) реализовать не надо, просто возьмите готовые из sklearn\n",
        "\n",
        "-- в качестве функции потерь для построения одного дерева используйте MSE\n",
        "\n",
        "-- шаг в бустинге можно не подбирать, можно брать константный\n",
        "\n",
        "-- можно брать разные модели в качестве инициализации бустинга\n",
        "\n",
        "-- должны поддерживаться следующие параметры:\n",
        "\n",
        "а) число итераций\n",
        "б) размер шага\n",
        "в) процент случайных фичей при построении одного дерева\n",
        "д) процент случайных объектов при построении одного дерева\n",
        "е) параметры базового алгоритма (передавайте через **kwargs)"
      ]
    },
    {
      "cell_type": "code",
      "execution_count": 3,
      "metadata": {
        "collapsed": true,
        "jupyter": {
          "outputs_hidden": true
        },
        "id": "NmgK61xrIY8G"
      },
      "outputs": [],
      "source": [
        "from sklearn.datasets import load_wine\n",
        "from sklearn.ensemble import GradientBoostingClassifier\n",
        "from sklearn.metrics import accuracy_score\n",
        "from sklearn.model_selection import train_test_split\n",
        "from sklearn.tree import DecisionTreeRegressor\n",
        "\n",
        "random_state = 42\n",
        "np.random.seed(random_state)"
      ]
    },
    {
      "cell_type": "code",
      "execution_count": 4,
      "metadata": {
        "collapsed": true,
        "jupyter": {
          "outputs_hidden": true
        },
        "id": "TWVtVHArIY8H"
      },
      "outputs": [],
      "source": [
        "class MyGradientBoostingClassifier:\n",
        "\n",
        "    def __init__(self, loss='mse', learning_rate=0.1, n_estimators=100, colsample=1.0, subsample=1.0, *args, **kwargs):\n",
        "        \"\"\"\n",
        "        loss -- один из 3 лоссов:\n",
        "        learning_rate -- шаг бустинга\n",
        "        n_estimators -- число итераций\n",
        "        colsample -- процент рандомных признаков при обучении одного алгоритма\n",
        "        subsample -- процент рандомных объектов при обучении одного алгоритма\n",
        "        args, kwargs -- параметры  базовых моделей\n",
        "        \"\"\"\n",
        "        # Ваш код здесь\n",
        "        self.loss = loss\n",
        "        self.learning_rate = learning_rate\n",
        "        self.n_estimators = n_estimators\n",
        "        self.colsample = colsample\n",
        "        self.subsample = subsample\n",
        "        self.base_model_params = kwargs\n",
        "        self.models = []\n",
        "        self.init_model = None\n",
        "\n",
        "    def _calculate_grad(self, y, y_hat):\n",
        "        if self.loss == 'mse':\n",
        "            return y - y_hat\n",
        "        elif self.loss == 'exponential':\n",
        "            return y * np.exp(-y * y_hat)\n",
        "        elif self.loss == 'log_loss':\n",
        "            return y / (1 + np.exp(y * y_hat))\n",
        "\n",
        "    def fit(self, X, y, base_model=DecisionTreeRegressor, init_model=None):\n",
        "        \"\"\"\n",
        "        X -- объекты для обучения:\n",
        "        y -- таргеты для обучения\n",
        "        base_model -- класс базовых моделей, например sklearn.tree.DecisionTreeRegressor\n",
        "        init_model -- класс для первой модели, если None то берем константу (только для посл задания)\n",
        "        \"\"\"\n",
        "        # Ваш код здесь\n",
        "        if self.loss == 'log_loss' or self.loss == 'exponential':\n",
        "            y = np.where(y == 0, -1, 1)\n",
        "\n",
        "        if init_model is None:\n",
        "            y_pred = np.zeros(X.shape[0])\n",
        "        else:\n",
        "            self.init_model = init_model\n",
        "            self.init_model.fit(X, y)\n",
        "            y_pred = self.init_model.predict(X)\n",
        "\n",
        "        for i in range(self.n_estimators):\n",
        "            grad = self._calculate_grad(y, y_pred)\n",
        "            model = base_model(**self.base_model_params)\n",
        "\n",
        "            subsamples = np.random.choice(X.shape[0], int(self.subsample * X.shape[0]), replace=False)\n",
        "            colsamples = np.random.choice(X.shape[1], int(self.colsample * X.shape[1]), replace=False)\n",
        "            X_sub = X[subsamples][:, colsamples]\n",
        "            y_sub = grad[subsamples]\n",
        "\n",
        "            model.fit(X_sub, y_sub)\n",
        "\n",
        "            y_pred += self.learning_rate * model.predict(X[:, colsamples])\n",
        "\n",
        "            self.models.append((model, colsamples))\n",
        "\n",
        "    def predict(self, X):\n",
        "        # Ваш код здесь\n",
        "        if self.init_model is None:\n",
        "            y_res = np.zeros(X.shape[0])\n",
        "        else:\n",
        "            y_res = self.init_model.predict(X)\n",
        "\n",
        "        for model, colsamples in self.models:\n",
        "            y_res += self.learning_rate * model.predict(X[:, colsamples])\n",
        "\n",
        "        if self.loss == 'mse':\n",
        "            return np.round(y_res).astype(int)\n",
        "        elif self.loss == 'exponential':\n",
        "            return np.where(y_res > 0, 1, 0)\n",
        "        elif self.loss == 'log_loss':\n",
        "            return (1 / (1 + np.exp(-y_res)) > 0.5).astype(int)"
      ]
    },
    {
      "cell_type": "code",
      "execution_count": 5,
      "metadata": {
        "id": "UG1KgdhDIY8H"
      },
      "outputs": [],
      "source": [
        "my_clf = MyGradientBoostingClassifier(loss='mse', max_depth=3)\n",
        "clf = GradientBoostingClassifier()"
      ]
    },
    {
      "cell_type": "code",
      "execution_count": 6,
      "metadata": {
        "collapsed": true,
        "jupyter": {
          "outputs_hidden": true
        },
        "id": "81f_UvdyIY8H"
      },
      "outputs": [],
      "source": [
        "wine = load_wine()\n",
        "X_train, X_test, y_train, y_test = train_test_split(wine.data, wine.target, test_size=0.1, stratify=wine.target, random_state=42)"
      ]
    },
    {
      "cell_type": "code",
      "execution_count": 7,
      "metadata": {
        "id": "m9ttzX4VIY8H",
        "colab": {
          "base_uri": "https://localhost:8080/"
        },
        "outputId": "3d291cf8-fddf-410f-fe2d-372b93d1a92d"
      },
      "outputs": [
        {
          "output_type": "stream",
          "name": "stdout",
          "text": [
            "0.9444444444444444\n",
            "1.0\n"
          ]
        }
      ],
      "source": [
        "my_clf.fit(X_train, y_train)\n",
        "clf.fit(X_train, y_train)\n",
        "print(accuracy_score(y_pred=clf.predict(X_test), y_true=y_test))\n",
        "print(accuracy_score(y_pred=my_clf.predict(X_test), y_true=y_test))"
      ]
    },
    {
      "cell_type": "markdown",
      "metadata": {
        "id": "m23g8nOdIY8H"
      },
      "source": [
        "## Подбираем параметры (2 балла)\n",
        "\n",
        "Давайте попробуем применить Ваш бустинг для предсказаний цены домов в Калифорнии. Чтобы можно было попробовтаь разные функции потерь, переведем по порогу таргет в 2 класса: дорогие и дешевые дома."
      ]
    },
    {
      "cell_type": "markdown",
      "metadata": {
        "id": "_bVRLMGoIY8I"
      },
      "source": [
        "В задании нужно\n",
        "\n",
        "1) Построить график точности в зависимости от числа итераций на валидации.\n",
        "\n",
        "2) Подобрать оптимальные параметры Вашего бустинга на валидации.\n"
      ]
    },
    {
      "cell_type": "code",
      "execution_count": 8,
      "metadata": {
        "id": "zPOnLilqIY8I"
      },
      "outputs": [],
      "source": [
        "from sklearn.datasets import fetch_california_housing\n",
        "import matplotlib.pyplot as plt\n",
        "\n",
        "X, y = fetch_california_housing(return_X_y=True)"
      ]
    },
    {
      "cell_type": "code",
      "execution_count": 9,
      "metadata": {
        "id": "qgTfesqaIY8I",
        "outputId": "f90b06f5-fcaa-4e1b-8d71-39a1959ccb36",
        "colab": {
          "base_uri": "https://localhost:8080/"
        }
      },
      "outputs": [
        {
          "output_type": "stream",
          "name": "stdout",
          "text": [
            "(20640, 8) (20640,)\n"
          ]
        }
      ],
      "source": [
        "# Превращаем регрессию в классификацию\n",
        "y = (y > 2.0).astype(int)\n",
        "print(X.shape, y.shape)"
      ]
    },
    {
      "cell_type": "code",
      "execution_count": 10,
      "metadata": {
        "collapsed": true,
        "jupyter": {
          "outputs_hidden": true
        },
        "id": "A-XxsrxDIY8I"
      },
      "outputs": [],
      "source": [
        "X_train, X_test, y_train, y_test = train_test_split(X, y, test_size=0.3, stratify=y, random_state=42)"
      ]
    },
    {
      "cell_type": "code",
      "source": [
        "import time\n",
        "from tqdm import tqdm\n",
        "\n",
        "my_clf = MyGradientBoostingClassifier(loss='log_loss', learning_rate=0.2, n_estimators=100, colsample=0.8, subsample=0.8, max_depth=5)\n",
        "my_clf.fit(X_train, y_train)\n",
        "\n",
        "y_res = np.zeros(X_test.shape[0])\n",
        "test_accuracy = [accuracy_score(y_test, y_res)]\n",
        "for model, colsamples in tqdm(my_clf.models):\n",
        "    y_res += my_clf.learning_rate * model.predict(X_test[:, colsamples])\n",
        "    test_accuracy.append(accuracy_score(y_test, np.where(y_res > 0, 1, 0)))\n",
        "    time.sleep(1)"
      ],
      "metadata": {
        "colab": {
          "base_uri": "https://localhost:8080/"
        },
        "id": "ntrMRc-iExOK",
        "outputId": "c858c7a3-5c4c-4b00-eec0-38bae7fe6f18"
      },
      "execution_count": 11,
      "outputs": [
        {
          "output_type": "stream",
          "name": "stderr",
          "text": [
            "100%|██████████| 100/100 [01:40<00:00,  1.01s/it]\n"
          ]
        }
      ]
    },
    {
      "cell_type": "code",
      "source": [
        "n_iterations_list = range(0, my_clf.n_estimators+1)\n",
        "\n",
        "plt.figure(figsize=(12, 6))\n",
        "plt.title(\"The dependence of Accuracy on iteration\")\n",
        "plt.xlabel(r\"$Number$ $iteration$\")\n",
        "plt.ylabel(r\"Accuracy\")\n",
        "plt.plot(n_iterations_list, test_accuracy, label='Test')\n",
        "plt.legend()\n",
        "plt.show()"
      ],
      "metadata": {
        "colab": {
          "base_uri": "https://localhost:8080/",
          "height": 565
        },
        "id": "rURcivCpNwub",
        "outputId": "65e52818-10e9-4ca8-d8b0-ca1cb95dd0cc"
      },
      "execution_count": 12,
      "outputs": [
        {
          "output_type": "display_data",
          "data": {
            "text/plain": [
              "<Figure size 1200x600 with 1 Axes>"
            ],
            "image/png": "[encoded data removed]"
          },
          "metadata": {}
        }
      ]
    },
    {
      "cell_type": "code",
      "source": [
        "!pip install optuna\n",
        "import optuna"
      ],
      "metadata": {
        "id": "lKpR9eX_Uz18"
      },
      "execution_count": null,
      "outputs": []
    },
    {
      "cell_type": "code",
      "source": [
        "def objective(trial):\n",
        "\n",
        "    param = {\n",
        "        \"loss\": trial.suggest_categorical(\"loss\", [\"mse\", \"log_loss\", \"exponential\"]),\n",
        "        \"learning_rate\": trial.suggest_float(\"learning_rate\", 0.005, 0.5),\n",
        "        \"max_depth\": trial.suggest_int(\"max_depth\", 1, 12),\n",
        "        \"n_estimators\": trial.suggest_int(\"n_estimators\", 1, 100),\n",
        "        \"colsample\": trial.suggest_float(\"colsample\", 0.5, 1.0),\n",
        "        \"subsample\": trial.suggest_float(\"subsample\", 0.5, 1.0)\n",
        "    }\n",
        "\n",
        "    gbm = MyGradientBoostingClassifier(random_state=42, **param)\n",
        "\n",
        "    gbm.fit(X_train, y_train)\n",
        "\n",
        "    preds = gbm.predict(X_test)\n",
        "    accuracy = accuracy_score(y_test, preds)\n",
        "    return accuracy\n",
        "\n",
        "study = optuna.create_study(direction=\"maximize\")\n",
        "study.optimize(objective, n_trials=100, timeout=600)\n",
        "\n",
        "print(\"Number of finished trials: {}\".format(len(study.trials)))\n",
        "\n",
        "print(\"Best trial:\")\n",
        "trial = study.best_trial\n",
        "\n",
        "print(\"  Value: {}\".format(trial.value))\n",
        "\n",
        "print(\"  Params: \")\n",
        "for key, value in trial.params.items():\n",
        "    print(\"    {}: {}\".format(key, value))"
      ],
      "metadata": {
        "colab": {
          "base_uri": "https://localhost:8080/"
        },
        "id": "Xpuijbd1Ry1F",
        "outputId": "9fa8f003-a6d1-4563-8c5c-f852af4d38f8"
      },
      "execution_count": 14,
      "outputs": [
        {
          "output_type": "stream",
          "name": "stderr",
          "text": [
            "[I 2024-05-13 01:24:29,833] A new study created in memory with name: no-name-32eed8a6-4b23-4947-9e50-891a725f740a\n",
            "[I 2024-05-13 01:24:32,002] Trial 0 finished with value: 0.7551679586563308 and parameters: {'loss': 'mse', 'learning_rate': 0.044146931497476, 'max_depth': 1, 'n_estimators': 44, 'colsample': 0.931730423212475, 'subsample': 0.9804217343670527}. Best is trial 0 with value: 0.7551679586563308.\n",
            "[I 2024-05-13 01:24:38,424] Trial 1 finished with value: 0.8869509043927648 and parameters: {'loss': 'mse', 'learning_rate': 0.3794482145141547, 'max_depth': 6, 'n_estimators': 56, 'colsample': 0.864561847986181, 'subsample': 0.9693513836971258}. Best is trial 1 with value: 0.8869509043927648.\n",
            "[I 2024-05-13 01:24:39,445] Trial 2 finished with value: 0.8468992248062015 and parameters: {'loss': 'mse', 'learning_rate': 0.14167498139915116, 'max_depth': 3, 'n_estimators': 23, 'colsample': 0.8610226582538013, 'subsample': 0.7707698141185122}. Best is trial 1 with value: 0.8869509043927648.\n",
            "[I 2024-05-13 01:24:40,172] Trial 3 finished with value: 0.8420542635658915 and parameters: {'loss': 'exponential', 'learning_rate': 0.07598654243369611, 'max_depth': 5, 'n_estimators': 8, 'colsample': 0.7874358533829724, 'subsample': 0.9773419306151523}. Best is trial 1 with value: 0.8869509043927648.\n",
            "[I 2024-05-13 01:24:40,650] Trial 4 finished with value: 0.8546511627906976 and parameters: {'loss': 'exponential', 'learning_rate': 0.09756337763373606, 'max_depth': 7, 'n_estimators': 5, 'colsample': 0.6624265988364579, 'subsample': 0.8886794130984527}. Best is trial 1 with value: 0.8869509043927648.\n",
            "[I 2024-05-13 01:24:53,457] Trial 5 finished with value: 0.8940568475452196 and parameters: {'loss': 'exponential', 'learning_rate': 0.20647515936868022, 'max_depth': 9, 'n_estimators': 79, 'colsample': 0.9537817762381957, 'subsample': 0.8348017936762345}. Best is trial 5 with value: 0.8940568475452196.\n",
            "[I 2024-05-13 01:24:55,190] Trial 6 finished with value: 0.8682170542635659 and parameters: {'loss': 'mse', 'learning_rate': 0.1936613710748973, 'max_depth': 3, 'n_estimators': 40, 'colsample': 0.9070542686297498, 'subsample': 0.7928911236244157}. Best is trial 5 with value: 0.8940568475452196.\n",
            "[I 2024-05-13 01:24:59,673] Trial 7 finished with value: 0.8900193798449613 and parameters: {'loss': 'mse', 'learning_rate': 0.2683454031828126, 'max_depth': 6, 'n_estimators': 78, 'colsample': 0.981544551561212, 'subsample': 0.7606912316307781}. Best is trial 5 with value: 0.8940568475452196.\n",
            "[I 2024-05-13 01:25:02,465] Trial 8 finished with value: 0.8775839793281653 and parameters: {'loss': 'mse', 'learning_rate': 0.034614139417823035, 'max_depth': 6, 'n_estimators': 80, 'colsample': 0.8613018514726691, 'subsample': 0.6438132791935645}. Best is trial 5 with value: 0.8940568475452196.\n",
            "[I 2024-05-13 01:25:02,595] Trial 9 finished with value: 0.8121770025839793 and parameters: {'loss': 'exponential', 'learning_rate': 0.03698483045849471, 'max_depth': 3, 'n_estimators': 10, 'colsample': 0.5448587971603561, 'subsample': 0.5104084540736333}. Best is trial 5 with value: 0.8940568475452196.\n",
            "[I 2024-05-13 01:25:07,212] Trial 10 finished with value: 0.8922803617571059 and parameters: {'loss': 'log_loss', 'learning_rate': 0.4859112036565125, 'max_depth': 11, 'n_estimators': 88, 'colsample': 0.719834584862631, 'subsample': 0.6720015929841326}. Best is trial 5 with value: 0.8940568475452196.\n",
            "[I 2024-05-13 01:25:16,464] Trial 11 finished with value: 0.8908268733850129 and parameters: {'loss': 'log_loss', 'learning_rate': 0.4867677603769217, 'max_depth': 11, 'n_estimators': 100, 'colsample': 0.6700281537338673, 'subsample': 0.655424858702065}. Best is trial 5 with value: 0.8940568475452196.\n",
            "[I 2024-05-13 01:25:22,737] Trial 12 finished with value: 0.898094315245478 and parameters: {'loss': 'log_loss', 'learning_rate': 0.2968296772568889, 'max_depth': 11, 'n_estimators': 100, 'colsample': 0.7412414932019442, 'subsample': 0.6639918791371769}. Best is trial 12 with value: 0.898094315245478.\n",
            "[I 2024-05-13 01:25:27,549] Trial 13 finished with value: 0.8950258397932817 and parameters: {'loss': 'log_loss', 'learning_rate': 0.29761438072348856, 'max_depth': 9, 'n_estimators': 64, 'colsample': 0.7726793867552805, 'subsample': 0.8571384010648236}. Best is trial 12 with value: 0.898094315245478.\n",
            "[I 2024-05-13 01:25:30,248] Trial 14 finished with value: 0.8871124031007752 and parameters: {'loss': 'log_loss', 'learning_rate': 0.3285499878534625, 'max_depth': 9, 'n_estimators': 60, 'colsample': 0.7711712931587369, 'subsample': 0.5749928635452743}. Best is trial 12 with value: 0.898094315245478.\n",
            "[I 2024-05-13 01:25:36,402] Trial 15 finished with value: 0.8950258397932817 and parameters: {'loss': 'log_loss', 'learning_rate': 0.3806068568597326, 'max_depth': 12, 'n_estimators': 100, 'colsample': 0.579380231437066, 'subsample': 0.8711584889814137}. Best is trial 12 with value: 0.898094315245478.\n",
            "[I 2024-05-13 01:25:39,943] Trial 16 finished with value: 0.8938953488372093 and parameters: {'loss': 'log_loss', 'learning_rate': 0.28223598220142376, 'max_depth': 9, 'n_estimators': 64, 'colsample': 0.6311302711280669, 'subsample': 0.7106755166851613}. Best is trial 12 with value: 0.898094315245478.\n",
            "[I 2024-05-13 01:25:41,321] Trial 17 finished with value: 0.8871124031007752 and parameters: {'loss': 'log_loss', 'learning_rate': 0.34266143864039, 'max_depth': 10, 'n_estimators': 32, 'colsample': 0.7249683085492691, 'subsample': 0.5826409259382157}. Best is trial 12 with value: 0.898094315245478.\n",
            "[I 2024-05-13 01:25:45,688] Trial 18 finished with value: 0.8948643410852714 and parameters: {'loss': 'log_loss', 'learning_rate': 0.4164088082423074, 'max_depth': 8, 'n_estimators': 71, 'colsample': 0.809385146582087, 'subsample': 0.8986968738731921}. Best is trial 12 with value: 0.898094315245478.\n",
            "[I 2024-05-13 01:25:50,758] Trial 19 finished with value: 0.8979328165374677 and parameters: {'loss': 'log_loss', 'learning_rate': 0.2223743151602858, 'max_depth': 12, 'n_estimators': 90, 'colsample': 0.5023790107915812, 'subsample': 0.7114858450686051}. Best is trial 12 with value: 0.898094315245478.\n",
            "[I 2024-05-13 01:25:55,584] Trial 20 finished with value: 0.8969638242894057 and parameters: {'loss': 'log_loss', 'learning_rate': 0.21999164322999248, 'max_depth': 12, 'n_estimators': 93, 'colsample': 0.5082636143536321, 'subsample': 0.712031417321503}. Best is trial 12 with value: 0.898094315245478.\n",
            "[I 2024-05-13 01:26:00,035] Trial 21 finished with value: 0.8948643410852714 and parameters: {'loss': 'log_loss', 'learning_rate': 0.21415231654466424, 'max_depth': 12, 'n_estimators': 91, 'colsample': 0.518431542278425, 'subsample': 0.7102958168685211}. Best is trial 12 with value: 0.898094315245478.\n",
            "[I 2024-05-13 01:26:04,822] Trial 22 finished with value: 0.8913113695090439 and parameters: {'loss': 'log_loss', 'learning_rate': 0.16632284889149823, 'max_depth': 11, 'n_estimators': 88, 'colsample': 0.5890696235442873, 'subsample': 0.7115714258300756}. Best is trial 12 with value: 0.898094315245478.\n",
            "[I 2024-05-13 01:26:08,825] Trial 23 finished with value: 0.8929263565891473 and parameters: {'loss': 'log_loss', 'learning_rate': 0.2462823559081984, 'max_depth': 12, 'n_estimators': 93, 'colsample': 0.5316844300706451, 'subsample': 0.6140928352039916}. Best is trial 12 with value: 0.898094315245478.\n",
            "[I 2024-05-13 01:26:12,258] Trial 24 finished with value: 0.8932493540051679 and parameters: {'loss': 'log_loss', 'learning_rate': 0.13177930457896575, 'max_depth': 10, 'n_estimators': 74, 'colsample': 0.592572341017332, 'subsample': 0.798713542094803}. Best is trial 12 with value: 0.898094315245478.\n",
            "[I 2024-05-13 01:26:17,687] Trial 25 finished with value: 0.8922803617571059 and parameters: {'loss': 'log_loss', 'learning_rate': 0.2318253624698045, 'max_depth': 12, 'n_estimators': 86, 'colsample': 0.5026545936092964, 'subsample': 0.6938940409486616}. Best is trial 12 with value: 0.898094315245478.\n",
            "[I 2024-05-13 01:26:21,505] Trial 26 finished with value: 0.8898578811369509 and parameters: {'loss': 'log_loss', 'learning_rate': 0.31315943606135577, 'max_depth': 10, 'n_estimators': 97, 'colsample': 0.5576608806072065, 'subsample': 0.620245410928816}. Best is trial 12 with value: 0.898094315245478.\n",
            "[I 2024-05-13 01:26:26,343] Trial 27 finished with value: 0.8959948320413437 and parameters: {'loss': 'log_loss', 'learning_rate': 0.17270620914154453, 'max_depth': 11, 'n_estimators': 84, 'colsample': 0.6346748534255584, 'subsample': 0.7389815457623969}. Best is trial 12 with value: 0.898094315245478.\n",
            "[I 2024-05-13 01:26:28,732] Trial 28 finished with value: 0.8916343669250646 and parameters: {'loss': 'log_loss', 'learning_rate': 0.25003269786092114, 'max_depth': 8, 'n_estimators': 71, 'colsample': 0.6339290229190336, 'subsample': 0.5433708861958786}. Best is trial 12 with value: 0.898094315245478.\n",
            "[I 2024-05-13 01:26:32,646] Trial 29 finished with value: 0.8927648578811369 and parameters: {'loss': 'exponential', 'learning_rate': 0.36027296253488317, 'max_depth': 12, 'n_estimators': 49, 'colsample': 0.7184637646496537, 'subsample': 0.7391046821834789}. Best is trial 12 with value: 0.898094315245478.\n",
            "[I 2024-05-13 01:26:33,333] Trial 30 finished with value: 0.8199289405684754 and parameters: {'loss': 'log_loss', 'learning_rate': 0.44484564529283904, 'max_depth': 1, 'n_estimators': 94, 'colsample': 0.5012715243648301, 'subsample': 0.6234833220380476}. Best is trial 12 with value: 0.898094315245478.\n",
            "[I 2024-05-13 01:26:37,235] Trial 31 finished with value: 0.8848514211886305 and parameters: {'loss': 'log_loss', 'learning_rate': 0.15700564505304293, 'max_depth': 11, 'n_estimators': 83, 'colsample': 0.6219051581104724, 'subsample': 0.7398714127703525}. Best is trial 12 with value: 0.898094315245478.\n",
            "[I 2024-05-13 01:26:42,133] Trial 32 finished with value: 0.8924418604651163 and parameters: {'loss': 'log_loss', 'learning_rate': 0.19382864574833328, 'max_depth': 11, 'n_estimators': 93, 'colsample': 0.6786314663440582, 'subsample': 0.6732521800963481}. Best is trial 12 with value: 0.898094315245478.\n",
            "[I 2024-05-13 01:26:46,838] Trial 33 finished with value: 0.8887273901808785 and parameters: {'loss': 'log_loss', 'learning_rate': 0.11080352871996284, 'max_depth': 10, 'n_estimators': 85, 'colsample': 0.5618947458430557, 'subsample': 0.8059657460285791}. Best is trial 12 with value: 0.898094315245478.\n",
            "[I 2024-05-13 01:26:51,373] Trial 34 finished with value: 0.8879198966408268 and parameters: {'loss': 'log_loss', 'learning_rate': 0.17400475726443876, 'max_depth': 11, 'n_estimators': 99, 'colsample': 0.6055058154399537, 'subsample': 0.7370885506716683}. Best is trial 12 with value: 0.898094315245478.\n",
            "[I 2024-05-13 01:27:00,963] Trial 35 finished with value: 0.8806524547803618 and parameters: {'loss': 'mse', 'learning_rate': 0.22438970065703684, 'max_depth': 12, 'n_estimators': 90, 'colsample': 0.8364541558278075, 'subsample': 0.9436397933433915}. Best is trial 12 with value: 0.898094315245478.\n",
            "[I 2024-05-13 01:27:04,304] Trial 36 finished with value: 0.8913113695090439 and parameters: {'loss': 'exponential', 'learning_rate': 0.08447475549822275, 'max_depth': 8, 'n_estimators': 72, 'colsample': 0.6840769416381314, 'subsample': 0.7768205303581204}. Best is trial 12 with value: 0.898094315245478.\n",
            "[I 2024-05-13 01:27:06,035] Trial 37 finished with value: 0.8186369509043928 and parameters: {'loss': 'log_loss', 'learning_rate': 0.005838105208172351, 'max_depth': 4, 'n_estimators': 54, 'colsample': 0.9038436149112495, 'subsample': 0.6840203817271545}. Best is trial 12 with value: 0.898094315245478.\n",
            "[I 2024-05-13 01:27:11,508] Trial 38 finished with value: 0.8793604651162791 and parameters: {'loss': 'mse', 'learning_rate': 0.2708152634498228, 'max_depth': 10, 'n_estimators': 77, 'colsample': 0.653564570147454, 'subsample': 0.820085136996689}. Best is trial 12 with value: 0.898094315245478.\n",
            "[I 2024-05-13 01:27:14,881] Trial 39 finished with value: 0.8835594315245479 and parameters: {'loss': 'log_loss', 'learning_rate': 0.13374389201397474, 'max_depth': 7, 'n_estimators': 83, 'colsample': 0.7022226209704826, 'subsample': 0.760276371546159}. Best is trial 12 with value: 0.898094315245478.\n",
            "[I 2024-05-13 01:27:18,729] Trial 40 finished with value: 0.8938953488372093 and parameters: {'loss': 'exponential', 'learning_rate': 0.18506272359050602, 'max_depth': 11, 'n_estimators': 95, 'colsample': 0.538074054470251, 'subsample': 0.6404584758106866}. Best is trial 12 with value: 0.898094315245478.\n",
            "[I 2024-05-13 01:27:24,550] Trial 41 finished with value: 0.8922803617571059 and parameters: {'loss': 'log_loss', 'learning_rate': 0.29818552928621894, 'max_depth': 9, 'n_estimators': 61, 'colsample': 0.7567152305691976, 'subsample': 0.8643917376764483}. Best is trial 12 with value: 0.898094315245478.\n",
            "[I 2024-05-13 01:27:28,513] Trial 42 finished with value: 0.8916343669250646 and parameters: {'loss': 'log_loss', 'learning_rate': 0.2897565518919248, 'max_depth': 12, 'n_estimators': 45, 'colsample': 0.839174815850084, 'subsample': 0.8392508908568356}. Best is trial 12 with value: 0.898094315245478.\n",
            "[I 2024-05-13 01:27:34,068] Trial 43 finished with value: 0.896156330749354 and parameters: {'loss': 'log_loss', 'learning_rate': 0.2602644991110626, 'max_depth': 10, 'n_estimators': 67, 'colsample': 0.7779434322802717, 'subsample': 0.9957982394823457}. Best is trial 12 with value: 0.898094315245478.\n",
            "[I 2024-05-13 01:27:41,864] Trial 44 finished with value: 0.8901808785529716 and parameters: {'loss': 'mse', 'learning_rate': 0.2541304794909711, 'max_depth': 10, 'n_estimators': 80, 'colsample': 0.8135953458664226, 'subsample': 0.9902778687185121}. Best is trial 12 with value: 0.898094315245478.\n",
            "[I 2024-05-13 01:27:45,867] Trial 45 finished with value: 0.896640826873385 and parameters: {'loss': 'log_loss', 'learning_rate': 0.2010942564598906, 'max_depth': 11, 'n_estimators': 67, 'colsample': 0.747048409767921, 'subsample': 0.7811029459954123}. Best is trial 12 with value: 0.898094315245478.\n",
            "[I 2024-05-13 01:27:47,348] Trial 46 finished with value: 0.8636950904392765 and parameters: {'loss': 'log_loss', 'learning_rate': 0.20632488701031257, 'max_depth': 5, 'n_estimators': 33, 'colsample': 0.7511535365161135, 'subsample': 0.9456015152908025}. Best is trial 12 with value: 0.898094315245478.\n",
            "[I 2024-05-13 01:27:55,105] Trial 47 finished with value: 0.8874354005167958 and parameters: {'loss': 'log_loss', 'learning_rate': 0.23675405329641044, 'max_depth': 12, 'n_estimators': 67, 'colsample': 0.9969793237471118, 'subsample': 0.8951471452807456}. Best is trial 12 with value: 0.898094315245478.\n",
            "[I 2024-05-13 01:27:56,259] Trial 48 finished with value: 0.8801679586563308 and parameters: {'loss': 'exponential', 'learning_rate': 0.3139368280374768, 'max_depth': 11, 'n_estimators': 18, 'colsample': 0.8791018726541869, 'subsample': 0.5914973752724815}. Best is trial 12 with value: 0.898094315245478.\n",
            "[I 2024-05-13 01:27:59,201] Trial 49 finished with value: 0.8921188630490956 and parameters: {'loss': 'log_loss', 'learning_rate': 0.26445344847194985, 'max_depth': 10, 'n_estimators': 54, 'colsample': 0.803721529512795, 'subsample': 0.6476445232536648}. Best is trial 12 with value: 0.898094315245478.\n",
            "[I 2024-05-13 01:28:03,999] Trial 50 finished with value: 0.8880813953488372 and parameters: {'loss': 'mse', 'learning_rate': 0.20481555370604837, 'max_depth': 9, 'n_estimators': 66, 'colsample': 0.7858183190844291, 'subsample': 0.7190095303759456}. Best is trial 12 with value: 0.898094315245478.\n",
            "[I 2024-05-13 01:28:08,991] Trial 51 finished with value: 0.8921188630490956 and parameters: {'loss': 'log_loss', 'learning_rate': 0.14730307873912316, 'max_depth': 12, 'n_estimators': 77, 'colsample': 0.6994361431115964, 'subsample': 0.6945039277228309}. Best is trial 12 with value: 0.898094315245478.\n",
            "[I 2024-05-13 01:28:14,375] Trial 52 finished with value: 0.8964793281653747 and parameters: {'loss': 'log_loss', 'learning_rate': 0.18315754210030813, 'max_depth': 11, 'n_estimators': 89, 'colsample': 0.7324989136269252, 'subsample': 0.7725323035840546}. Best is trial 12 with value: 0.898094315245478.\n",
            "[I 2024-05-13 01:28:20,802] Trial 53 finished with value: 0.8942183462532299 and parameters: {'loss': 'log_loss', 'learning_rate': 0.21765997467747378, 'max_depth': 11, 'n_estimators': 90, 'colsample': 0.746186953760999, 'subsample': 0.7781668512853595}. Best is trial 12 with value: 0.898094315245478.\n",
            "[I 2024-05-13 01:28:25,413] Trial 54 finished with value: 0.8913113695090439 and parameters: {'loss': 'log_loss', 'learning_rate': 0.27576059812192466, 'max_depth': 10, 'n_estimators': 97, 'colsample': 0.7273791727379644, 'subsample': 0.6582654265689506}. Best is trial 12 with value: 0.898094315245478.\n",
            "[I 2024-05-13 01:28:36,746] Trial 55 finished with value: 0.8884043927648578 and parameters: {'loss': 'log_loss', 'learning_rate': 0.19555269934004607, 'max_depth': 12, 'n_estimators': 100, 'colsample': 0.9487845961632502, 'subsample': 0.9238784975730607}. Best is trial 12 with value: 0.898094315245478.\n",
            "[I 2024-05-13 01:28:40,953] Trial 56 finished with value: 0.8880813953488372 and parameters: {'loss': 'log_loss', 'learning_rate': 0.11518482514127128, 'max_depth': 11, 'n_estimators': 59, 'colsample': 0.7688277327879484, 'subsample': 0.7630798323671588}. Best is trial 12 with value: 0.898094315245478.\n",
            "[I 2024-05-13 01:28:47,743] Trial 57 finished with value: 0.8917958656330749 and parameters: {'loss': 'log_loss', 'learning_rate': 0.23213124975646676, 'max_depth': 11, 'n_estimators': 88, 'colsample': 0.7359640049172007, 'subsample': 0.8419044897943007}. Best is trial 12 with value: 0.898094315245478.\n",
            "[I 2024-05-13 01:28:53,348] Trial 58 finished with value: 0.8900193798449613 and parameters: {'loss': 'log_loss', 'learning_rate': 0.32529543748372336, 'max_depth': 12, 'n_estimators': 75, 'colsample': 0.7915355528007798, 'subsample': 0.7264697970111862}. Best is trial 12 with value: 0.898094315245478.\n",
            "[I 2024-05-13 01:28:55,929] Trial 59 finished with value: 0.8842054263565892 and parameters: {'loss': 'log_loss', 'learning_rate': 0.35395661193425604, 'max_depth': 7, 'n_estimators': 81, 'colsample': 0.5223030696288631, 'subsample': 0.6958220404579452}. Best is trial 12 with value: 0.898094315245478.\n",
            "[I 2024-05-13 01:29:01,108] Trial 60 finished with value: 0.8963178294573644 and parameters: {'loss': 'log_loss', 'learning_rate': 0.258697957635842, 'max_depth': 9, 'n_estimators': 95, 'colsample': 0.7023326806737857, 'subsample': 0.670268095650526}. Best is trial 12 with value: 0.898094315245478.\n",
            "[I 2024-05-13 01:29:06,208] Trial 61 finished with value: 0.8959948320413437 and parameters: {'loss': 'log_loss', 'learning_rate': 0.24701296543787962, 'max_depth': 9, 'n_estimators': 95, 'colsample': 0.7646927931110504, 'subsample': 0.681090853469319}. Best is trial 12 with value: 0.898094315245478.\n",
            "[I 2024-05-13 01:29:12,148] Trial 62 finished with value: 0.895187338501292 and parameters: {'loss': 'log_loss', 'learning_rate': 0.2971278026021714, 'max_depth': 10, 'n_estimators': 92, 'colsample': 0.7060932049295985, 'subsample': 0.7834703827476716}. Best is trial 12 with value: 0.898094315245478.\n",
            "[I 2024-05-13 01:29:16,990] Trial 63 finished with value: 0.8972868217054264 and parameters: {'loss': 'log_loss', 'learning_rate': 0.26065810342025514, 'max_depth': 11, 'n_estimators': 88, 'colsample': 0.6534922502371693, 'subsample': 0.6600780865113144}. Best is trial 12 with value: 0.898094315245478.\n",
            "[I 2024-05-13 01:29:21,110] Trial 64 finished with value: 0.8898578811369509 and parameters: {'loss': 'log_loss', 'learning_rate': 0.2151690743009815, 'max_depth': 11, 'n_estimators': 87, 'colsample': 0.6496989317371833, 'subsample': 0.6025485751261683}. Best is trial 12 with value: 0.898094315245478.\n",
            "[I 2024-05-13 01:29:27,417] Trial 65 finished with value: 0.8935723514211886 and parameters: {'loss': 'log_loss', 'learning_rate': 0.1863062120361335, 'max_depth': 12, 'n_estimators': 97, 'colsample': 0.5619995665491474, 'subsample': 0.6604341439272726}. Best is trial 12 with value: 0.898094315245478.\n",
            "[I 2024-05-13 01:29:32,888] Trial 66 finished with value: 0.8921188630490956 and parameters: {'loss': 'log_loss', 'learning_rate': 0.23726299176258003, 'max_depth': 11, 'n_estimators': 90, 'colsample': 0.6941045765825445, 'subsample': 0.6342544920092495}. Best is trial 12 with value: 0.898094315245478.\n",
            "[I 2024-05-13 01:29:38,779] Trial 67 finished with value: 0.8914728682170543 and parameters: {'loss': 'exponential', 'learning_rate': 0.1601807073988294, 'max_depth': 12, 'n_estimators': 85, 'colsample': 0.6682677779426541, 'subsample': 0.7544697964420911}. Best is trial 12 with value: 0.898094315245478.\n",
            "[I 2024-05-13 01:29:39,911] Trial 68 finished with value: 0.8063630490956072 and parameters: {'loss': 'log_loss', 'learning_rate': 0.28402214790236713, 'max_depth': 1, 'n_estimators': 96, 'colsample': 0.6066879697690175, 'subsample': 0.7049937297674684}. Best is trial 12 with value: 0.898094315245478.\n",
            "[I 2024-05-13 01:29:45,463] Trial 69 finished with value: 0.8942183462532299 and parameters: {'loss': 'log_loss', 'learning_rate': 0.3828912369116872, 'max_depth': 12, 'n_estimators': 92, 'colsample': 0.7427809600644123, 'subsample': 0.6684664989540476}. Best is trial 12 with value: 0.898094315245478.\n",
            "[I 2024-05-13 01:29:49,695] Trial 70 finished with value: 0.8919573643410853 and parameters: {'loss': 'mse', 'learning_rate': 0.1721163297335952, 'max_depth': 8, 'n_estimators': 100, 'colsample': 0.5101265813998205, 'subsample': 0.7326909786289307}. Best is trial 12 with value: 0.898094315245478.\n",
            "[I 2024-05-13 01:29:55,391] Trial 71 finished with value: 0.8929263565891473 and parameters: {'loss': 'log_loss', 'learning_rate': 0.2621790466788157, 'max_depth': 10, 'n_estimators': 82, 'colsample': 0.7259926920112466, 'subsample': 0.817404739638972}. Best is trial 12 with value: 0.898094315245478.\n",
            "[I 2024-05-13 01:29:59,696] Trial 72 finished with value: 0.8872739018087855 and parameters: {'loss': 'log_loss', 'learning_rate': 0.3108743992414186, 'max_depth': 10, 'n_estimators': 88, 'colsample': 0.7838713248000176, 'subsample': 0.5719180910486774}. Best is trial 12 with value: 0.898094315245478.\n",
            "[I 2024-05-13 01:30:02,817] Trial 73 finished with value: 0.8943798449612403 and parameters: {'loss': 'log_loss', 'learning_rate': 0.22411846921442488, 'max_depth': 11, 'n_estimators': 69, 'colsample': 0.5444148783825163, 'subsample': 0.6857346377363184}. Best is trial 12 with value: 0.898094315245478.\n",
            "[I 2024-05-13 01:30:08,360] Trial 74 finished with value: 0.900032299741602 and parameters: {'loss': 'log_loss', 'learning_rate': 0.2550246201220756, 'max_depth': 11, 'n_estimators': 93, 'colsample': 0.6815641840922588, 'subsample': 0.629950695949161}. Best is trial 74 with value: 0.900032299741602.\n",
            "[I 2024-05-13 01:30:08,454] Trial 75 finished with value: 0.7688953488372093 and parameters: {'loss': 'log_loss', 'learning_rate': 0.2419932323615886, 'max_depth': 11, 'n_estimators': 1, 'colsample': 0.71142706717393, 'subsample': 0.6115219023175495}. Best is trial 74 with value: 0.900032299741602.\n",
            "[I 2024-05-13 01:30:09,692] Trial 76 finished with value: 0.838016795865633 and parameters: {'loss': 'log_loss', 'learning_rate': 0.2760141139225925, 'max_depth': 2, 'n_estimators': 94, 'colsample': 0.6559544052397027, 'subsample': 0.6281004952989218}. Best is trial 74 with value: 0.900032299741602.\n",
            "[I 2024-05-13 01:30:14,470] Trial 77 finished with value: 0.8888888888888888 and parameters: {'loss': 'log_loss', 'learning_rate': 0.1978849920516746, 'max_depth': 9, 'n_estimators': 98, 'colsample': 0.6852420875794683, 'subsample': 0.7500703957067252}. Best is trial 74 with value: 0.900032299741602.\n",
            "[I 2024-05-13 01:30:17,727] Trial 78 finished with value: 0.8955103359173127 and parameters: {'loss': 'log_loss', 'learning_rate': 0.18283416766752145, 'max_depth': 11, 'n_estimators': 91, 'colsample': 0.5754009721814746, 'subsample': 0.5614511407955953}. Best is trial 74 with value: 0.900032299741602.\n",
            "[I 2024-05-13 01:30:22,395] Trial 79 finished with value: 0.8916343669250646 and parameters: {'loss': 'exponential', 'learning_rate': 0.3321833927623245, 'max_depth': 12, 'n_estimators': 86, 'colsample': 0.5253297225993203, 'subsample': 0.645753868979339}. Best is trial 74 with value: 0.900032299741602.\n",
            "[I 2024-05-13 01:30:28,020] Trial 80 finished with value: 0.8950258397932817 and parameters: {'loss': 'log_loss', 'learning_rate': 0.21618577163260533, 'max_depth': 12, 'n_estimators': 94, 'colsample': 0.6722258121915525, 'subsample': 0.7194411085340907}. Best is trial 74 with value: 0.900032299741602.\n",
            "[I 2024-05-13 01:30:33,015] Trial 81 finished with value: 0.8898578811369509 and parameters: {'loss': 'log_loss', 'learning_rate': 0.25886714933661653, 'max_depth': 10, 'n_estimators': 79, 'colsample': 0.7332908757617986, 'subsample': 0.669344536964782}. Best is trial 74 with value: 0.900032299741602.\n",
            "[I 2024-05-13 01:30:36,998] Trial 82 finished with value: 0.8953488372093024 and parameters: {'loss': 'log_loss', 'learning_rate': 0.25544297760735035, 'max_depth': 11, 'n_estimators': 48, 'colsample': 0.7539948410317261, 'subsample': 0.708640257179325}. Best is trial 74 with value: 0.900032299741602.\n",
            "[I 2024-05-13 01:30:38,524] Trial 83 finished with value: 0.8895348837209303 and parameters: {'loss': 'log_loss', 'learning_rate': 0.3024878833427189, 'max_depth': 10, 'n_estimators': 40, 'colsample': 0.7187140403580586, 'subsample': 0.5167210760738059}. Best is trial 74 with value: 0.900032299741602.\n",
            "[I 2024-05-13 01:30:43,432] Trial 84 finished with value: 0.896156330749354 and parameters: {'loss': 'log_loss', 'learning_rate': 0.2282259638159675, 'max_depth': 11, 'n_estimators': 83, 'colsample': 0.8259033543952272, 'subsample': 0.6508504931827729}. Best is trial 74 with value: 0.900032299741602.\n",
            "[I 2024-05-13 01:30:50,850] Trial 85 finished with value: 0.8992248062015504 and parameters: {'loss': 'log_loss', 'learning_rate': 0.28216316479392506, 'max_depth': 11, 'n_estimators': 89, 'colsample': 0.6923323258777526, 'subsample': 0.9648607811529145}. Best is trial 74 with value: 0.900032299741602.\n",
            "[I 2024-05-13 01:30:56,637] Trial 86 finished with value: 0.8958333333333334 and parameters: {'loss': 'log_loss', 'learning_rate': 0.291280702769974, 'max_depth': 12, 'n_estimators': 89, 'colsample': 0.6870805124134661, 'subsample': 0.7937431313023835}. Best is trial 74 with value: 0.900032299741602.\n",
            "[I 2024-05-13 01:31:04,848] Trial 87 finished with value: 0.8824289405684754 and parameters: {'loss': 'mse', 'learning_rate': 0.2718182535270003, 'max_depth': 11, 'n_estimators': 97, 'colsample': 0.7117496318257832, 'subsample': 0.9608194676799442}. Best is trial 74 with value: 0.900032299741602.\n",
            "[I 2024-05-13 01:31:09,442] Trial 88 finished with value: 0.8892118863049095 and parameters: {'loss': 'log_loss', 'learning_rate': 0.20733729407899604, 'max_depth': 12, 'n_estimators': 92, 'colsample': 0.697041703572122, 'subsample': 0.5991575737058473}. Best is trial 74 with value: 0.900032299741602.\n",
            "[I 2024-05-13 01:31:13,448] Trial 89 finished with value: 0.8863049095607235 and parameters: {'loss': 'log_loss', 'learning_rate': 0.243999090888742, 'max_depth': 11, 'n_estimators': 85, 'colsample': 0.6182684940330488, 'subsample': 0.6792880929116532}. Best is trial 74 with value: 0.900032299741602.\n",
            "[I 2024-05-13 01:31:19,512] Trial 90 finished with value: 0.8893733850129198 and parameters: {'loss': 'log_loss', 'learning_rate': 0.14667293871476825, 'max_depth': 11, 'n_estimators': 100, 'colsample': 0.6398614473343609, 'subsample': 0.6964551485382023}. Best is trial 74 with value: 0.900032299741602.\n",
            "[I 2024-05-13 01:31:27,996] Trial 91 finished with value: 0.8866279069767442 and parameters: {'loss': 'log_loss', 'learning_rate': 0.2796310848904615, 'max_depth': 10, 'n_estimators': 95, 'colsample': 0.7611685128072458, 'subsample': 0.9949882780205421}. Best is trial 74 with value: 0.900032299741602.\n",
            "[I 2024-05-13 01:31:34,534] Trial 92 finished with value: 0.8937338501291989 and parameters: {'loss': 'log_loss', 'learning_rate': 0.26234763092706637, 'max_depth': 10, 'n_estimators': 76, 'colsample': 0.7767947650889174, 'subsample': 0.9835075792665879}. Best is trial 74 with value: 0.900032299741602.\n",
            "[I 2024-05-13 01:31:41,076] Trial 93 finished with value: 0.8884043927648578 and parameters: {'loss': 'log_loss', 'learning_rate': 0.3076031103878794, 'max_depth': 11, 'n_estimators': 87, 'colsample': 0.7365747622255584, 'subsample': 0.9115684863658985}. Best is trial 74 with value: 0.900032299741602.\n",
            "[I 2024-05-13 01:31:48,001] Trial 94 finished with value: 0.8947028423772609 and parameters: {'loss': 'log_loss', 'learning_rate': 0.24881368573712398, 'max_depth': 11, 'n_estimators': 90, 'colsample': 0.6736106367648428, 'subsample': 0.9678896588811288}. Best is trial 74 with value: 0.900032299741602.\n",
            "[I 2024-05-13 01:31:51,072] Trial 95 finished with value: 0.8916343669250646 and parameters: {'loss': 'log_loss', 'learning_rate': 0.229264835409292, 'max_depth': 10, 'n_estimators': 58, 'colsample': 0.8002579865040017, 'subsample': 0.6168991645468136}. Best is trial 74 with value: 0.900032299741602.\n",
            "[I 2024-05-13 01:31:54,162] Trial 96 finished with value: 0.8814599483204134 and parameters: {'loss': 'log_loss', 'learning_rate': 0.32944150837830366, 'max_depth': 5, 'n_estimators': 98, 'colsample': 0.7168989809028092, 'subsample': 0.6372178563926483}. Best is trial 74 with value: 0.900032299741602.\n",
            "[I 2024-05-13 01:31:58,725] Trial 97 finished with value: 0.8863049095607235 and parameters: {'loss': 'log_loss', 'learning_rate': 0.29043606095800206, 'max_depth': 12, 'n_estimators': 64, 'colsample': 0.5116459658829453, 'subsample': 0.9536361987170022}. Best is trial 74 with value: 0.900032299741602.\n",
            "[I 2024-05-13 01:32:02,162] Trial 98 finished with value: 0.8880813953488372 and parameters: {'loss': 'exponential', 'learning_rate': 0.20292923526506335, 'max_depth': 6, 'n_estimators': 72, 'colsample': 0.7729256856537527, 'subsample': 0.8842138349608533}. Best is trial 74 with value: 0.900032299741602.\n",
            "[I 2024-05-13 01:32:05,705] Trial 99 finished with value: 0.8921188630490956 and parameters: {'loss': 'log_loss', 'learning_rate': 0.32043079035768085, 'max_depth': 9, 'n_estimators': 80, 'colsample': 0.7482467157931333, 'subsample': 0.6647124299345355}. Best is trial 74 with value: 0.900032299741602.\n"
          ]
        },
        {
          "output_type": "stream",
          "name": "stdout",
          "text": [
            "Number of finished trials: 100\n",
            "Best trial:\n",
            "  Value: 0.900032299741602\n",
            "  Params: \n",
            "    loss: log_loss\n",
            "    learning_rate: 0.2550246201220756\n",
            "    max_depth: 11\n",
            "    n_estimators: 93\n",
            "    colsample: 0.6815641840922588\n",
            "    subsample: 0.629950695949161\n"
          ]
        }
      ]
    },
    {
      "cell_type": "markdown",
      "source": [
        "__Ответ__: лучший accuracy 0.9 при loss: log_loss, learning_rate: 0.2550246201220756, max_depth: 11, n_estimators: 93, colsample: 0.6815641840922588, subsample: 0.629950695949161"
      ],
      "metadata": {
        "id": "YCbwja-1oMXF"
      }
    },
    {
      "cell_type": "markdown",
      "metadata": {
        "id": "EeczuM7QIY8I"
      },
      "source": [
        "## BooBag BagBoo (1 балл)\n",
        "\n"
      ]
    },
    {
      "cell_type": "markdown",
      "metadata": {
        "id": "kooKXY1-IY8I"
      },
      "source": [
        "Попробуем объединить бустинг и бэгинг. Давайте\n",
        "\n",
        "1) в качестве базовой модели брать не дерево решений, а случайный лес (из sklearn)\n",
        "\n",
        "2) обучать N бустингов на бустрапированной выборке, а затем предикт усреднять"
      ]
    },
    {
      "cell_type": "markdown",
      "metadata": {
        "id": "Rb6tzhKpIY8I"
      },
      "source": [
        "Попробуйте обе этих стратегии на данных из прошлого задания. Получилось ли улучшить качество? Почему?"
      ]
    },
    {
      "cell_type": "code",
      "execution_count": null,
      "metadata": {
        "jupyter": {
          "outputs_hidden": true
        },
        "id": "kJhkWugFIY8I",
        "colab": {
          "base_uri": "https://localhost:8080/"
        },
        "outputId": "439d7576-e5c4-40b6-da0f-7aeb2944c935"
      },
      "outputs": [
        {
          "output_type": "stream",
          "name": "stdout",
          "text": [
            "0.8829134366925064\n"
          ]
        }
      ],
      "source": [
        "from sklearn.ensemble import RandomForestRegressor\n",
        "my_clf = MyGradientBoostingClassifier(loss='log_loss', learning_rate=0.34419295961063207, colsample=0.7869925539662193, subsample=0.7494709591452795, n_estimators=10, random_state=42)\n",
        "my_clf.fit(X_train, y_train, base_model=RandomForestRegressor)\n",
        "print(accuracy_score(y_test, my_clf.predict(X_test)))"
      ]
    },
    {
      "cell_type": "code",
      "execution_count": null,
      "metadata": {
        "jupyter": {
          "outputs_hidden": true
        },
        "id": "FOs7qAaHIY8J",
        "colab": {
          "base_uri": "https://localhost:8080/"
        },
        "outputId": "fa99d65c-d27e-49be-f092-c173b7c549c0"
      },
      "outputs": [
        {
          "output_type": "stream",
          "name": "stdout",
          "text": [
            "0.8793604651162791\n"
          ]
        }
      ],
      "source": [
        "def bootstrap(X, y, random_state=None):\n",
        "    rng = np.random.RandomState(random_state)\n",
        "    idx = rng.choice(X.shape[0], X.shape[0], replace=True)\n",
        "    return X[idx], y[idx]\n",
        "\n",
        "def fit_multi_boostings(X_train, y_train, n_models=10, **boosting_params):\n",
        "    models = []\n",
        "    for i in range(n_models):\n",
        "        X_boot, y_boot = bootstrap(X_train, y_train, random_state=i)\n",
        "        gb_clf = MyGradientBoostingClassifier(**boosting_params)\n",
        "        gb_clf.fit(X_boot, y_boot)\n",
        "        models.append(gb_clf)\n",
        "    return models\n",
        "\n",
        "def avg_preds(models, X):\n",
        "    preds = np.zeros((X.shape[0], len(models)))\n",
        "    for i, model in enumerate(models):\n",
        "        preds[:, i] = model.predict(X)\n",
        "    return np.round(np.mean(preds, axis=1)).astype(int)\n",
        "\n",
        "models = fit_multi_boostings(X_train, y_train, n_models=10, loss='log_loss', n_estimators=100, learning_rate=0.34419295961063207, max_depth=11)\n",
        "\n",
        "print(accuracy_score(y_test, avg_preds(models, X_test)))\n"
      ]
    },
    {
      "cell_type": "markdown",
      "source": [
        "__Ответ__: Качество улучшить не удалось. Одной из причин является сложность подбора гиперпараметров: в первом случае необходимо подобрать гиперпараметры для бустинга и для RandomForest. Во втором случае необходимо подобрать гиперпараметры для бустинга и количество N бутстрапированных моделей."
      ],
      "metadata": {
        "id": "Es2ba_lpo0vJ"
      }
    },
    {
      "cell_type": "markdown",
      "metadata": {
        "collapsed": true,
        "jupyter": {
          "outputs_hidden": true
        },
        "id": "54rSYc-kIY8J"
      },
      "source": [
        "## Умная инициализация (1 балл)\n",
        "\n",
        "Попробуйте брать в качестве инициализации бустинга не константу, а какой-то алгоритм и уже от его предикта стартовать итерации бустинга. Попробуйте разные модели из sklearn: линейные модели, рандом форест, svm..\n",
        "\n",
        "Получилось ли улучшить качество? Почему?\n",
        "\n"
      ]
    },
    {
      "cell_type": "code",
      "execution_count": null,
      "metadata": {
        "jupyter": {
          "outputs_hidden": true
        },
        "id": "vzk98AxvIY8J",
        "colab": {
          "base_uri": "https://localhost:8080/"
        },
        "outputId": "a3e17b6e-238b-4cfd-ffd5-51f4bccaad2b"
      },
      "outputs": [
        {
          "output_type": "stream",
          "name": "stdout",
          "text": [
            "0.8998708010335917\n"
          ]
        }
      ],
      "source": [
        "from sklearn.linear_model import LogisticRegression, Ridge, Lasso\n",
        "\n",
        "\n",
        "my_clf = MyGradientBoostingClassifier(loss='log_loss', learning_rate=0.34419295961063207, colsample=0.7869925539662193, subsample=0.7494709591452795)\n",
        "my_clf.fit(X_train, y_train, init_model=Ridge(alpha=1.0))\n",
        "print(accuracy_score(y_test, my_clf.predict(X_test)))"
      ]
    },
    {
      "cell_type": "code",
      "execution_count": null,
      "metadata": {
        "jupyter": {
          "outputs_hidden": true
        },
        "id": "vkaaE9XhIY8J",
        "colab": {
          "base_uri": "https://localhost:8080/"
        },
        "outputId": "6aeb5875-d30f-4d16-dfc7-a97143a6febf"
      },
      "outputs": [
        {
          "output_type": "stream",
          "name": "stdout",
          "text": [
            "0.8824289405684754\n"
          ]
        }
      ],
      "source": [
        "my_clf = MyGradientBoostingClassifier(loss='log_loss', learning_rate=0.34419295961063207, colsample=0.7869925539662193, subsample=0.7494709591452795, max_depth=5, random_state=42)\n",
        "my_clf.fit(X_train, y_train, init_model=Ridge(alpha=1.0, random_state=42))\n",
        "print(accuracy_score(y_test, my_clf.predict(X_test)))"
      ]
    },
    {
      "cell_type": "code",
      "source": [
        "my_clf = MyGradientBoostingClassifier(loss='log_loss', learning_rate=0.34419295961063207, colsample=0.7869925539662193, subsample=0.7494709591452795, max_depth=11, random_state=42)\n",
        "my_clf.fit(X_train, y_train, init_model=Lasso(alpha=0.03, random_state=42))\n",
        "print(accuracy_score(y_test, my_clf.predict(X_test)))"
      ],
      "metadata": {
        "colab": {
          "base_uri": "https://localhost:8080/"
        },
        "id": "6KfQNsAxs_7X",
        "outputId": "c0440bbe-27e0-41c1-87bb-29b74e90a69d"
      },
      "execution_count": null,
      "outputs": [
        {
          "output_type": "stream",
          "name": "stdout",
          "text": [
            "0.898094315245478\n"
          ]
        }
      ]
    },
    {
      "cell_type": "code",
      "source": [
        "my_clf = MyGradientBoostingClassifier(loss='log_loss', learning_rate=0.34419295961063207, colsample=0.7869925539662193, subsample=0.7494709591452795, max_depth=11, random_state=42)\n",
        "my_clf.fit(X_train, y_train, init_model=RandomForestRegressor(random_state=42))\n",
        "print(accuracy_score(y_test, my_clf.predict(X_test)))"
      ],
      "metadata": {
        "colab": {
          "base_uri": "https://localhost:8080/"
        },
        "id": "pT7OP8KOuP8x",
        "outputId": "119150aa-7669-46d1-c235-df67efc5c495"
      },
      "execution_count": null,
      "outputs": [
        {
          "output_type": "stream",
          "name": "stdout",
          "text": [
            "0.8930878552971576\n"
          ]
        }
      ]
    },
    {
      "cell_type": "markdown",
      "source": [
        "__Ответ__: в целом, получилось улучшить качество благодаря начальной инициализации предсказаний с помощью моделей, а не константным заполнением."
      ],
      "metadata": {
        "id": "8iy-7ZTQuf1g"
      }
    },
    {
      "cell_type": "markdown",
      "metadata": {
        "id": "VingEkOmIY8J"
      },
      "source": [
        "## Фидбек (бесценно)"
      ]
    },
    {
      "cell_type": "markdown",
      "metadata": {
        "id": "reNe6KDxIY8J"
      },
      "source": [
        "* Какие аспекты обучения  ансамблей Вам показались непонятными? Какое место стоит дополнительно объяснить?"
      ]
    },
    {
      "cell_type": "markdown",
      "metadata": {
        "id": "2360iGCGIY8J"
      },
      "source": [
        "### Ваш ответ здесь"
      ]
    },
    {
      "cell_type": "markdown",
      "metadata": {
        "id": "W3JCrXI-IY8J"
      },
      "source": [
        "* Здесь Вы можете оставить отзыв о этой домашней работе или о всем курсе."
      ]
    },
    {
      "cell_type": "markdown",
      "metadata": {
        "id": "kPeACLgdIY8J"
      },
      "source": [
        "### ВАШ ОТЗЫВ ЗДЕСЬ\n",
        "\n"
      ]
    },
    {
      "cell_type": "code",
      "execution_count": null,
      "metadata": {
        "collapsed": true,
        "jupyter": {
          "outputs_hidden": true
        },
        "id": "wva0ZBItIY8J"
      },
      "outputs": [],
      "source": []
    },
    {
      "cell_type": "code",
      "execution_count": null,
      "metadata": {
        "collapsed": true,
        "jupyter": {
          "outputs_hidden": true
        },
        "id": "sjag35KBIY8J"
      },
      "outputs": [],
      "source": []
    }
  ],
  "metadata": {
    "anaconda-cloud": {},
    "kernelspec": {
      "display_name": "Python 3 (ipykernel)",
      "language": "python",
      "name": "python3"
    },
    "language_info": {
      "codemirror_mode": {
        "name": "ipython",
        "version": 3
      },
      "file_extension": ".py",
      "mimetype": "text/x-python",
      "name": "python",
      "nbconvert_exporter": "python",
      "pygments_lexer": "ipython3",
      "version": "3.9.13"
    },
    "colab": {
      "provenance": []
    }
  },
  "nbformat": 4,
  "nbformat_minor": 0
}