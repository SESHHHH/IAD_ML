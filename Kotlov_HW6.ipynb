{
  "cells": [
    {
      "cell_type": "markdown",
      "metadata": {
        "id": "Ffq6A2-ifzAA"
      },
      "source": [
        "# Интеллектуальный анализ данных – весна 2024\n",
        "# Домашнее задание 6: классификация текстов"
      ]
    },
    {
      "cell_type": "markdown",
      "metadata": {
        "id": "EPcxtekTA1Sm"
      },
      "source": [
        "Правила:\n",
        "\n",
        "\n",
        "\n",
        "*   Домашнее задание оценивается в 10 баллов.\n",
        "*   Можно использовать без доказательства любые результаты, встречавшиеся на лекциях или семинарах по курсу, если получение этих результатов не является вопросом задания.\n",
        "*  Можно использовать любые свободные источники с *обязательным* указанием ссылки на них.\n",
        "*  Плагиат не допускается. При обнаружении случаев списывания, 0 за работу выставляется всем участникам нарушения, даже если можно установить, кто у кого списал.\n",
        "*  Старайтесь сделать код как можно более оптимальным. В частности, будет штрафоваться использование циклов в тех случаях, когда операцию можно совершить при помощи инструментов библиотек, о которых рассказывалось в курсе."
      ]
    },
    {
      "cell_type": "markdown",
      "metadata": {
        "id": "itRtFtrOf0_b"
      },
      "source": [
        "В этом домашнем задании вам предстоит построить классификатор текстов.\n",
        "\n",
        "Будем предсказывать эмоциональную окраску твиттов о коронавирусе.\n",
        "\n"
      ]
    },
    {
      "cell_type": "code",
      "execution_count": null,
      "metadata": {
        "id": "tNGRVO7_g9mz"
      },
      "outputs": [],
      "source": [
        "import numpy as np\n",
        "import pandas as pd\n",
        "from typing import  List\n",
        "import matplotlib.pyplot as plt\n",
        "import seaborn as sns\n",
        "from string import punctuation"
      ]
    },
    {
      "cell_type": "code",
      "execution_count": null,
      "metadata": {
        "colab": {
          "base_uri": "https://localhost:8080/",
          "height": 244
        },
        "id": "zOy8iHJQg_Ss",
        "outputId": "0a278964-023c-4c64-8a00-47fd72c5a103"
      },
      "outputs": [
        {
          "output_type": "execute_result",
          "data": {
            "text/plain": [
              "       UserName  ScreenName                      Location     TweetAt  \\\n",
              "18272     26031       70983  Somewhere Playing the Ponies  25-03-2020   \n",
              "10627     16689       61641               Mid Ohio Valley  21-03-2020   \n",
              "15121     22192       67144                Alexandria, VA  23-03-2020   \n",
              "6213      11333       56285          Melbourne, Australia  19-03-2020   \n",
              "\n",
              "                                           OriginalTweet Sentiment  \n",
              "18272  Gov Cuomo:\"Trump not getting the much needed v...  Negative  \n",
              "10627   In Phase One we wanted to focus our attention...  Positive  \n",
              "15121  Reporters in the WH briefing room are sitting ...  Negative  \n",
              "6213   Has the Reserve Bank lost control of the econo...  Negative  "
            ],
            "text/html": [
              "\n",
              "  <div id=\"df-1b74049c-4c72-44e4-9581-d499ba7b6fbf\" class=\"colab-df-container\">\n",
              "    <div>\n",
              "<style scoped>\n",
              "    .dataframe tbody tr th:only-of-type {\n",
              "        vertical-align: middle;\n",
              "    }\n",
              "\n",
              "    .dataframe tbody tr th {\n",
              "        vertical-align: top;\n",
              "    }\n",
              "\n",
              "    .dataframe thead th {\n",
              "        text-align: right;\n",
              "    }\n",
              "</style>\n",
              "<table border=\"1\" class=\"dataframe\">\n",
              "  <thead>\n",
              "    <tr style=\"text-align: right;\">\n",
              "      <th></th>\n",
              "      <th>UserName</th>\n",
              "      <th>ScreenName</th>\n",
              "      <th>Location</th>\n",
              "      <th>TweetAt</th>\n",
              "      <th>OriginalTweet</th>\n",
              "      <th>Sentiment</th>\n",
              "    </tr>\n",
              "  </thead>\n",
              "  <tbody>\n",
              "    <tr>\n",
              "      <th>18272</th>\n",
              "      <td>26031</td>\n",
              "      <td>70983</td>\n",
              "      <td>Somewhere Playing the Ponies</td>\n",
              "      <td>25-03-2020</td>\n",
              "      <td>Gov Cuomo:\"Trump not getting the much needed v...</td>\n",
              "      <td>Negative</td>\n",
              "    </tr>\n",
              "    <tr>\n",
              "      <th>10627</th>\n",
              "      <td>16689</td>\n",
              "      <td>61641</td>\n",
              "      <td>Mid Ohio Valley</td>\n",
              "      <td>21-03-2020</td>\n",
              "      <td>In Phase One we wanted to focus our attention...</td>\n",
              "      <td>Positive</td>\n",
              "    </tr>\n",
              "    <tr>\n",
              "      <th>15121</th>\n",
              "      <td>22192</td>\n",
              "      <td>67144</td>\n",
              "      <td>Alexandria, VA</td>\n",
              "      <td>23-03-2020</td>\n",
              "      <td>Reporters in the WH briefing room are sitting ...</td>\n",
              "      <td>Negative</td>\n",
              "    </tr>\n",
              "    <tr>\n",
              "      <th>6213</th>\n",
              "      <td>11333</td>\n",
              "      <td>56285</td>\n",
              "      <td>Melbourne, Australia</td>\n",
              "      <td>19-03-2020</td>\n",
              "      <td>Has the Reserve Bank lost control of the econo...</td>\n",
              "      <td>Negative</td>\n",
              "    </tr>\n",
              "  </tbody>\n",
              "</table>\n",
              "</div>\n",
              "    <div class=\"colab-df-buttons\">\n",
              "\n",
              "  <div class=\"colab-df-container\">\n",
              "    <button class=\"colab-df-convert\" onclick=\"convertToInteractive('df-1b74049c-4c72-44e4-9581-d499ba7b6fbf')\"\n",
              "            title=\"Convert this dataframe to an interactive table.\"\n",
              "            style=\"display:none;\">\n",
              "\n",
              "  <svg xmlns=\"http://www.w3.org/2000/svg\" height=\"24px\" viewBox=\"0 -960 960 960\">\n",
              "    <path d=\"M120-120v-720h720v720H120Zm60-500h600v-160H180v160Zm220 220h160v-160H400v160Zm0 220h160v-160H400v160ZM180-400h160v-160H180v160Zm440 0h160v-160H620v160ZM180-180h160v-160H180v160Zm440 0h160v-160H620v160Z\"/>\n",
              "  </svg>\n",
              "    </button>\n",
              "\n",
              "  <style>\n",
              "    .colab-df-container {\n",
              "      display:flex;\n",
              "      gap: 12px;\n",
              "    }\n",
              "\n",
              "    .colab-df-convert {\n",
              "      background-color: #E8F0FE;\n",
              "      border: none;\n",
              "      border-radius: 50%;\n",
              "      cursor: pointer;\n",
              "      display: none;\n",
              "      fill: #1967D2;\n",
              "      height: 32px;\n",
              "      padding: 0 0 0 0;\n",
              "      width: 32px;\n",
              "    }\n",
              "\n",
              "    .colab-df-convert:hover {\n",
              "      background-color: #E2EBFA;\n",
              "      box-shadow: 0px 1px 2px rgba(60, 64, 67, 0.3), 0px 1px 3px 1px rgba(60, 64, 67, 0.15);\n",
              "      fill: #174EA6;\n",
              "    }\n",
              "\n",
              "    .colab-df-buttons div {\n",
              "      margin-bottom: 4px;\n",
              "    }\n",
              "\n",
              "    [theme=dark] .colab-df-convert {\n",
              "      background-color: #3B4455;\n",
              "      fill: #D2E3FC;\n",
              "    }\n",
              "\n",
              "    [theme=dark] .colab-df-convert:hover {\n",
              "      background-color: #434B5C;\n",
              "      box-shadow: 0px 1px 3px 1px rgba(0, 0, 0, 0.15);\n",
              "      filter: drop-shadow(0px 1px 2px rgba(0, 0, 0, 0.3));\n",
              "      fill: #FFFFFF;\n",
              "    }\n",
              "  </style>\n",
              "\n",
              "    <script>\n",
              "      const buttonEl =\n",
              "        document.querySelector('#df-1b74049c-4c72-44e4-9581-d499ba7b6fbf button.colab-df-convert');\n",
              "      buttonEl.style.display =\n",
              "        google.colab.kernel.accessAllowed ? 'block' : 'none';\n",
              "\n",
              "      async function convertToInteractive(key) {\n",
              "        const element = document.querySelector('#df-1b74049c-4c72-44e4-9581-d499ba7b6fbf');\n",
              "        const dataTable =\n",
              "          await google.colab.kernel.invokeFunction('convertToInteractive',\n",
              "                                                    [key], {});\n",
              "        if (!dataTable) return;\n",
              "\n",
              "        const docLinkHtml = 'Like what you see? Visit the ' +\n",
              "          '<a target=\"_blank\" href=https://colab.research.google.com/notebooks/data_table.ipynb>data table notebook</a>'\n",
              "          + ' to learn more about interactive tables.';\n",
              "        element.innerHTML = '';\n",
              "        dataTable['output_type'] = 'display_data';\n",
              "        await google.colab.output.renderOutput(dataTable, element);\n",
              "        const docLink = document.createElement('div');\n",
              "        docLink.innerHTML = docLinkHtml;\n",
              "        element.appendChild(docLink);\n",
              "      }\n",
              "    </script>\n",
              "  </div>\n",
              "\n",
              "\n",
              "<div id=\"df-c292b2d9-3577-4dab-b798-c774b7047748\">\n",
              "  <button class=\"colab-df-quickchart\" onclick=\"quickchart('df-c292b2d9-3577-4dab-b798-c774b7047748')\"\n",
              "            title=\"Suggest charts\"\n",
              "            style=\"display:none;\">\n",
              "\n",
              "<svg xmlns=\"http://www.w3.org/2000/svg\" height=\"24px\"viewBox=\"0 0 24 24\"\n",
              "     width=\"24px\">\n",
              "    <g>\n",
              "        <path d=\"M19 3H5c-1.1 0-2 .9-2 2v14c0 1.1.9 2 2 2h14c1.1 0 2-.9 2-2V5c0-1.1-.9-2-2-2zM9 17H7v-7h2v7zm4 0h-2V7h2v10zm4 0h-2v-4h2v4z\"/>\n",
              "    </g>\n",
              "</svg>\n",
              "  </button>\n",
              "\n",
              "<style>\n",
              "  .colab-df-quickchart {\n",
              "      --bg-color: #E8F0FE;\n",
              "      --fill-color: #1967D2;\n",
              "      --hover-bg-color: #E2EBFA;\n",
              "      --hover-fill-color: #174EA6;\n",
              "      --disabled-fill-color: #AAA;\n",
              "      --disabled-bg-color: #DDD;\n",
              "  }\n",
              "\n",
              "  [theme=dark] .colab-df-quickchart {\n",
              "      --bg-color: #3B4455;\n",
              "      --fill-color: #D2E3FC;\n",
              "      --hover-bg-color: #434B5C;\n",
              "      --hover-fill-color: #FFFFFF;\n",
              "      --disabled-bg-color: #3B4455;\n",
              "      --disabled-fill-color: #666;\n",
              "  }\n",
              "\n",
              "  .colab-df-quickchart {\n",
              "    background-color: var(--bg-color);\n",
              "    border: none;\n",
              "    border-radius: 50%;\n",
              "    cursor: pointer;\n",
              "    display: none;\n",
              "    fill: var(--fill-color);\n",
              "    height: 32px;\n",
              "    padding: 0;\n",
              "    width: 32px;\n",
              "  }\n",
              "\n",
              "  .colab-df-quickchart:hover {\n",
              "    background-color: var(--hover-bg-color);\n",
              "    box-shadow: 0 1px 2px rgba(60, 64, 67, 0.3), 0 1px 3px 1px rgba(60, 64, 67, 0.15);\n",
              "    fill: var(--button-hover-fill-color);\n",
              "  }\n",
              "\n",
              "  .colab-df-quickchart-complete:disabled,\n",
              "  .colab-df-quickchart-complete:disabled:hover {\n",
              "    background-color: var(--disabled-bg-color);\n",
              "    fill: var(--disabled-fill-color);\n",
              "    box-shadow: none;\n",
              "  }\n",
              "\n",
              "  .colab-df-spinner {\n",
              "    border: 2px solid var(--fill-color);\n",
              "    border-color: transparent;\n",
              "    border-bottom-color: var(--fill-color);\n",
              "    animation:\n",
              "      spin 1s steps(1) infinite;\n",
              "  }\n",
              "\n",
              "  @keyframes spin {\n",
              "    0% {\n",
              "      border-color: transparent;\n",
              "      border-bottom-color: var(--fill-color);\n",
              "      border-left-color: var(--fill-color);\n",
              "    }\n",
              "    20% {\n",
              "      border-color: transparent;\n",
              "      border-left-color: var(--fill-color);\n",
              "      border-top-color: var(--fill-color);\n",
              "    }\n",
              "    30% {\n",
              "      border-color: transparent;\n",
              "      border-left-color: var(--fill-color);\n",
              "      border-top-color: var(--fill-color);\n",
              "      border-right-color: var(--fill-color);\n",
              "    }\n",
              "    40% {\n",
              "      border-color: transparent;\n",
              "      border-right-color: var(--fill-color);\n",
              "      border-top-color: var(--fill-color);\n",
              "    }\n",
              "    60% {\n",
              "      border-color: transparent;\n",
              "      border-right-color: var(--fill-color);\n",
              "    }\n",
              "    80% {\n",
              "      border-color: transparent;\n",
              "      border-right-color: var(--fill-color);\n",
              "      border-bottom-color: var(--fill-color);\n",
              "    }\n",
              "    90% {\n",
              "      border-color: transparent;\n",
              "      border-bottom-color: var(--fill-color);\n",
              "    }\n",
              "  }\n",
              "</style>\n",
              "\n",
              "  <script>\n",
              "    async function quickchart(key) {\n",
              "      const quickchartButtonEl =\n",
              "        document.querySelector('#' + key + ' button');\n",
              "      quickchartButtonEl.disabled = true;  // To prevent multiple clicks.\n",
              "      quickchartButtonEl.classList.add('colab-df-spinner');\n",
              "      try {\n",
              "        const charts = await google.colab.kernel.invokeFunction(\n",
              "            'suggestCharts', [key], {});\n",
              "      } catch (error) {\n",
              "        console.error('Error during call to suggestCharts:', error);\n",
              "      }\n",
              "      quickchartButtonEl.classList.remove('colab-df-spinner');\n",
              "      quickchartButtonEl.classList.add('colab-df-quickchart-complete');\n",
              "    }\n",
              "    (() => {\n",
              "      let quickchartButtonEl =\n",
              "        document.querySelector('#df-c292b2d9-3577-4dab-b798-c774b7047748 button');\n",
              "      quickchartButtonEl.style.display =\n",
              "        google.colab.kernel.accessAllowed ? 'block' : 'none';\n",
              "    })();\n",
              "  </script>\n",
              "</div>\n",
              "    </div>\n",
              "  </div>\n"
            ],
            "application/vnd.google.colaboratory.intrinsic+json": {
              "type": "dataframe",
              "repr_error": "0"
            }
          },
          "metadata": {},
          "execution_count": 2
        }
      ],
      "source": [
        "df = pd.read_csv('/content/tweets_coronavirus.csv', encoding='latin-1')\n",
        "df.sample(4)"
      ]
    },
    {
      "cell_type": "markdown",
      "metadata": {
        "id": "m2OiDog9ZBlS"
      },
      "source": [
        "Для каждого твитта указано:\n",
        "\n",
        "\n",
        "*   UserName - имя пользователя, заменено на целое число для анонимности\n",
        "*   ScreenName - отображающееся имя пользователя, заменено на целое число для анонимности\n",
        "*   Location - местоположение\n",
        "*   TweetAt - дата создания твитта\n",
        "*   OriginalTweet - текст твитта\n",
        "*   Sentiment - эмоциональная окраска твитта (целевая переменная)\n",
        "\n"
      ]
    },
    {
      "cell_type": "markdown",
      "metadata": {
        "id": "pZTMseDkhTC7"
      },
      "source": [
        "## Задание 1 Подготовка (0.5 балла)"
      ]
    },
    {
      "cell_type": "markdown",
      "metadata": {
        "id": "Xx2-odn9hdAW"
      },
      "source": [
        "Целевая переменная находится в колонке `Sentiment`.  Преобразуйте ее таким образом, чтобы она стала бинарной: 1 - если у твитта положительная эмоциональная окраска и 0 - если отрицательная."
      ]
    },
    {
      "cell_type": "code",
      "execution_count": null,
      "metadata": {
        "colab": {
          "base_uri": "https://localhost:8080/"
        },
        "id": "ZaQKQ1zEjP15",
        "outputId": "2747a550-fc56-4d2d-8e6f-f97590bdddf8"
      },
      "outputs": [
        {
          "output_type": "execute_result",
          "data": {
            "text/plain": [
              "array(['Positive', 'Extremely Negative', 'Negative', 'Extremely Positive'],\n",
              "      dtype=object)"
            ]
          },
          "metadata": {},
          "execution_count": 3
        }
      ],
      "source": [
        "df['Sentiment'].unique()"
      ]
    },
    {
      "cell_type": "code",
      "execution_count": null,
      "metadata": {
        "id": "cmJJptwDDzfp"
      },
      "outputs": [],
      "source": [
        "# Преобразование целевой переменной в бинарную\n",
        "df['Sentiment'] = df['Sentiment'].apply(lambda x: 1 if 'Positive' in x else 0)"
      ]
    },
    {
      "cell_type": "code",
      "execution_count": null,
      "metadata": {
        "colab": {
          "base_uri": "https://localhost:8080/",
          "height": 244
        },
        "id": "SlnU17DKD4Ql",
        "outputId": "a70d575f-43cb-45f9-92d0-e443b13691a6"
      },
      "outputs": [
        {
          "output_type": "execute_result",
          "data": {
            "text/plain": [
              "       UserName  ScreenName           Location     TweetAt  \\\n",
              "20131     28348       73300         Austin, TX  26-03-2020   \n",
              "10588     16641       61593  San Francisco, CA  21-03-2020   \n",
              "17234     24772       69724        Switzerland  25-03-2020   \n",
              "14363     21243       66195          Tempe, AZ  23-03-2020   \n",
              "\n",
              "                                           OriginalTweet  Sentiment  \n",
              "20131  We were curious how HEB managed to be so prepa...          1  \n",
              "10588  ?BEWARE OF VIRUS ROBOCALLS\\r\\r\\nI wish I could...          1  \n",
              "17234  Total calm at the Swiss supermarket this morni...          1  \n",
              "14363  I wrote a thing reflecting on c virus and grie...          0  "
            ],
            "text/html": [
              "\n",
              "  <div id=\"df-0eda3515-f1ae-4cb5-ba57-e476c5eb172a\" class=\"colab-df-container\">\n",
              "    <div>\n",
              "<style scoped>\n",
              "    .dataframe tbody tr th:only-of-type {\n",
              "        vertical-align: middle;\n",
              "    }\n",
              "\n",
              "    .dataframe tbody tr th {\n",
              "        vertical-align: top;\n",
              "    }\n",
              "\n",
              "    .dataframe thead th {\n",
              "        text-align: right;\n",
              "    }\n",
              "</style>\n",
              "<table border=\"1\" class=\"dataframe\">\n",
              "  <thead>\n",
              "    <tr style=\"text-align: right;\">\n",
              "      <th></th>\n",
              "      <th>UserName</th>\n",
              "      <th>ScreenName</th>\n",
              "      <th>Location</th>\n",
              "      <th>TweetAt</th>\n",
              "      <th>OriginalTweet</th>\n",
              "      <th>Sentiment</th>\n",
              "    </tr>\n",
              "  </thead>\n",
              "  <tbody>\n",
              "    <tr>\n",
              "      <th>20131</th>\n",
              "      <td>28348</td>\n",
              "      <td>73300</td>\n",
              "      <td>Austin, TX</td>\n",
              "      <td>26-03-2020</td>\n",
              "      <td>We were curious how HEB managed to be so prepa...</td>\n",
              "      <td>1</td>\n",
              "    </tr>\n",
              "    <tr>\n",
              "      <th>10588</th>\n",
              "      <td>16641</td>\n",
              "      <td>61593</td>\n",
              "      <td>San Francisco, CA</td>\n",
              "      <td>21-03-2020</td>\n",
              "      <td>?BEWARE OF VIRUS ROBOCALLS\\r\\r\\nI wish I could...</td>\n",
              "      <td>1</td>\n",
              "    </tr>\n",
              "    <tr>\n",
              "      <th>17234</th>\n",
              "      <td>24772</td>\n",
              "      <td>69724</td>\n",
              "      <td>Switzerland</td>\n",
              "      <td>25-03-2020</td>\n",
              "      <td>Total calm at the Swiss supermarket this morni...</td>\n",
              "      <td>1</td>\n",
              "    </tr>\n",
              "    <tr>\n",
              "      <th>14363</th>\n",
              "      <td>21243</td>\n",
              "      <td>66195</td>\n",
              "      <td>Tempe, AZ</td>\n",
              "      <td>23-03-2020</td>\n",
              "      <td>I wrote a thing reflecting on c virus and grie...</td>\n",
              "      <td>0</td>\n",
              "    </tr>\n",
              "  </tbody>\n",
              "</table>\n",
              "</div>\n",
              "    <div class=\"colab-df-buttons\">\n",
              "\n",
              "  <div class=\"colab-df-container\">\n",
              "    <button class=\"colab-df-convert\" onclick=\"convertToInteractive('df-0eda3515-f1ae-4cb5-ba57-e476c5eb172a')\"\n",
              "            title=\"Convert this dataframe to an interactive table.\"\n",
              "            style=\"display:none;\">\n",
              "\n",
              "  <svg xmlns=\"http://www.w3.org/2000/svg\" height=\"24px\" viewBox=\"0 -960 960 960\">\n",
              "    <path d=\"M120-120v-720h720v720H120Zm60-500h600v-160H180v160Zm220 220h160v-160H400v160Zm0 220h160v-160H400v160ZM180-400h160v-160H180v160Zm440 0h160v-160H620v160ZM180-180h160v-160H180v160Zm440 0h160v-160H620v160Z\"/>\n",
              "  </svg>\n",
              "    </button>\n",
              "\n",
              "  <style>\n",
              "    .colab-df-container {\n",
              "      display:flex;\n",
              "      gap: 12px;\n",
              "    }\n",
              "\n",
              "    .colab-df-convert {\n",
              "      background-color: #E8F0FE;\n",
              "      border: none;\n",
              "      border-radius: 50%;\n",
              "      cursor: pointer;\n",
              "      display: none;\n",
              "      fill: #1967D2;\n",
              "      height: 32px;\n",
              "      padding: 0 0 0 0;\n",
              "      width: 32px;\n",
              "    }\n",
              "\n",
              "    .colab-df-convert:hover {\n",
              "      background-color: #E2EBFA;\n",
              "      box-shadow: 0px 1px 2px rgba(60, 64, 67, 0.3), 0px 1px 3px 1px rgba(60, 64, 67, 0.15);\n",
              "      fill: #174EA6;\n",
              "    }\n",
              "\n",
              "    .colab-df-buttons div {\n",
              "      margin-bottom: 4px;\n",
              "    }\n",
              "\n",
              "    [theme=dark] .colab-df-convert {\n",
              "      background-color: #3B4455;\n",
              "      fill: #D2E3FC;\n",
              "    }\n",
              "\n",
              "    [theme=dark] .colab-df-convert:hover {\n",
              "      background-color: #434B5C;\n",
              "      box-shadow: 0px 1px 3px 1px rgba(0, 0, 0, 0.15);\n",
              "      filter: drop-shadow(0px 1px 2px rgba(0, 0, 0, 0.3));\n",
              "      fill: #FFFFFF;\n",
              "    }\n",
              "  </style>\n",
              "\n",
              "    <script>\n",
              "      const buttonEl =\n",
              "        document.querySelector('#df-0eda3515-f1ae-4cb5-ba57-e476c5eb172a button.colab-df-convert');\n",
              "      buttonEl.style.display =\n",
              "        google.colab.kernel.accessAllowed ? 'block' : 'none';\n",
              "\n",
              "      async function convertToInteractive(key) {\n",
              "        const element = document.querySelector('#df-0eda3515-f1ae-4cb5-ba57-e476c5eb172a');\n",
              "        const dataTable =\n",
              "          await google.colab.kernel.invokeFunction('convertToInteractive',\n",
              "                                                    [key], {});\n",
              "        if (!dataTable) return;\n",
              "\n",
              "        const docLinkHtml = 'Like what you see? Visit the ' +\n",
              "          '<a target=\"_blank\" href=https://colab.research.google.com/notebooks/data_table.ipynb>data table notebook</a>'\n",
              "          + ' to learn more about interactive tables.';\n",
              "        element.innerHTML = '';\n",
              "        dataTable['output_type'] = 'display_data';\n",
              "        await google.colab.output.renderOutput(dataTable, element);\n",
              "        const docLink = document.createElement('div');\n",
              "        docLink.innerHTML = docLinkHtml;\n",
              "        element.appendChild(docLink);\n",
              "      }\n",
              "    </script>\n",
              "  </div>\n",
              "\n",
              "\n",
              "<div id=\"df-b061d398-0d19-49be-8f7a-f8d3c9e0336f\">\n",
              "  <button class=\"colab-df-quickchart\" onclick=\"quickchart('df-b061d398-0d19-49be-8f7a-f8d3c9e0336f')\"\n",
              "            title=\"Suggest charts\"\n",
              "            style=\"display:none;\">\n",
              "\n",
              "<svg xmlns=\"http://www.w3.org/2000/svg\" height=\"24px\"viewBox=\"0 0 24 24\"\n",
              "     width=\"24px\">\n",
              "    <g>\n",
              "        <path d=\"M19 3H5c-1.1 0-2 .9-2 2v14c0 1.1.9 2 2 2h14c1.1 0 2-.9 2-2V5c0-1.1-.9-2-2-2zM9 17H7v-7h2v7zm4 0h-2V7h2v10zm4 0h-2v-4h2v4z\"/>\n",
              "    </g>\n",
              "</svg>\n",
              "  </button>\n",
              "\n",
              "<style>\n",
              "  .colab-df-quickchart {\n",
              "      --bg-color: #E8F0FE;\n",
              "      --fill-color: #1967D2;\n",
              "      --hover-bg-color: #E2EBFA;\n",
              "      --hover-fill-color: #174EA6;\n",
              "      --disabled-fill-color: #AAA;\n",
              "      --disabled-bg-color: #DDD;\n",
              "  }\n",
              "\n",
              "  [theme=dark] .colab-df-quickchart {\n",
              "      --bg-color: #3B4455;\n",
              "      --fill-color: #D2E3FC;\n",
              "      --hover-bg-color: #434B5C;\n",
              "      --hover-fill-color: #FFFFFF;\n",
              "      --disabled-bg-color: #3B4455;\n",
              "      --disabled-fill-color: #666;\n",
              "  }\n",
              "\n",
              "  .colab-df-quickchart {\n",
              "    background-color: var(--bg-color);\n",
              "    border: none;\n",
              "    border-radius: 50%;\n",
              "    cursor: pointer;\n",
              "    display: none;\n",
              "    fill: var(--fill-color);\n",
              "    height: 32px;\n",
              "    padding: 0;\n",
              "    width: 32px;\n",
              "  }\n",
              "\n",
              "  .colab-df-quickchart:hover {\n",
              "    background-color: var(--hover-bg-color);\n",
              "    box-shadow: 0 1px 2px rgba(60, 64, 67, 0.3), 0 1px 3px 1px rgba(60, 64, 67, 0.15);\n",
              "    fill: var(--button-hover-fill-color);\n",
              "  }\n",
              "\n",
              "  .colab-df-quickchart-complete:disabled,\n",
              "  .colab-df-quickchart-complete:disabled:hover {\n",
              "    background-color: var(--disabled-bg-color);\n",
              "    fill: var(--disabled-fill-color);\n",
              "    box-shadow: none;\n",
              "  }\n",
              "\n",
              "  .colab-df-spinner {\n",
              "    border: 2px solid var(--fill-color);\n",
              "    border-color: transparent;\n",
              "    border-bottom-color: var(--fill-color);\n",
              "    animation:\n",
              "      spin 1s steps(1) infinite;\n",
              "  }\n",
              "\n",
              "  @keyframes spin {\n",
              "    0% {\n",
              "      border-color: transparent;\n",
              "      border-bottom-color: var(--fill-color);\n",
              "      border-left-color: var(--fill-color);\n",
              "    }\n",
              "    20% {\n",
              "      border-color: transparent;\n",
              "      border-left-color: var(--fill-color);\n",
              "      border-top-color: var(--fill-color);\n",
              "    }\n",
              "    30% {\n",
              "      border-color: transparent;\n",
              "      border-left-color: var(--fill-color);\n",
              "      border-top-color: var(--fill-color);\n",
              "      border-right-color: var(--fill-color);\n",
              "    }\n",
              "    40% {\n",
              "      border-color: transparent;\n",
              "      border-right-color: var(--fill-color);\n",
              "      border-top-color: var(--fill-color);\n",
              "    }\n",
              "    60% {\n",
              "      border-color: transparent;\n",
              "      border-right-color: var(--fill-color);\n",
              "    }\n",
              "    80% {\n",
              "      border-color: transparent;\n",
              "      border-right-color: var(--fill-color);\n",
              "      border-bottom-color: var(--fill-color);\n",
              "    }\n",
              "    90% {\n",
              "      border-color: transparent;\n",
              "      border-bottom-color: var(--fill-color);\n",
              "    }\n",
              "  }\n",
              "</style>\n",
              "\n",
              "  <script>\n",
              "    async function quickchart(key) {\n",
              "      const quickchartButtonEl =\n",
              "        document.querySelector('#' + key + ' button');\n",
              "      quickchartButtonEl.disabled = true;  // To prevent multiple clicks.\n",
              "      quickchartButtonEl.classList.add('colab-df-spinner');\n",
              "      try {\n",
              "        const charts = await google.colab.kernel.invokeFunction(\n",
              "            'suggestCharts', [key], {});\n",
              "      } catch (error) {\n",
              "        console.error('Error during call to suggestCharts:', error);\n",
              "      }\n",
              "      quickchartButtonEl.classList.remove('colab-df-spinner');\n",
              "      quickchartButtonEl.classList.add('colab-df-quickchart-complete');\n",
              "    }\n",
              "    (() => {\n",
              "      let quickchartButtonEl =\n",
              "        document.querySelector('#df-b061d398-0d19-49be-8f7a-f8d3c9e0336f button');\n",
              "      quickchartButtonEl.style.display =\n",
              "        google.colab.kernel.accessAllowed ? 'block' : 'none';\n",
              "    })();\n",
              "  </script>\n",
              "</div>\n",
              "    </div>\n",
              "  </div>\n"
            ],
            "application/vnd.google.colaboratory.intrinsic+json": {
              "type": "dataframe",
              "repr_error": "0"
            }
          },
          "metadata": {},
          "execution_count": 5
        }
      ],
      "source": [
        "df.sample(4)"
      ]
    },
    {
      "cell_type": "markdown",
      "metadata": {
        "id": "pGq1FxJ-kBo5"
      },
      "source": [
        "Сбалансированы ли классы?"
      ]
    },
    {
      "cell_type": "code",
      "execution_count": null,
      "metadata": {
        "colab": {
          "base_uri": "https://localhost:8080/"
        },
        "id": "a7gdNtxckK5V",
        "outputId": "c211ed66-f96d-4696-a21a-8b3b350ee6fa"
      },
      "outputs": [
        {
          "output_type": "execute_result",
          "data": {
            "text/plain": [
              "Sentiment\n",
              "1    18046\n",
              "0    15398\n",
              "Name: count, dtype: int64"
            ]
          },
          "metadata": {},
          "execution_count": 6
        }
      ],
      "source": [
        "df['Sentiment'].value_counts()"
      ]
    },
    {
      "cell_type": "markdown",
      "metadata": {
        "id": "Ng8BCelMkWb0"
      },
      "source": [
        "**Ответ:** Классы сбалансированы, разница между представителями положительных и отрицательных твитов невелика."
      ]
    },
    {
      "cell_type": "markdown",
      "metadata": {
        "id": "qmSIBSsLk5Zz"
      },
      "source": [
        "Выведете на экран информацию о пропусках в данных. Если пропуски присутствуют заполните их строкой 'Unknown'."
      ]
    },
    {
      "cell_type": "code",
      "execution_count": null,
      "metadata": {
        "colab": {
          "base_uri": "https://localhost:8080/"
        },
        "id": "UhUVRkR5kxa7",
        "outputId": "a249e7ac-7852-43e0-edab-0f5743fe3793"
      },
      "outputs": [
        {
          "output_type": "execute_result",
          "data": {
            "text/plain": [
              "UserName            0\n",
              "ScreenName          0\n",
              "Location         7049\n",
              "TweetAt             0\n",
              "OriginalTweet       0\n",
              "Sentiment           0\n",
              "dtype: int64"
            ]
          },
          "metadata": {},
          "execution_count": 7
        }
      ],
      "source": [
        "# Проверка пропусков в данных\n",
        "df.isna().sum()"
      ]
    },
    {
      "cell_type": "code",
      "execution_count": null,
      "metadata": {
        "colab": {
          "base_uri": "https://localhost:8080/"
        },
        "id": "X-WS9hfAFpJm",
        "outputId": "b89ab7fe-ce88-495d-e9c7-93b6dfc5e58c"
      },
      "outputs": [
        {
          "output_type": "execute_result",
          "data": {
            "text/plain": [
              "UserName         0\n",
              "ScreenName       0\n",
              "Location         0\n",
              "TweetAt          0\n",
              "OriginalTweet    0\n",
              "Sentiment        0\n",
              "dtype: int64"
            ]
          },
          "metadata": {},
          "execution_count": 8
        }
      ],
      "source": [
        "# Заполнение пропусков в фиче Location и последующая проверка отсутствия пропусков\n",
        "df.fillna('Unknown', inplace=True)\n",
        "df.isna().sum()"
      ]
    },
    {
      "cell_type": "markdown",
      "metadata": {
        "id": "1tzt27tfjUpq"
      },
      "source": [
        "Разделите данные на обучающие и тестовые в соотношении 7 : 3 и `random_state=0`"
      ]
    },
    {
      "cell_type": "code",
      "execution_count": null,
      "metadata": {
        "id": "xSLOA9tIj9Z6"
      },
      "outputs": [],
      "source": [
        "from sklearn.model_selection import train_test_split\n",
        "\n",
        "train, test = train_test_split(df, test_size=0.3, random_state=0)"
      ]
    },
    {
      "cell_type": "markdown",
      "metadata": {
        "id": "J9RrPUsJlL60"
      },
      "source": [
        "## Задание 2 Токенизация (3 балла)"
      ]
    },
    {
      "cell_type": "markdown",
      "metadata": {
        "id": "2Dz_b7Xopc_R"
      },
      "source": [
        "Постройте словарь на основе обучающей выборки и посчитайте количество встреч каждого токена с использованием самой простой токенизации - деления текстов по пробельным символам и приведение токенов в нижний регистр"
      ]
    },
    {
      "cell_type": "code",
      "execution_count": null,
      "metadata": {
        "id": "SFr67WOJphny"
      },
      "outputs": [],
      "source": [
        "from collections import Counter\n",
        "\n",
        "token_counts = Counter()\n",
        "tweets = train['OriginalTweet']\n",
        "\n",
        "# Деление твитов на токены по пробелам и преобразование их к нижнему регистру\n",
        "for tweet in tweets:\n",
        "    tokens = tweet.lower().split()\n",
        "    token_counts.update(tokens)"
      ]
    },
    {
      "cell_type": "markdown",
      "metadata": {
        "id": "Pe0h2Jqkpnao"
      },
      "source": [
        "Какой размер словаря получился?"
      ]
    },
    {
      "cell_type": "code",
      "execution_count": null,
      "metadata": {
        "colab": {
          "base_uri": "https://localhost:8080/"
        },
        "id": "umyENA7EpokD",
        "outputId": "f31b4cd4-f26d-4d31-d670-6c5cb1c3e3a7"
      },
      "outputs": [
        {
          "output_type": "execute_result",
          "data": {
            "text/plain": [
              "79755"
            ]
          },
          "metadata": {},
          "execution_count": 11
        }
      ],
      "source": [
        "len(token_counts)"
      ]
    },
    {
      "cell_type": "markdown",
      "metadata": {
        "id": "0d2G1Z-Qpqkd"
      },
      "source": [
        "Выведите 10 самых популярных токенов с количеством встреч каждого из них. Объясните, почему именно эти токены в топе"
      ]
    },
    {
      "cell_type": "code",
      "execution_count": null,
      "metadata": {
        "colab": {
          "base_uri": "https://localhost:8080/"
        },
        "id": "Impi32a_pssg",
        "outputId": "f7b68f4a-4bec-4a32-d814-4ec1dd32dd5b"
      },
      "outputs": [
        {
          "output_type": "execute_result",
          "data": {
            "text/plain": [
              "[('the', 26815),\n",
              " ('to', 23373),\n",
              " ('and', 14684),\n",
              " ('of', 13012),\n",
              " ('a', 11737),\n",
              " ('in', 11198),\n",
              " ('for', 8566),\n",
              " ('#coronavirus', 8223),\n",
              " ('is', 7383),\n",
              " ('are', 7050)]"
            ]
          },
          "metadata": {},
          "execution_count": 12
        }
      ],
      "source": [
        "token_counts.most_common(10)"
      ]
    },
    {
      "cell_type": "markdown",
      "metadata": {
        "id": "ZtuJCD0ApuFd"
      },
      "source": [
        "**Ответ:** Большую часть топа токенов занимают стоп-слова, то есть слова, которые встречаются почти в любом твите и не говорят ничего интересного о конкретном твите - это шум. Единственный токен, который может быть интересен - это #coronavirus, однако и этот токен характеризует общую тематику твитов и вряд ли поможет для определения эмоциональной окраски твита."
      ]
    },
    {
      "cell_type": "markdown",
      "metadata": {
        "id": "T7DTQDkWsVYp"
      },
      "source": [
        "Удалите стоп-слова из словаря и выведите новый топ-10 токенов (и количество встреч) по популярности.  Что можно сказать  о нем?"
      ]
    },
    {
      "cell_type": "code",
      "execution_count": null,
      "metadata": {
        "id": "8csSAdgTsnFx"
      },
      "outputs": [],
      "source": [
        "import nltk\n",
        "from nltk.corpus import stopwords\n",
        "\n",
        "# Загрузка английских стоп слов\n",
        "nltk.download(\"stopwords\", quiet=True)\n",
        "noise = stopwords.words('english')\n",
        "# Удаление стоп слов из словаря токенов\n",
        "token_counts = Counter({token: count for token, count in token_counts.items() if token not in noise})"
      ]
    },
    {
      "cell_type": "code",
      "execution_count": null,
      "metadata": {
        "colab": {
          "base_uri": "https://localhost:8080/"
        },
        "id": "DuM_MI6rKf7p",
        "outputId": "80bfc017-5c70-4f48-917c-a08dd9f9ae44"
      },
      "outputs": [
        {
          "output_type": "execute_result",
          "data": {
            "text/plain": [
              "[('#coronavirus', 8223),\n",
              " ('prices', 3891),\n",
              " ('food', 3820),\n",
              " ('grocery', 3469),\n",
              " ('supermarket', 3288),\n",
              " ('people', 3175),\n",
              " ('covid-19', 3173),\n",
              " ('store', 3155),\n",
              " ('#covid19', 2471),\n",
              " ('&amp;', 2314)]"
            ]
          },
          "metadata": {},
          "execution_count": 14
        }
      ],
      "source": [
        "token_counts.most_common(10)"
      ]
    },
    {
      "cell_type": "markdown",
      "metadata": {
        "id": "LZH0x2Lzs-Dh"
      },
      "source": [
        "**Ответ:** Новый топ токенов теперь не содержит шумовых стоп-слов. Теперь самые популярные токены связаны с общей тематикой твитов - короновирус и его последствия - изменения цен, еда, магазины, супермаркеты, люди и т.д. Кроме того в топ токенов попадают хэштеги тематики короновируса: #covid19, #coronavirus. Единственный токен, который не несет никакой информации для определения эмоциональной окраски твита - HTML тэг &amp"
      ]
    },
    {
      "cell_type": "markdown",
      "metadata": {
        "id": "TKSGRyI-uor0"
      },
      "source": [
        "Также выведите 20 самых непопулярных слов (если самых непопулярных слов больше выведите любые 20 из них) Почему эти токены непопулярны, требуется ли как-то дополнительно работать с ними?"
      ]
    },
    {
      "cell_type": "code",
      "execution_count": null,
      "metadata": {
        "colab": {
          "base_uri": "https://localhost:8080/"
        },
        "id": "moArbwfvun9t",
        "outputId": "0bccfd34-d813-44a8-fa10-206d2e3ba0d0"
      },
      "outputs": [
        {
          "output_type": "execute_result",
          "data": {
            "text/plain": [
              "[('skellig', 1),\n",
              " ('coast!', 1),\n",
              " ('closer!)', 1),\n",
              " ('@skelligsix18', 1),\n",
              " ('#skelligcoast2kms', 1),\n",
              " ('#southkerry', 1),\n",
              " ('https://t.co/zjcl195vqs', 1),\n",
              " ('@srinivasiyc', 1),\n",
              " ('https://t.co/iaek4fwsgz', 1),\n",
              " ('premiership', 1),\n",
              " ('non-playing', 1),\n",
              " ('subsidise', 1),\n",
              " ('playersã\\x82â\\x92', 1),\n",
              " ('renewing', 1),\n",
              " ('wage!', 1),\n",
              " ('flew', 1),\n",
              " ('nothing...', 1),\n",
              " ('@torontopearson', 1),\n",
              " ('@680news', 1),\n",
              " ('https://t.co/7j2y3rsld9', 1)]"
            ]
          },
          "metadata": {},
          "execution_count": 15
        }
      ],
      "source": [
        "token_counts.most_common()[-20:]"
      ]
    },
    {
      "cell_type": "markdown",
      "metadata": {
        "id": "uRp3J1gQunlR"
      },
      "source": [
        "**Ответ:** Эти токены непопулярны, так как они специфичные и узконаправленные, они являются уникальными для некоторых твитов. Кроме того, многие из этих токенов необработаны - в них присутствуют знаки препинания, уникальные символы, ссылки. Необходимо их обработать и привести к более общему виду, так как в них может содержаться важная для эмоциональной окраски информация.\n",
        "\n"
      ]
    },
    {
      "cell_type": "markdown",
      "metadata": {
        "id": "wx9LQOSPzvjV"
      },
      "source": [
        "Теперь воспользуемся токенайзером получше - TweetTokenizer из библиотеки nltk. Примените его и посмотрите на топ-10 популярных слов. Чем он отличается от топа, который получался раньше? Почему?"
      ]
    },
    {
      "cell_type": "code",
      "execution_count": null,
      "metadata": {
        "id": "2G1UkyVxzvFY"
      },
      "outputs": [],
      "source": [
        "from nltk.tokenize import TweetTokenizer\n",
        "\n",
        "# Инициализируем твит токенайзер\n",
        "tweet_tokenizer = TweetTokenizer()\n",
        "token_counts = Counter()\n",
        "# Берем твиты тестовой части\n",
        "tweets = train['OriginalTweet']\n",
        "\n",
        "# Токенизируем твиты\n",
        "for tweet in tweets:\n",
        "    tokens = tweet_tokenizer.tokenize(tweet.lower())\n",
        "    token_counts.update(tokens)"
      ]
    },
    {
      "cell_type": "code",
      "execution_count": null,
      "metadata": {
        "colab": {
          "base_uri": "https://localhost:8080/"
        },
        "id": "1Sgd6fR6TWZF",
        "outputId": "ba45bd99-4603-44dc-a559-f5a6c19911ab"
      },
      "outputs": [
        {
          "output_type": "execute_result",
          "data": {
            "text/plain": [
              "[('the', 26993),\n",
              " ('.', 24118),\n",
              " ('to', 23478),\n",
              " (',', 17571),\n",
              " ('and', 14825),\n",
              " ('of', 13044),\n",
              " ('a', 11891),\n",
              " ('in', 11348),\n",
              " ('?', 9524),\n",
              " ('#coronavirus', 8808)]"
            ]
          },
          "metadata": {},
          "execution_count": 17
        }
      ],
      "source": [
        "token_counts.most_common(10)"
      ]
    },
    {
      "cell_type": "markdown",
      "metadata": {
        "id": "50eVUnJN1Zxl"
      },
      "source": [
        "**Ответ:** TweetTokenizer лучше работает с твитами, он отделяет знаки препинания, скобочки и другие спецсимволы, характерные для твитов, которые могут нести информацию об эмоциональной окраске твита, в отличие от обычного токенайзера по сплитам пробелов, который не выделяет спецсимволы и знаки препинания, если они не отделены от слова пробелом."
      ]
    },
    {
      "cell_type": "markdown",
      "metadata": {
        "id": "1gqQgiMs11bs"
      },
      "source": [
        "Удалите из словаря стоп-слова и пунктуацию, посмотрите на новый топ-10 слов с количеством встреч, есть ли теперь в нем что-то не похожее на слова?"
      ]
    },
    {
      "cell_type": "code",
      "execution_count": null,
      "metadata": {
        "id": "0yHWdFrp0Mup"
      },
      "outputs": [],
      "source": [
        "from string import punctuation\n",
        "\n",
        "# Добавляем в шумовой список стоп-слова и знаки пунктуации\n",
        "noise = stopwords.words('english') + list(punctuation)\n",
        "# Удаляем из словаря токенов шум\n",
        "token_counts = Counter({token: count for token, count in token_counts.items() if token not in noise})"
      ]
    },
    {
      "cell_type": "code",
      "execution_count": null,
      "metadata": {
        "colab": {
          "base_uri": "https://localhost:8080/"
        },
        "id": "Mzt0bK2PUz9V",
        "outputId": "61f92277-7fee-4105-a543-f0e962330c12"
      },
      "outputs": [
        {
          "output_type": "execute_result",
          "data": {
            "text/plain": [
              "[('#coronavirus', 8808),\n",
              " ('â', 7415),\n",
              " ('\\x82', 7311),\n",
              " ('19', 7167),\n",
              " ('covid', 6253),\n",
              " ('prices', 4601),\n",
              " ('\\x92', 4372),\n",
              " ('food', 4367),\n",
              " ('store', 3877),\n",
              " ('supermarket', 3805)]"
            ]
          },
          "metadata": {},
          "execution_count": 19
        }
      ],
      "source": [
        "token_counts.most_common(10)"
      ]
    },
    {
      "cell_type": "markdown",
      "metadata": {
        "id": "8ZJqXELP_Yxy"
      },
      "source": [
        "**Ответ:** Теперь в топ токенов кроме тематических слов о коронавирусе входят спецсимволы, такие как: \\x92, â, \\x82. Они не похожи на слова и возможно являются символами таблицы Unicode."
      ]
    },
    {
      "cell_type": "markdown",
      "metadata": {
        "id": "rzXjMsSB_kXB"
      },
      "source": [
        "Удалите из словаря токены из одного символа, с позицией в таблице Unicode 128 и более (`ord(x) >= 128`)\n",
        "\n",
        "Выведите топ-10 самых популярных и топ-20 непопулярных слов. Чем полученные топы отличаются от итоговых топов, полученных при использовании токенизации по пробелам? Что теперь лучше, а что хуже?"
      ]
    },
    {
      "cell_type": "code",
      "execution_count": null,
      "metadata": {
        "id": "1695hlkS_1-J"
      },
      "outputs": [],
      "source": [
        "token_counts = Counter({token: count for token, count in token_counts.items() if len(token) > 1 or ord(token) < 128})"
      ]
    },
    {
      "cell_type": "code",
      "execution_count": null,
      "metadata": {
        "colab": {
          "base_uri": "https://localhost:8080/"
        },
        "id": "KAXnODIjW5nU",
        "outputId": "2aaf6373-0ecd-4898-b624-49d582e70086"
      },
      "outputs": [
        {
          "output_type": "execute_result",
          "data": {
            "text/plain": [
              "[('#coronavirus', 8808),\n",
              " ('19', 7167),\n",
              " ('covid', 6253),\n",
              " ('prices', 4601),\n",
              " ('food', 4367),\n",
              " ('store', 3877),\n",
              " ('supermarket', 3805),\n",
              " ('grocery', 3523),\n",
              " ('people', 3463),\n",
              " ('#covid19', 2589)]"
            ]
          },
          "metadata": {},
          "execution_count": 21
        }
      ],
      "source": [
        "token_counts.most_common(10)"
      ]
    },
    {
      "cell_type": "code",
      "execution_count": null,
      "metadata": {
        "colab": {
          "base_uri": "https://localhost:8080/"
        },
        "id": "16qUJMiGW9c9",
        "outputId": "4eac47a6-e7d4-4072-a2d1-8f1fe1240263"
      },
      "outputs": [
        {
          "output_type": "execute_result",
          "data": {
            "text/plain": [
              "[('https://t.co/lw1r0rm7xs', 1),\n",
              " ('https://t.co/5cbliqzx7l', 1),\n",
              " ('now.when', 1),\n",
              " ('milion', 1),\n",
              " ('skellig', 1),\n",
              " ('@skelligsix18', 1),\n",
              " ('#skelligcoast2kms', 1),\n",
              " ('#southkerry', 1),\n",
              " ('https://t.co/zjcl195vqs', 1),\n",
              " ('@srinivasiyc', 1),\n",
              " ('https://t.co/iaek4fwsgz', 1),\n",
              " ('premiership', 1),\n",
              " ('non-playing', 1),\n",
              " ('subsidise', 1),\n",
              " ('playersã', 1),\n",
              " ('renewing', 1),\n",
              " ('flew', 1),\n",
              " ('@torontopearson', 1),\n",
              " ('@680news', 1),\n",
              " ('https://t.co/7j2y3rsld9', 1)]"
            ]
          },
          "metadata": {},
          "execution_count": 22
        }
      ],
      "source": [
        "token_counts.most_common()[-20:]"
      ]
    },
    {
      "cell_type": "markdown",
      "metadata": {
        "id": "KzjHAKIlDvc6"
      },
      "source": [
        "**Ответ:** Теперь в топе популярных токенов слово covid-19 разделено на два отдельных токена, убран тег &amp, общая тематика коронавируса сохранилась в топе популярности. В топе самых непопулярных токенов добавилось больше ссылок и хэштегов, убрались токены, которые содержали знаки препинания. Лучше стало то, что теперь в твитах мы можем отслеживать спецсимволы - например, улыбающиеся или грустные скобочки, которые не были отделены пробельным токенайзером, мы можем лучше сфокусироваться на тематике твитов. Хуже стало то, что некоторые слова по типу covid-19 теперь являются двумя разными токенами, хотя отдельно токен 19 не несет смысловой нагрузки, учитывая тематику коронавируса."
      ]
    },
    {
      "cell_type": "markdown",
      "metadata": {
        "id": "EcDf9_6HB2zm"
      },
      "source": [
        "Выведите топ-10 популярных хештегов с количеством встреч. Что можно сказать о них?"
      ]
    },
    {
      "cell_type": "code",
      "execution_count": null,
      "metadata": {
        "id": "zk4fygCUBw3l"
      },
      "outputs": [],
      "source": [
        "hashtag_counts = Counter({token: count for token, count in token_counts.items() if token.startswith('#')})"
      ]
    },
    {
      "cell_type": "code",
      "execution_count": null,
      "metadata": {
        "colab": {
          "base_uri": "https://localhost:8080/"
        },
        "id": "pZjrCatJY8vl",
        "outputId": "6e493b90-6a62-42d5-87d7-3f651edef08c"
      },
      "outputs": [
        {
          "output_type": "execute_result",
          "data": {
            "text/plain": [
              "[('#coronavirus', 8808),\n",
              " ('#covid19', 2589),\n",
              " ('#covid_19', 1734),\n",
              " ('#covid2019', 946),\n",
              " ('#toiletpaper', 744),\n",
              " ('#covid', 641),\n",
              " ('#socialdistancing', 465),\n",
              " ('#coronacrisis', 448),\n",
              " ('#pandemic', 257),\n",
              " ('#coronaviruspandemic', 249)]"
            ]
          },
          "metadata": {},
          "execution_count": 24
        }
      ],
      "source": [
        "hashtag_counts.most_common(10)"
      ]
    },
    {
      "cell_type": "markdown",
      "metadata": {
        "id": "-6NeNWBkDxM7"
      },
      "source": [
        "**Ответ:** Все эти хэштеги несут примерно одинаковую информацию о тематике твитов - коронавирус, ковид, пандемия, социальная дистанция. Хэштеги довольно популярны."
      ]
    },
    {
      "cell_type": "markdown",
      "metadata": {
        "id": "LLYBg7caD5GA"
      },
      "source": [
        "То же самое проделайте для ссылок на сайт https://t.co Сравнима ли популярность ссылок с популярностью хештегов? Будет ли информация о ссылке на конкретную страницу полезна?"
      ]
    },
    {
      "cell_type": "code",
      "execution_count": null,
      "metadata": {
        "id": "MXbm1oeaCK9S"
      },
      "outputs": [],
      "source": [
        "url_counts = Counter({token: count for token, count in token_counts.items() if token.startswith('https://t.co')})"
      ]
    },
    {
      "cell_type": "code",
      "execution_count": null,
      "metadata": {
        "colab": {
          "base_uri": "https://localhost:8080/"
        },
        "id": "6wddlWM-Zafz",
        "outputId": "95825c77-ea39-423b-dbcf-7b37f585c2cc"
      },
      "outputs": [
        {
          "output_type": "execute_result",
          "data": {
            "text/plain": [
              "[('https://t.co/oxa7swtond', 5),\n",
              " ('https://t.co/gp3eusapl8', 4),\n",
              " ('https://t.co/deftrui1pfã\\x82â', 3),\n",
              " ('https://t.co/wrlhyzizaa', 3),\n",
              " ('https://t.co/kuwipf1kqw', 3),\n",
              " ('https://t.co/zjnrx6dkkn', 3),\n",
              " ('https://t.co/3gbbdpdjat', 3),\n",
              " ('https://t.co/e2znxajpre', 3),\n",
              " ('https://t.co/catkegayoy', 3),\n",
              " ('https://t.co/g63rp042ho', 3)]"
            ]
          },
          "metadata": {},
          "execution_count": 26
        }
      ],
      "source": [
        "url_counts.most_common(10)"
      ]
    },
    {
      "cell_type": "markdown",
      "metadata": {
        "id": "at6lRYZ8A07N"
      },
      "source": [
        "**Ответ:** Популярность ссылок значительно ниже, чем популярность хэштегов, так как каждая ссылка уникальна и ведет на специфичный контент, имеет низкую обобщающую способность. Информация о ссылке на страницу бесполезна."
      ]
    },
    {
      "cell_type": "markdown",
      "metadata": {
        "id": "IOGdUU1kBU1D"
      },
      "source": [
        "Используем опыт предыдущих экспериментов и напишем собственный токенайзер, улучшив TweetTokenizer. Функция tokenize должна:\n",
        "\n",
        "\n",
        "\n",
        "*   Привести текст в нижний регистр\n",
        "*   Применить TweetTokenizer для изначального выделения токенов\n",
        "*   Удалить стоп-слова, пунктуацию, токены из одного символа, с позицией в таблице Unicode 128 и более и ссылки на t.co\n",
        "\n"
      ]
    },
    {
      "cell_type": "code",
      "execution_count": null,
      "metadata": {
        "id": "ctEsB6xkFrrK"
      },
      "outputs": [],
      "source": [
        "def custom_tokenizer(text):\n",
        "    tweet_tokenizer = TweetTokenizer()\n",
        "    tokens = tweet_tokenizer.tokenize(text.lower())\n",
        "    noise = stopwords.words('english') + list(punctuation)\n",
        "\n",
        "    tokens = [token for token in tokens\n",
        "              if token not in noise\n",
        "              and (len(token) > 1 or ord(token) < 128)\n",
        "              and not token.startswith('https://t.co')]\n",
        "\n",
        "    return tokens\n"
      ]
    },
    {
      "cell_type": "code",
      "execution_count": null,
      "metadata": {
        "colab": {
          "base_uri": "https://localhost:8080/"
        },
        "id": "XwbgtYkJGYym",
        "outputId": "ee7baab9-2a0c-4f6b-defb-5265a8f385d5"
      },
      "outputs": [
        {
          "output_type": "execute_result",
          "data": {
            "text/plain": [
              "['sample', 'text', '@sample_text', '#sampletext']"
            ]
          },
          "metadata": {},
          "execution_count": 28
        }
      ],
      "source": [
        "custom_tokenizer('This is sample text!!!! @Sample_text I, \\x92\\x92 https://t.co/sample  #sampletext')"
      ]
    },
    {
      "cell_type": "markdown",
      "metadata": {
        "id": "wURVABmXHk97"
      },
      "source": [
        "## Задание 3 Векторизация текстов (2 балла)"
      ]
    },
    {
      "cell_type": "markdown",
      "metadata": {
        "id": "H44iXkoHIQfN"
      },
      "source": [
        "Обучите CountVectorizer с использованием custom_tokenizer в качестве токенайзера. Как размер полученного словаря соотносится с размером изначального словаря из начала задания 2?"
      ]
    },
    {
      "cell_type": "code",
      "execution_count": null,
      "metadata": {
        "colab": {
          "base_uri": "https://localhost:8080/"
        },
        "id": "gHn_limQl3BI",
        "outputId": "2eabfa17-79e4-41d5-e988-9493263073f0"
      },
      "outputs": [
        {
          "output_type": "stream",
          "name": "stderr",
          "text": [
            "/usr/local/lib/python3.10/dist-packages/sklearn/feature_extraction/text.py:528: UserWarning: The parameter 'token_pattern' will not be used since 'tokenizer' is not None'\n",
            "  warnings.warn(\n"
          ]
        },
        {
          "output_type": "stream",
          "name": "stdout",
          "text": [
            "45308\n"
          ]
        }
      ],
      "source": [
        "from sklearn.feature_extraction.text import CountVectorizer\n",
        "\n",
        "# Инициализируем векторайзер с кастомным токенайзером\n",
        "cv = CountVectorizer(tokenizer=custom_tokenizer)\n",
        "# Инициализируем твиты train части датасета\n",
        "tweets_train = train['OriginalTweet']\n",
        "# Применяем векторайзер к твитам\n",
        "X_train = cv.fit_transform(tweets_train)\n",
        "\n",
        "print(len(cv.vocabulary_))"
      ]
    },
    {
      "cell_type": "markdown",
      "metadata": {
        "id": "gsfmaSGoItUm"
      },
      "source": [
        "**Ответ:** В начальном словаре было 79755 токенов, теперь имеем 45308, что практически в 2 раза меньше."
      ]
    },
    {
      "cell_type": "markdown",
      "metadata": {
        "id": "lm6UHNmqKZT0"
      },
      "source": [
        "Посмотрим на какой-нибудь конкретный твитт:"
      ]
    },
    {
      "cell_type": "code",
      "execution_count": null,
      "metadata": {
        "colab": {
          "base_uri": "https://localhost:8080/"
        },
        "id": "aJVjjfqOJh8m",
        "outputId": "8caf9c91-6534-4cdb-8fcc-a8b077475af0"
      },
      "outputs": [
        {
          "output_type": "execute_result",
          "data": {
            "text/plain": [
              "('Nice one @SkyNews lets not panic but show ppl in france queueing for food!!! #CoronavirusOutbreak #COVID2019 brainless!! Ffs',\n",
              " 0)"
            ]
          },
          "metadata": {},
          "execution_count": 30
        }
      ],
      "source": [
        "ind = 9023\n",
        "train.iloc[ind]['OriginalTweet'], train.iloc[ind]['Sentiment']"
      ]
    },
    {
      "cell_type": "markdown",
      "metadata": {
        "id": "PBMIHBI5KdaS"
      },
      "source": [
        "Автор твитта не доволен ситуацией с едой во Франции и текст имеет резко негативную окраску.\n",
        "\n",
        "Примените обученный CountVectorizer для векторизации данного текста, и попытайтесь определить самый важный токен и самый неважный токен (токен, компонента которого в векторе максимальна/минимальна, без учета 0). Хорошо ли они определились, почему?"
      ]
    },
    {
      "cell_type": "code",
      "execution_count": null,
      "metadata": {
        "colab": {
          "base_uri": "https://localhost:8080/",
          "height": 100
        },
        "id": "7NcAllaEKsJj",
        "outputId": "c0029da6-db01-42f5-fa68-f33bc6513177"
      },
      "outputs": [
        {
          "output_type": "execute_result",
          "data": {
            "text/plain": [
              "   #coronavirusoutbreak  #covid2019  @skynews  brainless  ffs  food  france  \\\n",
              "0                     1           1         1          1    1     1       1   \n",
              "\n",
              "   lets  nice  one  panic  ppl  queueing  show  \n",
              "0     1     1    1      1    1         1     1  "
            ],
            "text/html": [
              "\n",
              "  <div id=\"df-1106f7a0-4da5-44f2-abbe-cf0955917235\" class=\"colab-df-container\">\n",
              "    <div>\n",
              "<style scoped>\n",
              "    .dataframe tbody tr th:only-of-type {\n",
              "        vertical-align: middle;\n",
              "    }\n",
              "\n",
              "    .dataframe tbody tr th {\n",
              "        vertical-align: top;\n",
              "    }\n",
              "\n",
              "    .dataframe thead th {\n",
              "        text-align: right;\n",
              "    }\n",
              "</style>\n",
              "<table border=\"1\" class=\"dataframe\">\n",
              "  <thead>\n",
              "    <tr style=\"text-align: right;\">\n",
              "      <th></th>\n",
              "      <th>#coronavirusoutbreak</th>\n",
              "      <th>#covid2019</th>\n",
              "      <th>@skynews</th>\n",
              "      <th>brainless</th>\n",
              "      <th>ffs</th>\n",
              "      <th>food</th>\n",
              "      <th>france</th>\n",
              "      <th>lets</th>\n",
              "      <th>nice</th>\n",
              "      <th>one</th>\n",
              "      <th>panic</th>\n",
              "      <th>ppl</th>\n",
              "      <th>queueing</th>\n",
              "      <th>show</th>\n",
              "    </tr>\n",
              "  </thead>\n",
              "  <tbody>\n",
              "    <tr>\n",
              "      <th>0</th>\n",
              "      <td>1</td>\n",
              "      <td>1</td>\n",
              "      <td>1</td>\n",
              "      <td>1</td>\n",
              "      <td>1</td>\n",
              "      <td>1</td>\n",
              "      <td>1</td>\n",
              "      <td>1</td>\n",
              "      <td>1</td>\n",
              "      <td>1</td>\n",
              "      <td>1</td>\n",
              "      <td>1</td>\n",
              "      <td>1</td>\n",
              "      <td>1</td>\n",
              "    </tr>\n",
              "  </tbody>\n",
              "</table>\n",
              "</div>\n",
              "    <div class=\"colab-df-buttons\">\n",
              "\n",
              "  <div class=\"colab-df-container\">\n",
              "    <button class=\"colab-df-convert\" onclick=\"convertToInteractive('df-1106f7a0-4da5-44f2-abbe-cf0955917235')\"\n",
              "            title=\"Convert this dataframe to an interactive table.\"\n",
              "            style=\"display:none;\">\n",
              "\n",
              "  <svg xmlns=\"http://www.w3.org/2000/svg\" height=\"24px\" viewBox=\"0 -960 960 960\">\n",
              "    <path d=\"M120-120v-720h720v720H120Zm60-500h600v-160H180v160Zm220 220h160v-160H400v160Zm0 220h160v-160H400v160ZM180-400h160v-160H180v160Zm440 0h160v-160H620v160ZM180-180h160v-160H180v160Zm440 0h160v-160H620v160Z\"/>\n",
              "  </svg>\n",
              "    </button>\n",
              "\n",
              "  <style>\n",
              "    .colab-df-container {\n",
              "      display:flex;\n",
              "      gap: 12px;\n",
              "    }\n",
              "\n",
              "    .colab-df-convert {\n",
              "      background-color: #E8F0FE;\n",
              "      border: none;\n",
              "      border-radius: 50%;\n",
              "      cursor: pointer;\n",
              "      display: none;\n",
              "      fill: #1967D2;\n",
              "      height: 32px;\n",
              "      padding: 0 0 0 0;\n",
              "      width: 32px;\n",
              "    }\n",
              "\n",
              "    .colab-df-convert:hover {\n",
              "      background-color: #E2EBFA;\n",
              "      box-shadow: 0px 1px 2px rgba(60, 64, 67, 0.3), 0px 1px 3px 1px rgba(60, 64, 67, 0.15);\n",
              "      fill: #174EA6;\n",
              "    }\n",
              "\n",
              "    .colab-df-buttons div {\n",
              "      margin-bottom: 4px;\n",
              "    }\n",
              "\n",
              "    [theme=dark] .colab-df-convert {\n",
              "      background-color: #3B4455;\n",
              "      fill: #D2E3FC;\n",
              "    }\n",
              "\n",
              "    [theme=dark] .colab-df-convert:hover {\n",
              "      background-color: #434B5C;\n",
              "      box-shadow: 0px 1px 3px 1px rgba(0, 0, 0, 0.15);\n",
              "      filter: drop-shadow(0px 1px 2px rgba(0, 0, 0, 0.3));\n",
              "      fill: #FFFFFF;\n",
              "    }\n",
              "  </style>\n",
              "\n",
              "    <script>\n",
              "      const buttonEl =\n",
              "        document.querySelector('#df-1106f7a0-4da5-44f2-abbe-cf0955917235 button.colab-df-convert');\n",
              "      buttonEl.style.display =\n",
              "        google.colab.kernel.accessAllowed ? 'block' : 'none';\n",
              "\n",
              "      async function convertToInteractive(key) {\n",
              "        const element = document.querySelector('#df-1106f7a0-4da5-44f2-abbe-cf0955917235');\n",
              "        const dataTable =\n",
              "          await google.colab.kernel.invokeFunction('convertToInteractive',\n",
              "                                                    [key], {});\n",
              "        if (!dataTable) return;\n",
              "\n",
              "        const docLinkHtml = 'Like what you see? Visit the ' +\n",
              "          '<a target=\"_blank\" href=https://colab.research.google.com/notebooks/data_table.ipynb>data table notebook</a>'\n",
              "          + ' to learn more about interactive tables.';\n",
              "        element.innerHTML = '';\n",
              "        dataTable['output_type'] = 'display_data';\n",
              "        await google.colab.output.renderOutput(dataTable, element);\n",
              "        const docLink = document.createElement('div');\n",
              "        docLink.innerHTML = docLinkHtml;\n",
              "        element.appendChild(docLink);\n",
              "      }\n",
              "    </script>\n",
              "  </div>\n",
              "\n",
              "    </div>\n",
              "  </div>\n"
            ],
            "application/vnd.google.colaboratory.intrinsic+json": {
              "type": "dataframe",
              "variable_name": "df_non_zero",
              "summary": "{\n  \"name\": \"df_non_zero\",\n  \"rows\": 1,\n  \"fields\": [\n    {\n      \"column\": \"#coronavirusoutbreak\",\n      \"properties\": {\n        \"dtype\": \"number\",\n        \"std\": null,\n        \"min\": 1,\n        \"max\": 1,\n        \"num_unique_values\": 1,\n        \"samples\": [\n          1\n        ],\n        \"semantic_type\": \"\",\n        \"description\": \"\"\n      }\n    },\n    {\n      \"column\": \"#covid2019\",\n      \"properties\": {\n        \"dtype\": \"number\",\n        \"std\": null,\n        \"min\": 1,\n        \"max\": 1,\n        \"num_unique_values\": 1,\n        \"samples\": [\n          1\n        ],\n        \"semantic_type\": \"\",\n        \"description\": \"\"\n      }\n    },\n    {\n      \"column\": \"@skynews\",\n      \"properties\": {\n        \"dtype\": \"number\",\n        \"std\": null,\n        \"min\": 1,\n        \"max\": 1,\n        \"num_unique_values\": 1,\n        \"samples\": [\n          1\n        ],\n        \"semantic_type\": \"\",\n        \"description\": \"\"\n      }\n    },\n    {\n      \"column\": \"brainless\",\n      \"properties\": {\n        \"dtype\": \"number\",\n        \"std\": null,\n        \"min\": 1,\n        \"max\": 1,\n        \"num_unique_values\": 1,\n        \"samples\": [\n          1\n        ],\n        \"semantic_type\": \"\",\n        \"description\": \"\"\n      }\n    },\n    {\n      \"column\": \"ffs\",\n      \"properties\": {\n        \"dtype\": \"number\",\n        \"std\": null,\n        \"min\": 1,\n        \"max\": 1,\n        \"num_unique_values\": 1,\n        \"samples\": [\n          1\n        ],\n        \"semantic_type\": \"\",\n        \"description\": \"\"\n      }\n    },\n    {\n      \"column\": \"food\",\n      \"properties\": {\n        \"dtype\": \"number\",\n        \"std\": null,\n        \"min\": 1,\n        \"max\": 1,\n        \"num_unique_values\": 1,\n        \"samples\": [\n          1\n        ],\n        \"semantic_type\": \"\",\n        \"description\": \"\"\n      }\n    },\n    {\n      \"column\": \"france\",\n      \"properties\": {\n        \"dtype\": \"number\",\n        \"std\": null,\n        \"min\": 1,\n        \"max\": 1,\n        \"num_unique_values\": 1,\n        \"samples\": [\n          1\n        ],\n        \"semantic_type\": \"\",\n        \"description\": \"\"\n      }\n    },\n    {\n      \"column\": \"lets\",\n      \"properties\": {\n        \"dtype\": \"number\",\n        \"std\": null,\n        \"min\": 1,\n        \"max\": 1,\n        \"num_unique_values\": 1,\n        \"samples\": [\n          1\n        ],\n        \"semantic_type\": \"\",\n        \"description\": \"\"\n      }\n    },\n    {\n      \"column\": \"nice\",\n      \"properties\": {\n        \"dtype\": \"number\",\n        \"std\": null,\n        \"min\": 1,\n        \"max\": 1,\n        \"num_unique_values\": 1,\n        \"samples\": [\n          1\n        ],\n        \"semantic_type\": \"\",\n        \"description\": \"\"\n      }\n    },\n    {\n      \"column\": \"one\",\n      \"properties\": {\n        \"dtype\": \"number\",\n        \"std\": null,\n        \"min\": 1,\n        \"max\": 1,\n        \"num_unique_values\": 1,\n        \"samples\": [\n          1\n        ],\n        \"semantic_type\": \"\",\n        \"description\": \"\"\n      }\n    },\n    {\n      \"column\": \"panic\",\n      \"properties\": {\n        \"dtype\": \"number\",\n        \"std\": null,\n        \"min\": 1,\n        \"max\": 1,\n        \"num_unique_values\": 1,\n        \"samples\": [\n          1\n        ],\n        \"semantic_type\": \"\",\n        \"description\": \"\"\n      }\n    },\n    {\n      \"column\": \"ppl\",\n      \"properties\": {\n        \"dtype\": \"number\",\n        \"std\": null,\n        \"min\": 1,\n        \"max\": 1,\n        \"num_unique_values\": 1,\n        \"samples\": [\n          1\n        ],\n        \"semantic_type\": \"\",\n        \"description\": \"\"\n      }\n    },\n    {\n      \"column\": \"queueing\",\n      \"properties\": {\n        \"dtype\": \"number\",\n        \"std\": null,\n        \"min\": 1,\n        \"max\": 1,\n        \"num_unique_values\": 1,\n        \"samples\": [\n          1\n        ],\n        \"semantic_type\": \"\",\n        \"description\": \"\"\n      }\n    },\n    {\n      \"column\": \"show\",\n      \"properties\": {\n        \"dtype\": \"number\",\n        \"std\": null,\n        \"min\": 1,\n        \"max\": 1,\n        \"num_unique_values\": 1,\n        \"samples\": [\n          1\n        ],\n        \"semantic_type\": \"\",\n        \"description\": \"\"\n      }\n    }\n  ]\n}"
            }
          },
          "metadata": {},
          "execution_count": 31
        }
      ],
      "source": [
        "test_tweet = [train.iloc[ind]['OriginalTweet']]\n",
        "# Векторизуем тестовый твит\n",
        "X_test = cv.transform(test_tweet)\n",
        "# Получаем важность токенов\n",
        "df_test_tweet = pd.DataFrame(X_test.toarray(), columns=cv.get_feature_names_out())\n",
        "df_non_zero = df_test_tweet.loc[:, (df_test_tweet != 0).any(axis=0)]\n",
        "df_non_zero"
      ]
    },
    {
      "cell_type": "markdown",
      "metadata": {
        "id": "TpEsl1k_NF4T"
      },
      "source": [
        "**Ответ:** Заметим, что среди ненулевых токенов по встречаемости в тексте остались только токены, которые встречаются в этом тексте по 1 разу, то есть среди них невозможно выделить самый важный токен и самый неважный токен, так как у всех токенов компонента равна 1."
      ]
    },
    {
      "cell_type": "markdown",
      "metadata": {
        "id": "w4DsEQpLO3J6"
      },
      "source": [
        "Теперь примените TfidfVectorizer и  определите самый важный/неважный токены. Хорошо ли определились, почему?"
      ]
    },
    {
      "cell_type": "code",
      "execution_count": null,
      "metadata": {
        "colab": {
          "base_uri": "https://localhost:8080/"
        },
        "id": "uSNzdK3ENGB3",
        "outputId": "558ece58-3dae-47a3-ea4a-6db9f0932268"
      },
      "outputs": [
        {
          "output_type": "stream",
          "name": "stderr",
          "text": [
            "/usr/local/lib/python3.10/dist-packages/sklearn/feature_extraction/text.py:528: UserWarning: The parameter 'token_pattern' will not be used since 'tokenizer' is not None'\n",
            "  warnings.warn(\n"
          ]
        }
      ],
      "source": [
        "from sklearn.feature_extraction.text import TfidfVectorizer\n",
        "# Инициализируем TfidfVectorizer с кастомным токенайзером\n",
        "tfidf_vec = TfidfVectorizer(tokenizer=custom_tokenizer)\n",
        "tweets_train = train['OriginalTweet']\n",
        "# Применяем векторайзер на трейн части твитов датасета\n",
        "X_train_tfidf = tfidf_vec.fit_transform(tweets_train)"
      ]
    },
    {
      "cell_type": "code",
      "execution_count": null,
      "metadata": {
        "colab": {
          "base_uri": "https://localhost:8080/",
          "height": 100
        },
        "id": "DpFGRZBlm9Dl",
        "outputId": "92051ac3-5997-40e4-8f93-bee3f65d5fe1"
      },
      "outputs": [
        {
          "output_type": "execute_result",
          "data": {
            "text/plain": [
              "   #coronavirusoutbreak  #covid2019  @skynews  brainless       ffs      food  \\\n",
              "0              0.225843    0.168252  0.310426   0.386764  0.324474  0.113289   \n",
              "\n",
              "     france      lets      nice       one     panic       ppl  queueing  \\\n",
              "0  0.320473  0.301211  0.254273  0.163067  0.147595  0.255006  0.354346   \n",
              "\n",
              "       show  \n",
              "0  0.244065  "
            ],
            "text/html": [
              "\n",
              "  <div id=\"df-86706082-7633-4ccb-91b6-5fd1fcc07421\" class=\"colab-df-container\">\n",
              "    <div>\n",
              "<style scoped>\n",
              "    .dataframe tbody tr th:only-of-type {\n",
              "        vertical-align: middle;\n",
              "    }\n",
              "\n",
              "    .dataframe tbody tr th {\n",
              "        vertical-align: top;\n",
              "    }\n",
              "\n",
              "    .dataframe thead th {\n",
              "        text-align: right;\n",
              "    }\n",
              "</style>\n",
              "<table border=\"1\" class=\"dataframe\">\n",
              "  <thead>\n",
              "    <tr style=\"text-align: right;\">\n",
              "      <th></th>\n",
              "      <th>#coronavirusoutbreak</th>\n",
              "      <th>#covid2019</th>\n",
              "      <th>@skynews</th>\n",
              "      <th>brainless</th>\n",
              "      <th>ffs</th>\n",
              "      <th>food</th>\n",
              "      <th>france</th>\n",
              "      <th>lets</th>\n",
              "      <th>nice</th>\n",
              "      <th>one</th>\n",
              "      <th>panic</th>\n",
              "      <th>ppl</th>\n",
              "      <th>queueing</th>\n",
              "      <th>show</th>\n",
              "    </tr>\n",
              "  </thead>\n",
              "  <tbody>\n",
              "    <tr>\n",
              "      <th>0</th>\n",
              "      <td>0.225843</td>\n",
              "      <td>0.168252</td>\n",
              "      <td>0.310426</td>\n",
              "      <td>0.386764</td>\n",
              "      <td>0.324474</td>\n",
              "      <td>0.113289</td>\n",
              "      <td>0.320473</td>\n",
              "      <td>0.301211</td>\n",
              "      <td>0.254273</td>\n",
              "      <td>0.163067</td>\n",
              "      <td>0.147595</td>\n",
              "      <td>0.255006</td>\n",
              "      <td>0.354346</td>\n",
              "      <td>0.244065</td>\n",
              "    </tr>\n",
              "  </tbody>\n",
              "</table>\n",
              "</div>\n",
              "    <div class=\"colab-df-buttons\">\n",
              "\n",
              "  <div class=\"colab-df-container\">\n",
              "    <button class=\"colab-df-convert\" onclick=\"convertToInteractive('df-86706082-7633-4ccb-91b6-5fd1fcc07421')\"\n",
              "            title=\"Convert this dataframe to an interactive table.\"\n",
              "            style=\"display:none;\">\n",
              "\n",
              "  <svg xmlns=\"http://www.w3.org/2000/svg\" height=\"24px\" viewBox=\"0 -960 960 960\">\n",
              "    <path d=\"M120-120v-720h720v720H120Zm60-500h600v-160H180v160Zm220 220h160v-160H400v160Zm0 220h160v-160H400v160ZM180-400h160v-160H180v160Zm440 0h160v-160H620v160ZM180-180h160v-160H180v160Zm440 0h160v-160H620v160Z\"/>\n",
              "  </svg>\n",
              "    </button>\n",
              "\n",
              "  <style>\n",
              "    .colab-df-container {\n",
              "      display:flex;\n",
              "      gap: 12px;\n",
              "    }\n",
              "\n",
              "    .colab-df-convert {\n",
              "      background-color: #E8F0FE;\n",
              "      border: none;\n",
              "      border-radius: 50%;\n",
              "      cursor: pointer;\n",
              "      display: none;\n",
              "      fill: #1967D2;\n",
              "      height: 32px;\n",
              "      padding: 0 0 0 0;\n",
              "      width: 32px;\n",
              "    }\n",
              "\n",
              "    .colab-df-convert:hover {\n",
              "      background-color: #E2EBFA;\n",
              "      box-shadow: 0px 1px 2px rgba(60, 64, 67, 0.3), 0px 1px 3px 1px rgba(60, 64, 67, 0.15);\n",
              "      fill: #174EA6;\n",
              "    }\n",
              "\n",
              "    .colab-df-buttons div {\n",
              "      margin-bottom: 4px;\n",
              "    }\n",
              "\n",
              "    [theme=dark] .colab-df-convert {\n",
              "      background-color: #3B4455;\n",
              "      fill: #D2E3FC;\n",
              "    }\n",
              "\n",
              "    [theme=dark] .colab-df-convert:hover {\n",
              "      background-color: #434B5C;\n",
              "      box-shadow: 0px 1px 3px 1px rgba(0, 0, 0, 0.15);\n",
              "      filter: drop-shadow(0px 1px 2px rgba(0, 0, 0, 0.3));\n",
              "      fill: #FFFFFF;\n",
              "    }\n",
              "  </style>\n",
              "\n",
              "    <script>\n",
              "      const buttonEl =\n",
              "        document.querySelector('#df-86706082-7633-4ccb-91b6-5fd1fcc07421 button.colab-df-convert');\n",
              "      buttonEl.style.display =\n",
              "        google.colab.kernel.accessAllowed ? 'block' : 'none';\n",
              "\n",
              "      async function convertToInteractive(key) {\n",
              "        const element = document.querySelector('#df-86706082-7633-4ccb-91b6-5fd1fcc07421');\n",
              "        const dataTable =\n",
              "          await google.colab.kernel.invokeFunction('convertToInteractive',\n",
              "                                                    [key], {});\n",
              "        if (!dataTable) return;\n",
              "\n",
              "        const docLinkHtml = 'Like what you see? Visit the ' +\n",
              "          '<a target=\"_blank\" href=https://colab.research.google.com/notebooks/data_table.ipynb>data table notebook</a>'\n",
              "          + ' to learn more about interactive tables.';\n",
              "        element.innerHTML = '';\n",
              "        dataTable['output_type'] = 'display_data';\n",
              "        await google.colab.output.renderOutput(dataTable, element);\n",
              "        const docLink = document.createElement('div');\n",
              "        docLink.innerHTML = docLinkHtml;\n",
              "        element.appendChild(docLink);\n",
              "      }\n",
              "    </script>\n",
              "  </div>\n",
              "\n",
              "    </div>\n",
              "  </div>\n"
            ],
            "application/vnd.google.colaboratory.intrinsic+json": {
              "type": "dataframe",
              "variable_name": "df_non_zero",
              "summary": "{\n  \"name\": \"df_non_zero\",\n  \"rows\": 1,\n  \"fields\": [\n    {\n      \"column\": \"#coronavirusoutbreak\",\n      \"properties\": {\n        \"dtype\": \"number\",\n        \"std\": null,\n        \"min\": 0.22584265007428544,\n        \"max\": 0.22584265007428544,\n        \"num_unique_values\": 1,\n        \"samples\": [\n          0.22584265007428544\n        ],\n        \"semantic_type\": \"\",\n        \"description\": \"\"\n      }\n    },\n    {\n      \"column\": \"#covid2019\",\n      \"properties\": {\n        \"dtype\": \"number\",\n        \"std\": null,\n        \"min\": 0.16825192939361902,\n        \"max\": 0.16825192939361902,\n        \"num_unique_values\": 1,\n        \"samples\": [\n          0.16825192939361902\n        ],\n        \"semantic_type\": \"\",\n        \"description\": \"\"\n      }\n    },\n    {\n      \"column\": \"@skynews\",\n      \"properties\": {\n        \"dtype\": \"number\",\n        \"std\": null,\n        \"min\": 0.31042634466284263,\n        \"max\": 0.31042634466284263,\n        \"num_unique_values\": 1,\n        \"samples\": [\n          0.31042634466284263\n        ],\n        \"semantic_type\": \"\",\n        \"description\": \"\"\n      }\n    },\n    {\n      \"column\": \"brainless\",\n      \"properties\": {\n        \"dtype\": \"number\",\n        \"std\": null,\n        \"min\": 0.3867641170466375,\n        \"max\": 0.3867641170466375,\n        \"num_unique_values\": 1,\n        \"samples\": [\n          0.3867641170466375\n        ],\n        \"semantic_type\": \"\",\n        \"description\": \"\"\n      }\n    },\n    {\n      \"column\": \"ffs\",\n      \"properties\": {\n        \"dtype\": \"number\",\n        \"std\": null,\n        \"min\": 0.3244741764513268,\n        \"max\": 0.3244741764513268,\n        \"num_unique_values\": 1,\n        \"samples\": [\n          0.3244741764513268\n        ],\n        \"semantic_type\": \"\",\n        \"description\": \"\"\n      }\n    },\n    {\n      \"column\": \"food\",\n      \"properties\": {\n        \"dtype\": \"number\",\n        \"std\": null,\n        \"min\": 0.11328893069250721,\n        \"max\": 0.11328893069250721,\n        \"num_unique_values\": 1,\n        \"samples\": [\n          0.11328893069250721\n        ],\n        \"semantic_type\": \"\",\n        \"description\": \"\"\n      }\n    },\n    {\n      \"column\": \"france\",\n      \"properties\": {\n        \"dtype\": \"number\",\n        \"std\": null,\n        \"min\": 0.32047314046539654,\n        \"max\": 0.32047314046539654,\n        \"num_unique_values\": 1,\n        \"samples\": [\n          0.32047314046539654\n        ],\n        \"semantic_type\": \"\",\n        \"description\": \"\"\n      }\n    },\n    {\n      \"column\": \"lets\",\n      \"properties\": {\n        \"dtype\": \"number\",\n        \"std\": null,\n        \"min\": 0.30121070136861045,\n        \"max\": 0.30121070136861045,\n        \"num_unique_values\": 1,\n        \"samples\": [\n          0.30121070136861045\n        ],\n        \"semantic_type\": \"\",\n        \"description\": \"\"\n      }\n    },\n    {\n      \"column\": \"nice\",\n      \"properties\": {\n        \"dtype\": \"number\",\n        \"std\": null,\n        \"min\": 0.2542729176022132,\n        \"max\": 0.2542729176022132,\n        \"num_unique_values\": 1,\n        \"samples\": [\n          0.2542729176022132\n        ],\n        \"semantic_type\": \"\",\n        \"description\": \"\"\n      }\n    },\n    {\n      \"column\": \"one\",\n      \"properties\": {\n        \"dtype\": \"number\",\n        \"std\": null,\n        \"min\": 0.16306722855395073,\n        \"max\": 0.16306722855395073,\n        \"num_unique_values\": 1,\n        \"samples\": [\n          0.16306722855395073\n        ],\n        \"semantic_type\": \"\",\n        \"description\": \"\"\n      }\n    },\n    {\n      \"column\": \"panic\",\n      \"properties\": {\n        \"dtype\": \"number\",\n        \"std\": null,\n        \"min\": 0.14759470306326164,\n        \"max\": 0.14759470306326164,\n        \"num_unique_values\": 1,\n        \"samples\": [\n          0.14759470306326164\n        ],\n        \"semantic_type\": \"\",\n        \"description\": \"\"\n      }\n    },\n    {\n      \"column\": \"ppl\",\n      \"properties\": {\n        \"dtype\": \"number\",\n        \"std\": null,\n        \"min\": 0.2550064610386691,\n        \"max\": 0.2550064610386691,\n        \"num_unique_values\": 1,\n        \"samples\": [\n          0.2550064610386691\n        ],\n        \"semantic_type\": \"\",\n        \"description\": \"\"\n      }\n    },\n    {\n      \"column\": \"queueing\",\n      \"properties\": {\n        \"dtype\": \"number\",\n        \"std\": null,\n        \"min\": 0.35434556333216544,\n        \"max\": 0.35434556333216544,\n        \"num_unique_values\": 1,\n        \"samples\": [\n          0.35434556333216544\n        ],\n        \"semantic_type\": \"\",\n        \"description\": \"\"\n      }\n    },\n    {\n      \"column\": \"show\",\n      \"properties\": {\n        \"dtype\": \"number\",\n        \"std\": null,\n        \"min\": 0.24406492401820118,\n        \"max\": 0.24406492401820118,\n        \"num_unique_values\": 1,\n        \"samples\": [\n          0.24406492401820118\n        ],\n        \"semantic_type\": \"\",\n        \"description\": \"\"\n      }\n    }\n  ]\n}"
            }
          },
          "metadata": {},
          "execution_count": 33
        }
      ],
      "source": [
        "test_tweet = [train.iloc[ind]['OriginalTweet']]\n",
        "X_test_tfidf = tfidf_vec.transform(test_tweet)\n",
        "\n",
        "df_test_tweet = pd.DataFrame(X_test_tfidf.toarray(), columns=tfidf_vec.get_feature_names_out())\n",
        "df_non_zero = df_test_tweet.loc[:, (df_test_tweet != 0).any(axis=0)]\n",
        "df_non_zero"
      ]
    },
    {
      "cell_type": "code",
      "execution_count": null,
      "metadata": {
        "colab": {
          "base_uri": "https://localhost:8080/"
        },
        "id": "3UjzojBbn-Hy",
        "outputId": "548fe907-9af5-4714-abe8-795e812134ac"
      },
      "outputs": [
        {
          "output_type": "stream",
          "name": "stdout",
          "text": [
            "Самый важный токен: brainless со значением TF-IDF 0.3867641170466375\n",
            "Самый неважный токен: food со значением TF-IDF 0.11328893069250721\n"
          ]
        }
      ],
      "source": [
        "max_value = df_non_zero.max().max()\n",
        "max_token = df_non_zero.max().idxmax()\n",
        "\n",
        "min_value = df_non_zero.min().min()\n",
        "min_token = df_non_zero.min().idxmin()\n",
        "\n",
        "print(f'Самый важный токен: {max_token} со значением TF-IDF {max_value}')\n",
        "print(f'Самый неважный токен: {min_token} со значением TF-IDF {min_value}')"
      ]
    },
    {
      "cell_type": "markdown",
      "metadata": {
        "id": "NYao_UhqQADm"
      },
      "source": [
        "**Ответ:** Теперь самые важные и неважные токены определились хорошо, потому что TF-IDF характеризует важность слова для конкретного текста: чем чаще данное слово встречается в данном тексте и чем реже в остальных, тем оно важнее для данного текста. Слово brainless - скорбительное, характеризует негативный отзыв, встречается в данном тексте 1 раз, но редко встречается в остальных текстах Train части, а слово food достаточно часто встречается в остальных текстах, следовательно оно менее важно для данного текста, оно не так сильно его характеризует."
      ]
    },
    {
      "cell_type": "markdown",
      "metadata": {
        "id": "LGRJPqfWSesQ"
      },
      "source": [
        "Найдите какой-нибудь положительно окрашенный твитт, где TfidfVectorizer хорошо (полезно для определения окраски) выделяет важный токен, поясните пример.\n",
        "\n",
        "*Подсказка:* явно положительные твитты можно искать при помощи положительных слов (good, great, amazing и т. д.)"
      ]
    },
    {
      "cell_type": "code",
      "execution_count": null,
      "metadata": {
        "colab": {
          "base_uri": "https://localhost:8080/",
          "height": 597
        },
        "id": "bRbQ2CHiSuJI",
        "outputId": "93022187-9c9e-4074-c10d-d1816a7a86e4"
      },
      "outputs": [
        {
          "output_type": "execute_result",
          "data": {
            "text/plain": [
              "       UserName  ScreenName                   Location     TweetAt  \\\n",
              "192        4035       48987              San Diego, CA  16-03-2020   \n",
              "4066       8742       53694  Adelaide, South Australia  18-03-2020   \n",
              "342        4219       49171                 Boston, MA  16-03-2020   \n",
              "21883     30511       75463                     London  02-04-2020   \n",
              "23519     32529       77481           Moulton, England  05-04-2020   \n",
              "...         ...         ...                        ...         ...   \n",
              "21960     30608       75560                    Unknown  02-04-2020   \n",
              "23905     33018       77970                    Unknown  05-04-2020   \n",
              "25907     35528       80480                   Bay Area  07-04-2020   \n",
              "18987     26911       71863                    Unknown  25-03-2020   \n",
              "15620     22797       67749                    Unknown  24-03-2020   \n",
              "\n",
              "                                           OriginalTweet  Sentiment  \n",
              "192    What's a good way to support grocery store, me...          1  \n",
              "4066   BREAKING: WeÃÂre giving supermarkets the opt...          1  \n",
              "342    [THREAD] China's role in wildlife trade should...          1  \n",
              "21883  Coronavirus career pivots: 'I now work in a su...          1  \n",
              "23519  Well done James great front of store before we...          1  \n",
              "...                                                  ...        ...  \n",
              "21960  @dino_melaye I commend your efforts so far in ...          1  \n",
              "23905  Absolutely brilliant idea amp a great use of a...          1  \n",
              "25907  Afraid of tracking in the #coronavirus? Here a...          1  \n",
              "18987  @AmyPoythress I hope you &amp; your family rem...          1  \n",
              "15620  The markets aren t collapsing bc of democrats ...          1  \n",
              "\n",
              "[324 rows x 6 columns]"
            ],
            "text/html": [
              "\n",
              "  <div id=\"df-00bb4feb-68a2-42bb-ab4e-76f5c66b814c\" class=\"colab-df-container\">\n",
              "    <div>\n",
              "<style scoped>\n",
              "    .dataframe tbody tr th:only-of-type {\n",
              "        vertical-align: middle;\n",
              "    }\n",
              "\n",
              "    .dataframe tbody tr th {\n",
              "        vertical-align: top;\n",
              "    }\n",
              "\n",
              "    .dataframe thead th {\n",
              "        text-align: right;\n",
              "    }\n",
              "</style>\n",
              "<table border=\"1\" class=\"dataframe\">\n",
              "  <thead>\n",
              "    <tr style=\"text-align: right;\">\n",
              "      <th></th>\n",
              "      <th>UserName</th>\n",
              "      <th>ScreenName</th>\n",
              "      <th>Location</th>\n",
              "      <th>TweetAt</th>\n",
              "      <th>OriginalTweet</th>\n",
              "      <th>Sentiment</th>\n",
              "    </tr>\n",
              "  </thead>\n",
              "  <tbody>\n",
              "    <tr>\n",
              "      <th>192</th>\n",
              "      <td>4035</td>\n",
              "      <td>48987</td>\n",
              "      <td>San Diego, CA</td>\n",
              "      <td>16-03-2020</td>\n",
              "      <td>What's a good way to support grocery store, me...</td>\n",
              "      <td>1</td>\n",
              "    </tr>\n",
              "    <tr>\n",
              "      <th>4066</th>\n",
              "      <td>8742</td>\n",
              "      <td>53694</td>\n",
              "      <td>Adelaide, South Australia</td>\n",
              "      <td>18-03-2020</td>\n",
              "      <td>BREAKING: WeÃÂre giving supermarkets the opt...</td>\n",
              "      <td>1</td>\n",
              "    </tr>\n",
              "    <tr>\n",
              "      <th>342</th>\n",
              "      <td>4219</td>\n",
              "      <td>49171</td>\n",
              "      <td>Boston, MA</td>\n",
              "      <td>16-03-2020</td>\n",
              "      <td>[THREAD] China's role in wildlife trade should...</td>\n",
              "      <td>1</td>\n",
              "    </tr>\n",
              "    <tr>\n",
              "      <th>21883</th>\n",
              "      <td>30511</td>\n",
              "      <td>75463</td>\n",
              "      <td>London</td>\n",
              "      <td>02-04-2020</td>\n",
              "      <td>Coronavirus career pivots: 'I now work in a su...</td>\n",
              "      <td>1</td>\n",
              "    </tr>\n",
              "    <tr>\n",
              "      <th>23519</th>\n",
              "      <td>32529</td>\n",
              "      <td>77481</td>\n",
              "      <td>Moulton, England</td>\n",
              "      <td>05-04-2020</td>\n",
              "      <td>Well done James great front of store before we...</td>\n",
              "      <td>1</td>\n",
              "    </tr>\n",
              "    <tr>\n",
              "      <th>...</th>\n",
              "      <td>...</td>\n",
              "      <td>...</td>\n",
              "      <td>...</td>\n",
              "      <td>...</td>\n",
              "      <td>...</td>\n",
              "      <td>...</td>\n",
              "    </tr>\n",
              "    <tr>\n",
              "      <th>21960</th>\n",
              "      <td>30608</td>\n",
              "      <td>75560</td>\n",
              "      <td>Unknown</td>\n",
              "      <td>02-04-2020</td>\n",
              "      <td>@dino_melaye I commend your efforts so far in ...</td>\n",
              "      <td>1</td>\n",
              "    </tr>\n",
              "    <tr>\n",
              "      <th>23905</th>\n",
              "      <td>33018</td>\n",
              "      <td>77970</td>\n",
              "      <td>Unknown</td>\n",
              "      <td>05-04-2020</td>\n",
              "      <td>Absolutely brilliant idea amp a great use of a...</td>\n",
              "      <td>1</td>\n",
              "    </tr>\n",
              "    <tr>\n",
              "      <th>25907</th>\n",
              "      <td>35528</td>\n",
              "      <td>80480</td>\n",
              "      <td>Bay Area</td>\n",
              "      <td>07-04-2020</td>\n",
              "      <td>Afraid of tracking in the #coronavirus? Here a...</td>\n",
              "      <td>1</td>\n",
              "    </tr>\n",
              "    <tr>\n",
              "      <th>18987</th>\n",
              "      <td>26911</td>\n",
              "      <td>71863</td>\n",
              "      <td>Unknown</td>\n",
              "      <td>25-03-2020</td>\n",
              "      <td>@AmyPoythress I hope you &amp;amp; your family rem...</td>\n",
              "      <td>1</td>\n",
              "    </tr>\n",
              "    <tr>\n",
              "      <th>15620</th>\n",
              "      <td>22797</td>\n",
              "      <td>67749</td>\n",
              "      <td>Unknown</td>\n",
              "      <td>24-03-2020</td>\n",
              "      <td>The markets aren t collapsing bc of democrats ...</td>\n",
              "      <td>1</td>\n",
              "    </tr>\n",
              "  </tbody>\n",
              "</table>\n",
              "<p>324 rows × 6 columns</p>\n",
              "</div>\n",
              "    <div class=\"colab-df-buttons\">\n",
              "\n",
              "  <div class=\"colab-df-container\">\n",
              "    <button class=\"colab-df-convert\" onclick=\"convertToInteractive('df-00bb4feb-68a2-42bb-ab4e-76f5c66b814c')\"\n",
              "            title=\"Convert this dataframe to an interactive table.\"\n",
              "            style=\"display:none;\">\n",
              "\n",
              "  <svg xmlns=\"http://www.w3.org/2000/svg\" height=\"24px\" viewBox=\"0 -960 960 960\">\n",
              "    <path d=\"M120-120v-720h720v720H120Zm60-500h600v-160H180v160Zm220 220h160v-160H400v160Zm0 220h160v-160H400v160ZM180-400h160v-160H180v160Zm440 0h160v-160H620v160ZM180-180h160v-160H180v160Zm440 0h160v-160H620v160Z\"/>\n",
              "  </svg>\n",
              "    </button>\n",
              "\n",
              "  <style>\n",
              "    .colab-df-container {\n",
              "      display:flex;\n",
              "      gap: 12px;\n",
              "    }\n",
              "\n",
              "    .colab-df-convert {\n",
              "      background-color: #E8F0FE;\n",
              "      border: none;\n",
              "      border-radius: 50%;\n",
              "      cursor: pointer;\n",
              "      display: none;\n",
              "      fill: #1967D2;\n",
              "      height: 32px;\n",
              "      padding: 0 0 0 0;\n",
              "      width: 32px;\n",
              "    }\n",
              "\n",
              "    .colab-df-convert:hover {\n",
              "      background-color: #E2EBFA;\n",
              "      box-shadow: 0px 1px 2px rgba(60, 64, 67, 0.3), 0px 1px 3px 1px rgba(60, 64, 67, 0.15);\n",
              "      fill: #174EA6;\n",
              "    }\n",
              "\n",
              "    .colab-df-buttons div {\n",
              "      margin-bottom: 4px;\n",
              "    }\n",
              "\n",
              "    [theme=dark] .colab-df-convert {\n",
              "      background-color: #3B4455;\n",
              "      fill: #D2E3FC;\n",
              "    }\n",
              "\n",
              "    [theme=dark] .colab-df-convert:hover {\n",
              "      background-color: #434B5C;\n",
              "      box-shadow: 0px 1px 3px 1px rgba(0, 0, 0, 0.15);\n",
              "      filter: drop-shadow(0px 1px 2px rgba(0, 0, 0, 0.3));\n",
              "      fill: #FFFFFF;\n",
              "    }\n",
              "  </style>\n",
              "\n",
              "    <script>\n",
              "      const buttonEl =\n",
              "        document.querySelector('#df-00bb4feb-68a2-42bb-ab4e-76f5c66b814c button.colab-df-convert');\n",
              "      buttonEl.style.display =\n",
              "        google.colab.kernel.accessAllowed ? 'block' : 'none';\n",
              "\n",
              "      async function convertToInteractive(key) {\n",
              "        const element = document.querySelector('#df-00bb4feb-68a2-42bb-ab4e-76f5c66b814c');\n",
              "        const dataTable =\n",
              "          await google.colab.kernel.invokeFunction('convertToInteractive',\n",
              "                                                    [key], {});\n",
              "        if (!dataTable) return;\n",
              "\n",
              "        const docLinkHtml = 'Like what you see? Visit the ' +\n",
              "          '<a target=\"_blank\" href=https://colab.research.google.com/notebooks/data_table.ipynb>data table notebook</a>'\n",
              "          + ' to learn more about interactive tables.';\n",
              "        element.innerHTML = '';\n",
              "        dataTable['output_type'] = 'display_data';\n",
              "        await google.colab.output.renderOutput(dataTable, element);\n",
              "        const docLink = document.createElement('div');\n",
              "        docLink.innerHTML = docLinkHtml;\n",
              "        element.appendChild(docLink);\n",
              "      }\n",
              "    </script>\n",
              "  </div>\n",
              "\n",
              "\n",
              "<div id=\"df-a3ee53f8-5aa5-4376-bce8-5e67dd4215e5\">\n",
              "  <button class=\"colab-df-quickchart\" onclick=\"quickchart('df-a3ee53f8-5aa5-4376-bce8-5e67dd4215e5')\"\n",
              "            title=\"Suggest charts\"\n",
              "            style=\"display:none;\">\n",
              "\n",
              "<svg xmlns=\"http://www.w3.org/2000/svg\" height=\"24px\"viewBox=\"0 0 24 24\"\n",
              "     width=\"24px\">\n",
              "    <g>\n",
              "        <path d=\"M19 3H5c-1.1 0-2 .9-2 2v14c0 1.1.9 2 2 2h14c1.1 0 2-.9 2-2V5c0-1.1-.9-2-2-2zM9 17H7v-7h2v7zm4 0h-2V7h2v10zm4 0h-2v-4h2v4z\"/>\n",
              "    </g>\n",
              "</svg>\n",
              "  </button>\n",
              "\n",
              "<style>\n",
              "  .colab-df-quickchart {\n",
              "      --bg-color: #E8F0FE;\n",
              "      --fill-color: #1967D2;\n",
              "      --hover-bg-color: #E2EBFA;\n",
              "      --hover-fill-color: #174EA6;\n",
              "      --disabled-fill-color: #AAA;\n",
              "      --disabled-bg-color: #DDD;\n",
              "  }\n",
              "\n",
              "  [theme=dark] .colab-df-quickchart {\n",
              "      --bg-color: #3B4455;\n",
              "      --fill-color: #D2E3FC;\n",
              "      --hover-bg-color: #434B5C;\n",
              "      --hover-fill-color: #FFFFFF;\n",
              "      --disabled-bg-color: #3B4455;\n",
              "      --disabled-fill-color: #666;\n",
              "  }\n",
              "\n",
              "  .colab-df-quickchart {\n",
              "    background-color: var(--bg-color);\n",
              "    border: none;\n",
              "    border-radius: 50%;\n",
              "    cursor: pointer;\n",
              "    display: none;\n",
              "    fill: var(--fill-color);\n",
              "    height: 32px;\n",
              "    padding: 0;\n",
              "    width: 32px;\n",
              "  }\n",
              "\n",
              "  .colab-df-quickchart:hover {\n",
              "    background-color: var(--hover-bg-color);\n",
              "    box-shadow: 0 1px 2px rgba(60, 64, 67, 0.3), 0 1px 3px 1px rgba(60, 64, 67, 0.15);\n",
              "    fill: var(--button-hover-fill-color);\n",
              "  }\n",
              "\n",
              "  .colab-df-quickchart-complete:disabled,\n",
              "  .colab-df-quickchart-complete:disabled:hover {\n",
              "    background-color: var(--disabled-bg-color);\n",
              "    fill: var(--disabled-fill-color);\n",
              "    box-shadow: none;\n",
              "  }\n",
              "\n",
              "  .colab-df-spinner {\n",
              "    border: 2px solid var(--fill-color);\n",
              "    border-color: transparent;\n",
              "    border-bottom-color: var(--fill-color);\n",
              "    animation:\n",
              "      spin 1s steps(1) infinite;\n",
              "  }\n",
              "\n",
              "  @keyframes spin {\n",
              "    0% {\n",
              "      border-color: transparent;\n",
              "      border-bottom-color: var(--fill-color);\n",
              "      border-left-color: var(--fill-color);\n",
              "    }\n",
              "    20% {\n",
              "      border-color: transparent;\n",
              "      border-left-color: var(--fill-color);\n",
              "      border-top-color: var(--fill-color);\n",
              "    }\n",
              "    30% {\n",
              "      border-color: transparent;\n",
              "      border-left-color: var(--fill-color);\n",
              "      border-top-color: var(--fill-color);\n",
              "      border-right-color: var(--fill-color);\n",
              "    }\n",
              "    40% {\n",
              "      border-color: transparent;\n",
              "      border-right-color: var(--fill-color);\n",
              "      border-top-color: var(--fill-color);\n",
              "    }\n",
              "    60% {\n",
              "      border-color: transparent;\n",
              "      border-right-color: var(--fill-color);\n",
              "    }\n",
              "    80% {\n",
              "      border-color: transparent;\n",
              "      border-right-color: var(--fill-color);\n",
              "      border-bottom-color: var(--fill-color);\n",
              "    }\n",
              "    90% {\n",
              "      border-color: transparent;\n",
              "      border-bottom-color: var(--fill-color);\n",
              "    }\n",
              "  }\n",
              "</style>\n",
              "\n",
              "  <script>\n",
              "    async function quickchart(key) {\n",
              "      const quickchartButtonEl =\n",
              "        document.querySelector('#' + key + ' button');\n",
              "      quickchartButtonEl.disabled = true;  // To prevent multiple clicks.\n",
              "      quickchartButtonEl.classList.add('colab-df-spinner');\n",
              "      try {\n",
              "        const charts = await google.colab.kernel.invokeFunction(\n",
              "            'suggestCharts', [key], {});\n",
              "      } catch (error) {\n",
              "        console.error('Error during call to suggestCharts:', error);\n",
              "      }\n",
              "      quickchartButtonEl.classList.remove('colab-df-spinner');\n",
              "      quickchartButtonEl.classList.add('colab-df-quickchart-complete');\n",
              "    }\n",
              "    (() => {\n",
              "      let quickchartButtonEl =\n",
              "        document.querySelector('#df-a3ee53f8-5aa5-4376-bce8-5e67dd4215e5 button');\n",
              "      quickchartButtonEl.style.display =\n",
              "        google.colab.kernel.accessAllowed ? 'block' : 'none';\n",
              "    })();\n",
              "  </script>\n",
              "</div>\n",
              "    </div>\n",
              "  </div>\n"
            ],
            "application/vnd.google.colaboratory.intrinsic+json": {
              "type": "dataframe",
              "repr_error": "0"
            }
          },
          "metadata": {},
          "execution_count": 35
        }
      ],
      "source": [
        "train[train['OriginalTweet'].apply(lambda x: 'great' in x) & (train['Sentiment'] == 1)]"
      ]
    },
    {
      "cell_type": "code",
      "execution_count": null,
      "metadata": {
        "colab": {
          "base_uri": "https://localhost:8080/",
          "height": 130
        },
        "id": "jSjbKPCWk87K",
        "outputId": "3ea866f8-3e16-474f-d6e5-8a98ebd5213d"
      },
      "outputs": [
        {
          "output_type": "execute_result",
          "data": {
            "text/plain": [
              "         19  absolutely       amp  brilliant      care    crisis   endless  \\\n",
              "0  0.085575    0.259189  0.179137   0.296693  0.196072  0.159202  0.321042   \n",
              "\n",
              "        etc      free      gift  ...  hospital      idea      list      mean  \\\n",
              "0  0.208685  0.189624  0.269845  ...  0.232834  0.237303  0.223796  0.240497   \n",
              "\n",
              "       much      post      show  supermarket       use   workers  \n",
              "0  0.187952  0.217295  0.236476     0.109901  0.182643  0.150058  \n",
              "\n",
              "[1 rows x 22 columns]"
            ],
            "text/html": [
              "\n",
              "  <div id=\"df-cb07d41e-4ab6-4b31-ad0c-f7bc1ef728c0\" class=\"colab-df-container\">\n",
              "    <div>\n",
              "<style scoped>\n",
              "    .dataframe tbody tr th:only-of-type {\n",
              "        vertical-align: middle;\n",
              "    }\n",
              "\n",
              "    .dataframe tbody tr th {\n",
              "        vertical-align: top;\n",
              "    }\n",
              "\n",
              "    .dataframe thead th {\n",
              "        text-align: right;\n",
              "    }\n",
              "</style>\n",
              "<table border=\"1\" class=\"dataframe\">\n",
              "  <thead>\n",
              "    <tr style=\"text-align: right;\">\n",
              "      <th></th>\n",
              "      <th>19</th>\n",
              "      <th>absolutely</th>\n",
              "      <th>amp</th>\n",
              "      <th>brilliant</th>\n",
              "      <th>care</th>\n",
              "      <th>crisis</th>\n",
              "      <th>endless</th>\n",
              "      <th>etc</th>\n",
              "      <th>free</th>\n",
              "      <th>gift</th>\n",
              "      <th>...</th>\n",
              "      <th>hospital</th>\n",
              "      <th>idea</th>\n",
              "      <th>list</th>\n",
              "      <th>mean</th>\n",
              "      <th>much</th>\n",
              "      <th>post</th>\n",
              "      <th>show</th>\n",
              "      <th>supermarket</th>\n",
              "      <th>use</th>\n",
              "      <th>workers</th>\n",
              "    </tr>\n",
              "  </thead>\n",
              "  <tbody>\n",
              "    <tr>\n",
              "      <th>0</th>\n",
              "      <td>0.085575</td>\n",
              "      <td>0.259189</td>\n",
              "      <td>0.179137</td>\n",
              "      <td>0.296693</td>\n",
              "      <td>0.196072</td>\n",
              "      <td>0.159202</td>\n",
              "      <td>0.321042</td>\n",
              "      <td>0.208685</td>\n",
              "      <td>0.189624</td>\n",
              "      <td>0.269845</td>\n",
              "      <td>...</td>\n",
              "      <td>0.232834</td>\n",
              "      <td>0.237303</td>\n",
              "      <td>0.223796</td>\n",
              "      <td>0.240497</td>\n",
              "      <td>0.187952</td>\n",
              "      <td>0.217295</td>\n",
              "      <td>0.236476</td>\n",
              "      <td>0.109901</td>\n",
              "      <td>0.182643</td>\n",
              "      <td>0.150058</td>\n",
              "    </tr>\n",
              "  </tbody>\n",
              "</table>\n",
              "<p>1 rows × 22 columns</p>\n",
              "</div>\n",
              "    <div class=\"colab-df-buttons\">\n",
              "\n",
              "  <div class=\"colab-df-container\">\n",
              "    <button class=\"colab-df-convert\" onclick=\"convertToInteractive('df-cb07d41e-4ab6-4b31-ad0c-f7bc1ef728c0')\"\n",
              "            title=\"Convert this dataframe to an interactive table.\"\n",
              "            style=\"display:none;\">\n",
              "\n",
              "  <svg xmlns=\"http://www.w3.org/2000/svg\" height=\"24px\" viewBox=\"0 -960 960 960\">\n",
              "    <path d=\"M120-120v-720h720v720H120Zm60-500h600v-160H180v160Zm220 220h160v-160H400v160Zm0 220h160v-160H400v160ZM180-400h160v-160H180v160Zm440 0h160v-160H620v160ZM180-180h160v-160H180v160Zm440 0h160v-160H620v160Z\"/>\n",
              "  </svg>\n",
              "    </button>\n",
              "\n",
              "  <style>\n",
              "    .colab-df-container {\n",
              "      display:flex;\n",
              "      gap: 12px;\n",
              "    }\n",
              "\n",
              "    .colab-df-convert {\n",
              "      background-color: #E8F0FE;\n",
              "      border: none;\n",
              "      border-radius: 50%;\n",
              "      cursor: pointer;\n",
              "      display: none;\n",
              "      fill: #1967D2;\n",
              "      height: 32px;\n",
              "      padding: 0 0 0 0;\n",
              "      width: 32px;\n",
              "    }\n",
              "\n",
              "    .colab-df-convert:hover {\n",
              "      background-color: #E2EBFA;\n",
              "      box-shadow: 0px 1px 2px rgba(60, 64, 67, 0.3), 0px 1px 3px 1px rgba(60, 64, 67, 0.15);\n",
              "      fill: #174EA6;\n",
              "    }\n",
              "\n",
              "    .colab-df-buttons div {\n",
              "      margin-bottom: 4px;\n",
              "    }\n",
              "\n",
              "    [theme=dark] .colab-df-convert {\n",
              "      background-color: #3B4455;\n",
              "      fill: #D2E3FC;\n",
              "    }\n",
              "\n",
              "    [theme=dark] .colab-df-convert:hover {\n",
              "      background-color: #434B5C;\n",
              "      box-shadow: 0px 1px 3px 1px rgba(0, 0, 0, 0.15);\n",
              "      filter: drop-shadow(0px 1px 2px rgba(0, 0, 0, 0.3));\n",
              "      fill: #FFFFFF;\n",
              "    }\n",
              "  </style>\n",
              "\n",
              "    <script>\n",
              "      const buttonEl =\n",
              "        document.querySelector('#df-cb07d41e-4ab6-4b31-ad0c-f7bc1ef728c0 button.colab-df-convert');\n",
              "      buttonEl.style.display =\n",
              "        google.colab.kernel.accessAllowed ? 'block' : 'none';\n",
              "\n",
              "      async function convertToInteractive(key) {\n",
              "        const element = document.querySelector('#df-cb07d41e-4ab6-4b31-ad0c-f7bc1ef728c0');\n",
              "        const dataTable =\n",
              "          await google.colab.kernel.invokeFunction('convertToInteractive',\n",
              "                                                    [key], {});\n",
              "        if (!dataTable) return;\n",
              "\n",
              "        const docLinkHtml = 'Like what you see? Visit the ' +\n",
              "          '<a target=\"_blank\" href=https://colab.research.google.com/notebooks/data_table.ipynb>data table notebook</a>'\n",
              "          + ' to learn more about interactive tables.';\n",
              "        element.innerHTML = '';\n",
              "        dataTable['output_type'] = 'display_data';\n",
              "        await google.colab.output.renderOutput(dataTable, element);\n",
              "        const docLink = document.createElement('div');\n",
              "        docLink.innerHTML = docLinkHtml;\n",
              "        element.appendChild(docLink);\n",
              "      }\n",
              "    </script>\n",
              "  </div>\n",
              "\n",
              "    </div>\n",
              "  </div>\n"
            ],
            "application/vnd.google.colaboratory.intrinsic+json": {
              "type": "dataframe",
              "variable_name": "df_non_zero"
            }
          },
          "metadata": {},
          "execution_count": 36
        }
      ],
      "source": [
        "ind = 23905\n",
        "test_tweet = [train.loc[ind]['OriginalTweet']]\n",
        "X_test_tfidf = tfidf_vec.transform(test_tweet)\n",
        "\n",
        "df_test_tweet = pd.DataFrame(X_test_tfidf.toarray(), columns=tfidf_vec.get_feature_names_out())\n",
        "df_non_zero = df_test_tweet.loc[:, (df_test_tweet != 0).any(axis=0)]\n",
        "df_non_zero"
      ]
    },
    {
      "cell_type": "code",
      "execution_count": null,
      "metadata": {
        "colab": {
          "base_uri": "https://localhost:8080/"
        },
        "id": "9YpiSVkssYnc",
        "outputId": "342d2f40-308f-476e-acf1-6d68d3064276"
      },
      "outputs": [
        {
          "output_type": "execute_result",
          "data": {
            "text/plain": [
              "['Absolutely brilliant idea amp a great use of a free gift from An Post Show how much your hospital care home supermarket etc the list is endless workers mean to you during this 19 crisis']"
            ]
          },
          "metadata": {},
          "execution_count": 37
        }
      ],
      "source": [
        "test_tweet"
      ]
    },
    {
      "cell_type": "code",
      "execution_count": null,
      "metadata": {
        "colab": {
          "base_uri": "https://localhost:8080/"
        },
        "id": "XwtarUUZsIuy",
        "outputId": "dde95dd4-b2f1-4c8d-c762-df24daa79510"
      },
      "outputs": [
        {
          "output_type": "stream",
          "name": "stdout",
          "text": [
            "Самый важный токен: endless со значением TF-IDF 0.3210416218449363\n",
            "Самый неважный токен: 19 со значением TF-IDF 0.08557488947198498\n"
          ]
        }
      ],
      "source": [
        "max_value = df_non_zero.max().max()\n",
        "max_token = df_non_zero.max().idxmax()\n",
        "\n",
        "min_value = df_non_zero.min().min()\n",
        "min_token = df_non_zero.min().idxmin()\n",
        "\n",
        "print(f'Самый важный токен: {max_token} со значением TF-IDF {max_value}')\n",
        "print(f'Самый неважный токен: {min_token} со значением TF-IDF {min_value}')"
      ]
    },
    {
      "cell_type": "markdown",
      "metadata": {
        "id": "JTv9ST2_U6NA"
      },
      "source": [
        "**Ответ:** TF-IDF выделяет важный токен endless - бесконечный, что может характеризовать положительно окрашенный твит, так как в первую очередь слово бесконечный ассоциируется с бесконечной благодарностью работникам, бесконечным списком людей, которые работают во время коронавируса ради комфортной жизни других людей. Оно редко встречается в других текстах, но хорошо характеризует данный твит, в отличие от токена 19, который встречается в этом тексте и очень часто встречается в остальных текстах."
      ]
    },
    {
      "cell_type": "markdown",
      "metadata": {
        "id": "JVEuZm8BHms6"
      },
      "source": [
        "## Задание 4 Обучение первых моделей (1 балл)"
      ]
    },
    {
      "cell_type": "markdown",
      "metadata": {
        "id": "JADkO3sfXdOG"
      },
      "source": [
        "Примените оба векторайзера для получения матриц с признаками текстов.  Выделите целевую переменную."
      ]
    },
    {
      "cell_type": "code",
      "execution_count": null,
      "metadata": {
        "colab": {
          "base_uri": "https://localhost:8080/"
        },
        "id": "DguoiXhCX2oN",
        "outputId": "d3593e81-c530-4c84-e229-941c0c376488"
      },
      "outputs": [
        {
          "output_type": "stream",
          "name": "stderr",
          "text": [
            "/usr/local/lib/python3.10/dist-packages/sklearn/feature_extraction/text.py:528: UserWarning: The parameter 'token_pattern' will not be used since 'tokenizer' is not None'\n",
            "  warnings.warn(\n"
          ]
        }
      ],
      "source": [
        "tweets_train = train['OriginalTweet']\n",
        "tweets_test = test['OriginalTweet']\n",
        "# Выделение целевой переменной\n",
        "y_train = train['Sentiment']\n",
        "y_test = test['Sentiment']\n",
        "# Инициализация векторайзеров\n",
        "cv = CountVectorizer(tokenizer=custom_tokenizer)\n",
        "tfidf_vec = TfidfVectorizer(tokenizer=custom_tokenizer)\n",
        "# Обучание и применение векторайзеров к трейн части твитов датасета\n",
        "# Применение векторайзера к тест части твитов датасета\n",
        "X_train_cv = cv.fit_transform(tweets_train)\n",
        "X_test_cv = cv.transform(tweets_test)\n",
        "\n",
        "X_train_tfidf = tfidf_vec.fit_transform(tweets_train)\n",
        "X_test_tfidf = tfidf_vec.transform(tweets_test)"
      ]
    },
    {
      "cell_type": "markdown",
      "metadata": {
        "id": "_FX1KSOfYSx4"
      },
      "source": [
        "Обучите логистическую регрессию на векторах из обоих векторайзеров. Посчитайте долю правильных ответов на обучающих и тестовых данных. Какой векторайзер показал лучший результат? Что можно сказать о моделях?"
      ]
    },
    {
      "cell_type": "code",
      "execution_count": null,
      "metadata": {
        "colab": {
          "base_uri": "https://localhost:8080/"
        },
        "id": "-Tb3eh8UXJ6v",
        "outputId": "b21385cd-08f1-4587-e213-cff6d5af773d"
      },
      "outputs": [
        {
          "output_type": "stream",
          "name": "stdout",
          "text": [
            "Accuracy on Train with CV: 0.9844510892780863\n",
            "Accuracy on Test with CV: 0.8674506677297189\n"
          ]
        },
        {
          "output_type": "stream",
          "name": "stderr",
          "text": [
            "/usr/local/lib/python3.10/dist-packages/sklearn/linear_model/_logistic.py:458: ConvergenceWarning: lbfgs failed to converge (status=1):\n",
            "STOP: TOTAL NO. of ITERATIONS REACHED LIMIT.\n",
            "\n",
            "Increase the number of iterations (max_iter) or scale the data as shown in:\n",
            "    https://scikit-learn.org/stable/modules/preprocessing.html\n",
            "Please also refer to the documentation for alternative solver options:\n",
            "    https://scikit-learn.org/stable/modules/linear_model.html#logistic-regression\n",
            "  n_iter_i = _check_optimize_result(\n"
          ]
        }
      ],
      "source": [
        "from sklearn.linear_model import LogisticRegression\n",
        "from sklearn.metrics import accuracy_score\n",
        "# Инициализация и обучение логистической регрессии на CV векторизованных данных\n",
        "logreg_cv = LogisticRegression()\n",
        "logreg_cv.fit(X_train_cv, y_train)\n",
        "\n",
        "print(f'Accuracy on Train with CV: {accuracy_score(y_train, logreg_cv.predict(X_train_cv))}')\n",
        "print(f'Accuracy on Test with CV: {accuracy_score(y_test, logreg_cv.predict(X_test_cv))}')"
      ]
    },
    {
      "cell_type": "code",
      "execution_count": null,
      "metadata": {
        "colab": {
          "base_uri": "https://localhost:8080/"
        },
        "id": "e6Toz8GI1GL-",
        "outputId": "ff1febe8-173c-4278-ae8e-af48dea7dc40"
      },
      "outputs": [
        {
          "output_type": "stream",
          "name": "stdout",
          "text": [
            "Accuracy on Train with tfidf: 0.9254592054677488\n",
            "Accuracy on Test with tfidf: 0.8533984452860275\n"
          ]
        }
      ],
      "source": [
        "# Инициализация и обучение логистической регрессии на Tfidf векторизованных данных\n",
        "logreg_tfidf = LogisticRegression()\n",
        "logreg_tfidf.fit(X_train_tfidf, y_train)\n",
        "\n",
        "print(f'Accuracy on Train with tfidf: {accuracy_score(y_train, logreg_tfidf.predict(X_train_tfidf))}')\n",
        "print(f'Accuracy on Test with tfidf: {accuracy_score(y_test, logreg_tfidf.predict(X_test_tfidf))}')"
      ]
    },
    {
      "cell_type": "markdown",
      "metadata": {
        "id": "8y_wO7rCmv7K"
      },
      "source": [
        "**Ответ:**Лучший результат показал обычный CountVectorizer."
      ]
    },
    {
      "cell_type": "markdown",
      "metadata": {
        "id": "rSOR1i3mjrys"
      },
      "source": [
        "## Задание 5 Стемминг (0.5 балла)"
      ]
    },
    {
      "cell_type": "markdown",
      "metadata": {
        "id": "i6ONBWNPjuq-"
      },
      "source": [
        "Для уменьшения словаря можно использовать стемминг.\n",
        "\n",
        "Модифицируйте написанный токенайзер, добавив в него стемминг с использованием SnowballStemmer. Обучите Count- и Tfidf- векторайзеры. Как изменился размер словаря?"
      ]
    },
    {
      "cell_type": "code",
      "execution_count": null,
      "metadata": {
        "id": "ftYmCuOpPy2U"
      },
      "outputs": [],
      "source": [
        "from nltk.stem.snowball import SnowballStemmer"
      ]
    },
    {
      "cell_type": "code",
      "execution_count": null,
      "metadata": {
        "id": "oVfA2-iMkQBb"
      },
      "outputs": [],
      "source": [
        "def custom_stem_tokenizer(text):\n",
        "  stemmer = SnowballStemmer(\"english\")\n",
        "  tweet_tokenizer = TweetTokenizer()\n",
        "  tokens = tweet_tokenizer.tokenize(text.lower())\n",
        "  noise = stopwords.words('english') + list(punctuation)\n",
        "\n",
        "  tokens = [stemmer.stem(token) for token in tokens\n",
        "            if token not in noise\n",
        "            and (len(token) > 1 or ord(token) < 128)\n",
        "            and not token.startswith('https://t.co')]\n",
        "\n",
        "  return tokens"
      ]
    },
    {
      "cell_type": "code",
      "execution_count": null,
      "metadata": {
        "colab": {
          "base_uri": "https://localhost:8080/"
        },
        "id": "9QmrjYtqnlPd",
        "outputId": "1cd08bdf-c51e-45c8-ee5f-1afd94a630dd"
      },
      "outputs": [
        {
          "output_type": "execute_result",
          "data": {
            "text/plain": [
              "['sampl', 'text', '@sample_text', '#sampletext', 'ad', 'word', 'check', 'stem']"
            ]
          },
          "metadata": {},
          "execution_count": 44
        }
      ],
      "source": [
        "custom_stem_tokenizer('This is sample text!!!! @Sample_text I, \\x92\\x92 https://t.co/sample  #sampletext adding more words to check stemming')"
      ]
    },
    {
      "cell_type": "code",
      "execution_count": null,
      "metadata": {
        "colab": {
          "base_uri": "https://localhost:8080/"
        },
        "id": "zAvUTmaplzOS",
        "outputId": "b77e5d45-657c-4e9f-bd0c-7c6f6c220a1e"
      },
      "outputs": [
        {
          "output_type": "stream",
          "name": "stderr",
          "text": [
            "/usr/local/lib/python3.10/dist-packages/sklearn/feature_extraction/text.py:528: UserWarning: The parameter 'token_pattern' will not be used since 'tokenizer' is not None'\n",
            "  warnings.warn(\n"
          ]
        },
        {
          "output_type": "stream",
          "name": "stdout",
          "text": [
            "36652\n"
          ]
        }
      ],
      "source": [
        "# Инициализация CV векторайзера с кастомным токенайзером со стеммингом\n",
        "cv = CountVectorizer(tokenizer=custom_stem_tokenizer)\n",
        "\n",
        "X_train = cv.fit_transform(tweets_train)\n",
        "\n",
        "print(len(cv.vocabulary_))"
      ]
    },
    {
      "cell_type": "code",
      "source": [
        "# Инициализируем TfidfVectorizer с кастомным токенайзером со стеммингом\n",
        "tfidf_vec = TfidfVectorizer(tokenizer=custom_stem_tokenizer)\n",
        "\n",
        "# Применяем векторайзер на трейн части твитов датасета\n",
        "X_train_tfidf = tfidf_vec.fit_transform(tweets_train)\n",
        "\n",
        "print(len(tfidf_vec.vocabulary_))"
      ],
      "metadata": {
        "colab": {
          "base_uri": "https://localhost:8080/"
        },
        "id": "WCHbgdzmTCS0",
        "outputId": "82c447d9-c49e-4408-81db-c4e449e4d110"
      },
      "execution_count": null,
      "outputs": [
        {
          "output_type": "stream",
          "name": "stderr",
          "text": [
            "/usr/local/lib/python3.10/dist-packages/sklearn/feature_extraction/text.py:528: UserWarning: The parameter 'token_pattern' will not be used since 'tokenizer' is not None'\n",
            "  warnings.warn(\n"
          ]
        },
        {
          "output_type": "stream",
          "name": "stdout",
          "text": [
            "37021\n"
          ]
        }
      ]
    },
    {
      "cell_type": "markdown",
      "metadata": {
        "id": "Oyzs5TaAoHP6"
      },
      "source": [
        "**Ответ**: Размер словаря уменьшился, убрались лишние токены, которые отличались друг от друга окончаниями, суффиксами и другими частями слов, которые не несли информации."
      ]
    },
    {
      "cell_type": "markdown",
      "metadata": {
        "id": "1OkncHI8oRmd"
      },
      "source": [
        "Обучите логистическую регрессию с использованием обоих векторайзеров. Изменилось ли качество? Есть ли смысл применять стемминг?"
      ]
    },
    {
      "cell_type": "code",
      "execution_count": null,
      "metadata": {
        "id": "ykZJPphEoZ5W"
      },
      "outputs": [],
      "source": [
        "# Инициализация векторайзеров\n",
        "cv = CountVectorizer(tokenizer=custom_stem_tokenizer)\n",
        "tfidf_vec = TfidfVectorizer(tokenizer=custom_stem_tokenizer)\n",
        "# Применение векторайзеров\n",
        "X_train_cv = cv.fit_transform(tweets_train)\n",
        "X_test_cv = cv.transform(tweets_test)\n",
        "\n",
        "X_train_tfidf = tfidf_vec.fit_transform(tweets_train)\n",
        "X_test_tfidf = tfidf_vec.transform(tweets_test)"
      ]
    },
    {
      "cell_type": "code",
      "execution_count": null,
      "metadata": {
        "colab": {
          "base_uri": "https://localhost:8080/"
        },
        "id": "dbO2J__ORQfk",
        "outputId": "ce5aa4fb-ecd5-4e32-eecd-979ff23d26f7"
      },
      "outputs": [
        {
          "output_type": "stream",
          "name": "stdout",
          "text": [
            "Accuracy on Train with CV: 0.9717642033319095\n",
            "Accuracy on Test with CV: 0.8674506677297189\n"
          ]
        },
        {
          "output_type": "stream",
          "name": "stderr",
          "text": [
            "/usr/local/lib/python3.10/dist-packages/sklearn/linear_model/_logistic.py:458: ConvergenceWarning: lbfgs failed to converge (status=1):\n",
            "STOP: TOTAL NO. of ITERATIONS REACHED LIMIT.\n",
            "\n",
            "Increase the number of iterations (max_iter) or scale the data as shown in:\n",
            "    https://scikit-learn.org/stable/modules/preprocessing.html\n",
            "Please also refer to the documentation for alternative solver options:\n",
            "    https://scikit-learn.org/stable/modules/linear_model.html#logistic-regression\n",
            "  n_iter_i = _check_optimize_result(\n"
          ]
        }
      ],
      "source": [
        "logreg_cv = LogisticRegression()\n",
        "logreg_cv.fit(X_train_cv, y_train)\n",
        "\n",
        "print(f'Accuracy on Train with CV: {accuracy_score(y_train, logreg_cv.predict(X_train_cv))}')\n",
        "print(f'Accuracy on Test with CV: {accuracy_score(y_test, logreg_cv.predict(X_test_cv))}')"
      ]
    },
    {
      "cell_type": "code",
      "execution_count": null,
      "metadata": {
        "colab": {
          "base_uri": "https://localhost:8080/"
        },
        "id": "uoWWv4KYRQ0v",
        "outputId": "cd3c3322-fa0c-40cd-f189-2c6ef187eb4b"
      },
      "outputs": [
        {
          "output_type": "stream",
          "name": "stdout",
          "text": [
            "Accuracy on Train with tfidf: 0.9158906450234943\n",
            "Accuracy on Test with tfidf: 0.8560892963922663\n"
          ]
        }
      ],
      "source": [
        "logreg_tfidf = LogisticRegression()\n",
        "logreg_tfidf.fit(X_train_tfidf, y_train)\n",
        "\n",
        "print(f'Accuracy on Train with tfidf: {accuracy_score(y_train, logreg_tfidf.predict(X_train_tfidf))}')\n",
        "print(f'Accuracy on Test with tfidf: {accuracy_score(y_test, logreg_tfidf.predict(X_test_tfidf))}')"
      ]
    },
    {
      "cell_type": "markdown",
      "metadata": {
        "id": "bCRlrODro0h8"
      },
      "source": [
        "**Ответ:** Стемминг практически не изменил качество в моделях, при CV качество на тесте не изменилось, на трейне немного упало. При TF-IDF качество на трейне немного упало, на тесте немного улучшилось, но изменения незначительны, нет смысла использовать стемминг."
      ]
    },
    {
      "cell_type": "markdown",
      "metadata": {
        "id": "hYWGQNEDqLC-"
      },
      "source": [
        "## Задание  6 Работа с частотами (1.5 балла)"
      ]
    },
    {
      "cell_type": "markdown",
      "metadata": {
        "id": "8Hq-tl5mqUSn"
      },
      "source": [
        "Еще один способ уменьшить количество признаков - это использовать параметры min_df и max_df при построении векторайзера  эти параметры помогают ограничить требуемую частоту встречаемости токена в документах.\n",
        "\n",
        "По умолчанию берутся все токены, которые встретились хотя бы один раз.\n",
        "\n"
      ]
    },
    {
      "cell_type": "markdown",
      "metadata": {
        "id": "m1SiD4DE3WZ2"
      },
      "source": [
        "Подберите max_df такой, что размер словаря будет 36651 (на 1 меньше, чем было). Почему параметр получился такой большой/маленький?"
      ]
    },
    {
      "cell_type": "code",
      "execution_count": null,
      "metadata": {
        "colab": {
          "base_uri": "https://localhost:8080/"
        },
        "id": "o3YLb8PViExb",
        "outputId": "57267414-65f3-4500-a991-b0ca2af1a854"
      },
      "outputs": [
        {
          "output_type": "stream",
          "name": "stderr",
          "text": [
            "/usr/local/lib/python3.10/dist-packages/sklearn/feature_extraction/text.py:528: UserWarning: The parameter 'token_pattern' will not be used since 'tokenizer' is not None'\n",
            "  warnings.warn(\n"
          ]
        },
        {
          "output_type": "stream",
          "name": "stdout",
          "text": [
            "36651\n"
          ]
        }
      ],
      "source": [
        "cv_df = CountVectorizer(tokenizer=custom_stem_tokenizer,\n",
        "                        max_df=0.3\n",
        "                        ).fit(\n",
        "                            tweets_train\n",
        "                            )\n",
        "print(len(cv_df.vocabulary_))"
      ]
    },
    {
      "cell_type": "markdown",
      "metadata": {
        "id": "UdZYoGZR4UsA"
      },
      "source": [
        "**Ответ:** Параметр, ограничивающий максимульную частоту встречаемости токена в документах получился маленьким, так как у нас большое число токенов с низкой частотой."
      ]
    },
    {
      "cell_type": "markdown",
      "metadata": {
        "id": "_gRIUaB1u32f"
      },
      "source": [
        "Подберите min_df (используйте дефолтное значение max_df) в CountVectorizer таким образом, чтобы размер словаря был 3700 токенов (при использовании токенайзера со стеммингом), а качество осталось таким же, как и было. Что можно сказать о результатах?"
      ]
    },
    {
      "cell_type": "code",
      "execution_count": null,
      "metadata": {
        "colab": {
          "base_uri": "https://localhost:8080/"
        },
        "id": "kSnMJkn9XmsT",
        "outputId": "0f0d1c95-db77-4b03-be22-67387bcae268"
      },
      "outputs": [
        {
          "output_type": "stream",
          "name": "stdout",
          "text": [
            "3700\n"
          ]
        }
      ],
      "source": [
        "cv_df = CountVectorizer(tokenizer=custom_stem_tokenizer,\n",
        "                        min_df=0.00043\n",
        "                        ).fit(\n",
        "                            tweets_train\n",
        "                            )\n",
        "print(len(cv_df.vocabulary_))"
      ]
    },
    {
      "cell_type": "markdown",
      "metadata": {
        "id": "3fGYpUIZx0fk"
      },
      "source": [
        "**Ответ:** Значением min_df получилось очень низким, следовательно, большая часть токенов имеет очень маленькую частоту встречаемости в документах."
      ]
    },
    {
      "cell_type": "markdown",
      "metadata": {
        "id": "Gx_h_-inKbBl"
      },
      "source": [
        "В предыдущих заданиях признаки не скалировались. Отскалируйте данные (при словаре размера 3.7 тысяч, векторизованные CountVectorizer), обучите логистическую регрессию, посмотрите качество и выведите `berplot` содержащий по 10 токенов, с наибольшим по модулю положительными/отрицательными весами. Что можно сказать об этих токенах?"
      ]
    },
    {
      "cell_type": "code",
      "execution_count": null,
      "metadata": {
        "colab": {
          "base_uri": "https://localhost:8080/"
        },
        "id": "KBATXJX6LG9q",
        "outputId": "619ebf38-02a1-465a-b67e-4910cf0c5504"
      },
      "outputs": [
        {
          "output_type": "stream",
          "name": "stdout",
          "text": [
            "Accuracy on Train with CV min_df: 0.9416915847928236\n",
            "Accuracy on Test with CV min_df: 0.8446282639027307\n"
          ]
        },
        {
          "output_type": "stream",
          "name": "stderr",
          "text": [
            "/usr/local/lib/python3.10/dist-packages/sklearn/linear_model/_logistic.py:458: ConvergenceWarning: lbfgs failed to converge (status=1):\n",
            "STOP: TOTAL NO. of ITERATIONS REACHED LIMIT.\n",
            "\n",
            "Increase the number of iterations (max_iter) or scale the data as shown in:\n",
            "    https://scikit-learn.org/stable/modules/preprocessing.html\n",
            "Please also refer to the documentation for alternative solver options:\n",
            "    https://scikit-learn.org/stable/modules/linear_model.html#logistic-regression\n",
            "  n_iter_i = _check_optimize_result(\n"
          ]
        }
      ],
      "source": [
        "from sklearn.preprocessing import StandardScaler\n",
        "skaler = StandardScaler()\n",
        "cv_df = CountVectorizer(tokenizer=custom_stem_tokenizer, min_df=0.00043)\n",
        "# Векторизирование признаков\n",
        "X_train = cv_df.fit_transform(tweets_train)\n",
        "X_test = cv_df.transform(tweets_test)\n",
        "# Скалирование признаков\n",
        "X_train_scaled = skaler.fit_transform(X_train.toarray())\n",
        "X_test_scaled = skaler.transform(X_test.toarray())\n",
        "\n",
        "logreg = LogisticRegression()\n",
        "logreg.fit(X_train_scaled, y_train)\n",
        "\n",
        "print(f'Accuracy on Train with CV min_df: {accuracy_score(y_train, logreg.predict(X_train_scaled))}')\n",
        "print(f'Accuracy on Test with CV min_df: {accuracy_score(y_test, logreg.predict(X_test_scaled))}')"
      ]
    },
    {
      "cell_type": "code",
      "execution_count": null,
      "metadata": {
        "colab": {
          "base_uri": "https://localhost:8080/",
          "height": 601
        },
        "id": "jNvVTSb_aBEY",
        "outputId": "20351daa-39b5-4bae-a76f-2cdfe24990ed"
      },
      "outputs": [
        {
          "output_type": "display_data",
          "data": {
            "text/plain": [
              "<Figure size 1200x800 with 1 Axes>"
            ],
            "image/png": "[encoded data removed]"
          },
          "metadata": {}
        }
      ],
      "source": [
        "coefs = logreg.coef_[0]\n",
        "tokens = cv_df.get_feature_names_out()\n",
        "\n",
        "min_tokens = tokens[np.argsort(coefs)[:10]]\n",
        "max_tokens = tokens[np.argsort(coefs)[-10:]]\n",
        "\n",
        "plt.figure(figsize=(12, 8))\n",
        "plt.title('Tokens with the largest modulo positive/negative weights')\n",
        "plt.barh(min_tokens, coefs[np.argsort(coefs)[:10]])\n",
        "plt.barh(max_tokens, coefs[np.argsort(coefs)[-10:]])\n",
        "plt.xlabel('$Weights$')\n",
        "plt.ylabel('$Tokens$')\n",
        "plt.show()"
      ]
    },
    {
      "cell_type": "markdown",
      "metadata": {
        "id": "ThcEfzY1LHET"
      },
      "source": [
        "**Ответ:** Эти токены в наибольшей степени характерны для положительно/отрицательно окрашенных твитов."
      ]
    },
    {
      "cell_type": "markdown",
      "metadata": {
        "id": "ktJVOdrIHq7B"
      },
      "source": [
        "## Задание 7 Другие признаки (1.5 балла)"
      ]
    },
    {
      "cell_type": "markdown",
      "metadata": {
        "id": "Yt3jRCZ2H0Og"
      },
      "source": [
        "Мы были сконцентрированы на работе с текстами твиттов и не использовали другие признаки - имена пользователя, дату и местоположение"
      ]
    },
    {
      "cell_type": "markdown",
      "metadata": {
        "id": "52wjewCCo_di"
      },
      "source": [
        "Изучите признаки UserName и ScreenName. полезны ли они? Если полезны, то закодируйте их, добавьте к матрице с отскалированными признаками, обучите логистическую регрессию, замерьте качество."
      ]
    },
    {
      "cell_type": "code",
      "execution_count": null,
      "metadata": {
        "colab": {
          "base_uri": "https://localhost:8080/",
          "height": 293
        },
        "id": "63thouYZptj6",
        "outputId": "ccc64122-de73-49f5-9b4e-cfe5a978c6be"
      },
      "outputs": [
        {
          "output_type": "execute_result",
          "data": {
            "text/plain": [
              "   UserName  ScreenName                     Location     TweetAt  \\\n",
              "0      3800       48752                           UK  16-03-2020   \n",
              "1      3801       48753                    Vagabonds  16-03-2020   \n",
              "2      3802       48754                      Unknown  16-03-2020   \n",
              "3      3803       48755                      Unknown  16-03-2020   \n",
              "4      3804       48756  ÃÂT: 36.319708,-82.363649  16-03-2020   \n",
              "\n",
              "                                       OriginalTweet  Sentiment  \n",
              "0  advice Talk to your neighbours family to excha...          1  \n",
              "1  Coronavirus Australia: Woolworths to give elde...          1  \n",
              "2  My food stock is not the only one which is emp...          1  \n",
              "3  Me, ready to go at supermarket during the #COV...          0  \n",
              "4  As news of the regionÃÂs first confirmed COV...          1  "
            ],
            "text/html": [
              "\n",
              "  <div id=\"df-ae55d3d8-f8d7-43bc-8196-c2e040be9a32\" class=\"colab-df-container\">\n",
              "    <div>\n",
              "<style scoped>\n",
              "    .dataframe tbody tr th:only-of-type {\n",
              "        vertical-align: middle;\n",
              "    }\n",
              "\n",
              "    .dataframe tbody tr th {\n",
              "        vertical-align: top;\n",
              "    }\n",
              "\n",
              "    .dataframe thead th {\n",
              "        text-align: right;\n",
              "    }\n",
              "</style>\n",
              "<table border=\"1\" class=\"dataframe\">\n",
              "  <thead>\n",
              "    <tr style=\"text-align: right;\">\n",
              "      <th></th>\n",
              "      <th>UserName</th>\n",
              "      <th>ScreenName</th>\n",
              "      <th>Location</th>\n",
              "      <th>TweetAt</th>\n",
              "      <th>OriginalTweet</th>\n",
              "      <th>Sentiment</th>\n",
              "    </tr>\n",
              "  </thead>\n",
              "  <tbody>\n",
              "    <tr>\n",
              "      <th>0</th>\n",
              "      <td>3800</td>\n",
              "      <td>48752</td>\n",
              "      <td>UK</td>\n",
              "      <td>16-03-2020</td>\n",
              "      <td>advice Talk to your neighbours family to excha...</td>\n",
              "      <td>1</td>\n",
              "    </tr>\n",
              "    <tr>\n",
              "      <th>1</th>\n",
              "      <td>3801</td>\n",
              "      <td>48753</td>\n",
              "      <td>Vagabonds</td>\n",
              "      <td>16-03-2020</td>\n",
              "      <td>Coronavirus Australia: Woolworths to give elde...</td>\n",
              "      <td>1</td>\n",
              "    </tr>\n",
              "    <tr>\n",
              "      <th>2</th>\n",
              "      <td>3802</td>\n",
              "      <td>48754</td>\n",
              "      <td>Unknown</td>\n",
              "      <td>16-03-2020</td>\n",
              "      <td>My food stock is not the only one which is emp...</td>\n",
              "      <td>1</td>\n",
              "    </tr>\n",
              "    <tr>\n",
              "      <th>3</th>\n",
              "      <td>3803</td>\n",
              "      <td>48755</td>\n",
              "      <td>Unknown</td>\n",
              "      <td>16-03-2020</td>\n",
              "      <td>Me, ready to go at supermarket during the #COV...</td>\n",
              "      <td>0</td>\n",
              "    </tr>\n",
              "    <tr>\n",
              "      <th>4</th>\n",
              "      <td>3804</td>\n",
              "      <td>48756</td>\n",
              "      <td>ÃÂT: 36.319708,-82.363649</td>\n",
              "      <td>16-03-2020</td>\n",
              "      <td>As news of the regionÃÂs first confirmed COV...</td>\n",
              "      <td>1</td>\n",
              "    </tr>\n",
              "  </tbody>\n",
              "</table>\n",
              "</div>\n",
              "    <div class=\"colab-df-buttons\">\n",
              "\n",
              "  <div class=\"colab-df-container\">\n",
              "    <button class=\"colab-df-convert\" onclick=\"convertToInteractive('df-ae55d3d8-f8d7-43bc-8196-c2e040be9a32')\"\n",
              "            title=\"Convert this dataframe to an interactive table.\"\n",
              "            style=\"display:none;\">\n",
              "\n",
              "  <svg xmlns=\"http://www.w3.org/2000/svg\" height=\"24px\" viewBox=\"0 -960 960 960\">\n",
              "    <path d=\"M120-120v-720h720v720H120Zm60-500h600v-160H180v160Zm220 220h160v-160H400v160Zm0 220h160v-160H400v160ZM180-400h160v-160H180v160Zm440 0h160v-160H620v160ZM180-180h160v-160H180v160Zm440 0h160v-160H620v160Z\"/>\n",
              "  </svg>\n",
              "    </button>\n",
              "\n",
              "  <style>\n",
              "    .colab-df-container {\n",
              "      display:flex;\n",
              "      gap: 12px;\n",
              "    }\n",
              "\n",
              "    .colab-df-convert {\n",
              "      background-color: #E8F0FE;\n",
              "      border: none;\n",
              "      border-radius: 50%;\n",
              "      cursor: pointer;\n",
              "      display: none;\n",
              "      fill: #1967D2;\n",
              "      height: 32px;\n",
              "      padding: 0 0 0 0;\n",
              "      width: 32px;\n",
              "    }\n",
              "\n",
              "    .colab-df-convert:hover {\n",
              "      background-color: #E2EBFA;\n",
              "      box-shadow: 0px 1px 2px rgba(60, 64, 67, 0.3), 0px 1px 3px 1px rgba(60, 64, 67, 0.15);\n",
              "      fill: #174EA6;\n",
              "    }\n",
              "\n",
              "    .colab-df-buttons div {\n",
              "      margin-bottom: 4px;\n",
              "    }\n",
              "\n",
              "    [theme=dark] .colab-df-convert {\n",
              "      background-color: #3B4455;\n",
              "      fill: #D2E3FC;\n",
              "    }\n",
              "\n",
              "    [theme=dark] .colab-df-convert:hover {\n",
              "      background-color: #434B5C;\n",
              "      box-shadow: 0px 1px 3px 1px rgba(0, 0, 0, 0.15);\n",
              "      filter: drop-shadow(0px 1px 2px rgba(0, 0, 0, 0.3));\n",
              "      fill: #FFFFFF;\n",
              "    }\n",
              "  </style>\n",
              "\n",
              "    <script>\n",
              "      const buttonEl =\n",
              "        document.querySelector('#df-ae55d3d8-f8d7-43bc-8196-c2e040be9a32 button.colab-df-convert');\n",
              "      buttonEl.style.display =\n",
              "        google.colab.kernel.accessAllowed ? 'block' : 'none';\n",
              "\n",
              "      async function convertToInteractive(key) {\n",
              "        const element = document.querySelector('#df-ae55d3d8-f8d7-43bc-8196-c2e040be9a32');\n",
              "        const dataTable =\n",
              "          await google.colab.kernel.invokeFunction('convertToInteractive',\n",
              "                                                    [key], {});\n",
              "        if (!dataTable) return;\n",
              "\n",
              "        const docLinkHtml = 'Like what you see? Visit the ' +\n",
              "          '<a target=\"_blank\" href=https://colab.research.google.com/notebooks/data_table.ipynb>data table notebook</a>'\n",
              "          + ' to learn more about interactive tables.';\n",
              "        element.innerHTML = '';\n",
              "        dataTable['output_type'] = 'display_data';\n",
              "        await google.colab.output.renderOutput(dataTable, element);\n",
              "        const docLink = document.createElement('div');\n",
              "        docLink.innerHTML = docLinkHtml;\n",
              "        element.appendChild(docLink);\n",
              "      }\n",
              "    </script>\n",
              "  </div>\n",
              "\n",
              "\n",
              "<div id=\"df-ce1580b3-d4c6-4e6d-92fe-6488521199a6\">\n",
              "  <button class=\"colab-df-quickchart\" onclick=\"quickchart('df-ce1580b3-d4c6-4e6d-92fe-6488521199a6')\"\n",
              "            title=\"Suggest charts\"\n",
              "            style=\"display:none;\">\n",
              "\n",
              "<svg xmlns=\"http://www.w3.org/2000/svg\" height=\"24px\"viewBox=\"0 0 24 24\"\n",
              "     width=\"24px\">\n",
              "    <g>\n",
              "        <path d=\"M19 3H5c-1.1 0-2 .9-2 2v14c0 1.1.9 2 2 2h14c1.1 0 2-.9 2-2V5c0-1.1-.9-2-2-2zM9 17H7v-7h2v7zm4 0h-2V7h2v10zm4 0h-2v-4h2v4z\"/>\n",
              "    </g>\n",
              "</svg>\n",
              "  </button>\n",
              "\n",
              "<style>\n",
              "  .colab-df-quickchart {\n",
              "      --bg-color: #E8F0FE;\n",
              "      --fill-color: #1967D2;\n",
              "      --hover-bg-color: #E2EBFA;\n",
              "      --hover-fill-color: #174EA6;\n",
              "      --disabled-fill-color: #AAA;\n",
              "      --disabled-bg-color: #DDD;\n",
              "  }\n",
              "\n",
              "  [theme=dark] .colab-df-quickchart {\n",
              "      --bg-color: #3B4455;\n",
              "      --fill-color: #D2E3FC;\n",
              "      --hover-bg-color: #434B5C;\n",
              "      --hover-fill-color: #FFFFFF;\n",
              "      --disabled-bg-color: #3B4455;\n",
              "      --disabled-fill-color: #666;\n",
              "  }\n",
              "\n",
              "  .colab-df-quickchart {\n",
              "    background-color: var(--bg-color);\n",
              "    border: none;\n",
              "    border-radius: 50%;\n",
              "    cursor: pointer;\n",
              "    display: none;\n",
              "    fill: var(--fill-color);\n",
              "    height: 32px;\n",
              "    padding: 0;\n",
              "    width: 32px;\n",
              "  }\n",
              "\n",
              "  .colab-df-quickchart:hover {\n",
              "    background-color: var(--hover-bg-color);\n",
              "    box-shadow: 0 1px 2px rgba(60, 64, 67, 0.3), 0 1px 3px 1px rgba(60, 64, 67, 0.15);\n",
              "    fill: var(--button-hover-fill-color);\n",
              "  }\n",
              "\n",
              "  .colab-df-quickchart-complete:disabled,\n",
              "  .colab-df-quickchart-complete:disabled:hover {\n",
              "    background-color: var(--disabled-bg-color);\n",
              "    fill: var(--disabled-fill-color);\n",
              "    box-shadow: none;\n",
              "  }\n",
              "\n",
              "  .colab-df-spinner {\n",
              "    border: 2px solid var(--fill-color);\n",
              "    border-color: transparent;\n",
              "    border-bottom-color: var(--fill-color);\n",
              "    animation:\n",
              "      spin 1s steps(1) infinite;\n",
              "  }\n",
              "\n",
              "  @keyframes spin {\n",
              "    0% {\n",
              "      border-color: transparent;\n",
              "      border-bottom-color: var(--fill-color);\n",
              "      border-left-color: var(--fill-color);\n",
              "    }\n",
              "    20% {\n",
              "      border-color: transparent;\n",
              "      border-left-color: var(--fill-color);\n",
              "      border-top-color: var(--fill-color);\n",
              "    }\n",
              "    30% {\n",
              "      border-color: transparent;\n",
              "      border-left-color: var(--fill-color);\n",
              "      border-top-color: var(--fill-color);\n",
              "      border-right-color: var(--fill-color);\n",
              "    }\n",
              "    40% {\n",
              "      border-color: transparent;\n",
              "      border-right-color: var(--fill-color);\n",
              "      border-top-color: var(--fill-color);\n",
              "    }\n",
              "    60% {\n",
              "      border-color: transparent;\n",
              "      border-right-color: var(--fill-color);\n",
              "    }\n",
              "    80% {\n",
              "      border-color: transparent;\n",
              "      border-right-color: var(--fill-color);\n",
              "      border-bottom-color: var(--fill-color);\n",
              "    }\n",
              "    90% {\n",
              "      border-color: transparent;\n",
              "      border-bottom-color: var(--fill-color);\n",
              "    }\n",
              "  }\n",
              "</style>\n",
              "\n",
              "  <script>\n",
              "    async function quickchart(key) {\n",
              "      const quickchartButtonEl =\n",
              "        document.querySelector('#' + key + ' button');\n",
              "      quickchartButtonEl.disabled = true;  // To prevent multiple clicks.\n",
              "      quickchartButtonEl.classList.add('colab-df-spinner');\n",
              "      try {\n",
              "        const charts = await google.colab.kernel.invokeFunction(\n",
              "            'suggestCharts', [key], {});\n",
              "      } catch (error) {\n",
              "        console.error('Error during call to suggestCharts:', error);\n",
              "      }\n",
              "      quickchartButtonEl.classList.remove('colab-df-spinner');\n",
              "      quickchartButtonEl.classList.add('colab-df-quickchart-complete');\n",
              "    }\n",
              "    (() => {\n",
              "      let quickchartButtonEl =\n",
              "        document.querySelector('#df-ce1580b3-d4c6-4e6d-92fe-6488521199a6 button');\n",
              "      quickchartButtonEl.style.display =\n",
              "        google.colab.kernel.accessAllowed ? 'block' : 'none';\n",
              "    })();\n",
              "  </script>\n",
              "</div>\n",
              "    </div>\n",
              "  </div>\n"
            ],
            "application/vnd.google.colaboratory.intrinsic+json": {
              "type": "dataframe",
              "variable_name": "df",
              "summary": "{\n  \"name\": \"df\",\n  \"rows\": 33444,\n  \"fields\": [\n    {\n      \"column\": \"UserName\",\n      \"properties\": {\n        \"dtype\": \"number\",\n        \"std\": 11875,\n        \"min\": 3800,\n        \"max\": 44955,\n        \"num_unique_values\": 33444,\n        \"samples\": [\n          33995,\n          17124,\n          18421\n        ],\n        \"semantic_type\": \"\",\n        \"description\": \"\"\n      }\n    },\n    {\n      \"column\": \"ScreenName\",\n      \"properties\": {\n        \"dtype\": \"number\",\n        \"std\": 11875,\n        \"min\": 48752,\n        \"max\": 89907,\n        \"num_unique_values\": 33444,\n        \"samples\": [\n          78947,\n          62076,\n          63373\n        ],\n        \"semantic_type\": \"\",\n        \"description\": \"\"\n      }\n    },\n    {\n      \"column\": \"Location\",\n      \"properties\": {\n        \"dtype\": \"category\",\n        \"num_unique_values\": 10465,\n        \"samples\": [\n          \"Kitchener | Ontario | Canada\",\n          \"Wien, \\u00c3\\u0083\\u00c2\\u0096sterreich\",\n          \"Warsaw\"\n        ],\n        \"semantic_type\": \"\",\n        \"description\": \"\"\n      }\n    },\n    {\n      \"column\": \"TweetAt\",\n      \"properties\": {\n        \"dtype\": \"object\",\n        \"num_unique_values\": 30,\n        \"samples\": [\n          \"12-04-2020\",\n          \"31-03-2020\",\n          \"08-04-2020\"\n        ],\n        \"semantic_type\": \"\",\n        \"description\": \"\"\n      }\n    },\n    {\n      \"column\": \"OriginalTweet\",\n      \"properties\": {\n        \"dtype\": \"string\",\n        \"num_unique_values\": 33444,\n        \"samples\": [\n          \"US death toll is way less than estimated. This I hope will bring back consumer confidence #coronavirus #Covid_19 #CoronavirusUSA\",\n          \"We will get through this by people helping people and not stock piling food and toiletries, selfish pricks #Covid_19\",\n          \"#rice prices soar to two-year high, traders blame it on #coronavirus panic buying, writes #YasirWardad https://t.co/hIXzS1DKdo #FE via @febdonline\"\n        ],\n        \"semantic_type\": \"\",\n        \"description\": \"\"\n      }\n    },\n    {\n      \"column\": \"Sentiment\",\n      \"properties\": {\n        \"dtype\": \"number\",\n        \"std\": 0,\n        \"min\": 0,\n        \"max\": 1,\n        \"num_unique_values\": 2,\n        \"samples\": [\n          0,\n          1\n        ],\n        \"semantic_type\": \"\",\n        \"description\": \"\"\n      }\n    }\n  ]\n}"
            }
          },
          "metadata": {},
          "execution_count": 53
        }
      ],
      "source": [
        "df.head()"
      ]
    },
    {
      "cell_type": "code",
      "execution_count": null,
      "metadata": {
        "colab": {
          "base_uri": "https://localhost:8080/"
        },
        "id": "KM5jefFhgzuH",
        "outputId": "74819570-d175-4f91-c2c5-aed94484ba44"
      },
      "outputs": [
        {
          "output_type": "execute_result",
          "data": {
            "text/plain": [
              "Series([], Name: count, dtype: int64)"
            ]
          },
          "metadata": {},
          "execution_count": 54
        }
      ],
      "source": [
        "value_counts = df['UserName'].value_counts()\n",
        "value_counts[value_counts > 1]"
      ]
    },
    {
      "cell_type": "code",
      "execution_count": null,
      "metadata": {
        "colab": {
          "base_uri": "https://localhost:8080/"
        },
        "id": "AU6mvBJFg_3u",
        "outputId": "6f3b4b92-2ecc-4ece-dbc3-be44f112b618"
      },
      "outputs": [
        {
          "output_type": "execute_result",
          "data": {
            "text/plain": [
              "Series([], Name: count, dtype: int64)"
            ]
          },
          "metadata": {},
          "execution_count": 55
        }
      ],
      "source": [
        "value_counts = df['ScreenName'].value_counts()\n",
        "value_counts[value_counts > 1]"
      ]
    },
    {
      "cell_type": "markdown",
      "metadata": {
        "id": "r8_qR-gnpT3a"
      },
      "source": [
        "**Ответ:** UserName - имя пользователя (целое число), ScreenName - отображающееся имя пользователя (целое число), это просто уникальные идентификаторы пользователей. Кроме того, можно заметить, что записи пользователей не повторялись, следовательно можно отбросить гипотезу, что какие-то пользователи спамили только негативными/позитивными твитами. Эти признаки бесполезны, нет смысла их добавлять к матрице с отскалированными признаками."
      ]
    },
    {
      "cell_type": "markdown",
      "metadata": {
        "id": "ythEcFSkt7y3"
      },
      "source": [
        "Изучите признак TweetAt в обучающей выборке: преобразуйте его к типу datetime и нарисуйте его гистограмму с разделением по цвету на оспнове целевой переменной. Полезен ли он? Если полезен, то закодируйте его, добавьте к матрице с отскалированными признаками, обучите логистическую регрессию, замерьте качество."
      ]
    },
    {
      "cell_type": "code",
      "execution_count": null,
      "metadata": {
        "colab": {
          "base_uri": "https://localhost:8080/",
          "height": 601
        },
        "id": "Lxb_k0JLirNv",
        "outputId": "bcda57b7-0d6c-4cc9-90a7-a64d18e4bb67"
      },
      "outputs": [
        {
          "output_type": "display_data",
          "data": {
            "text/plain": [
              "<Figure size 800x600 with 1 Axes>"
            ],
            "image/png": "[encoded data removed]"
          },
          "metadata": {}
        }
      ],
      "source": [
        "train['TweetAt'] = pd.to_datetime(train['TweetAt'], format='mixed')\n",
        "\n",
        "plt.figure(figsize=(8, 6))\n",
        "plt.title('Distribution of the number of tweets by date')\n",
        "sns.histplot(x='TweetAt', data=train, hue='Sentiment', bins=40, alpha=0.8)\n",
        "plt.xticks(rotation=45)\n",
        "plt.ylabel(\"$Count$ $Tweets$\")\n",
        "plt.xlabel(\"$Date$\")\n",
        "plt.show()"
      ]
    },
    {
      "cell_type": "markdown",
      "metadata": {
        "id": "4IdLBdpQxM-G"
      },
      "source": [
        "**Ответ:** Этот признак бесполезный, так как из распределения количества твитов по эмоциональной окраске в зависимости от даты твита видно, что на протяжении всего времени количества позитивных и негативных твитов в зависимости от даты были примерно одинаковыми.\n",
        "\n"
      ]
    },
    {
      "cell_type": "markdown",
      "metadata": {
        "id": "r2JtRPhNP6qx"
      },
      "source": [
        "Поработайте с признаком Location в обучающей выборке. Сколько уникальных значений?"
      ]
    },
    {
      "cell_type": "code",
      "execution_count": null,
      "metadata": {
        "colab": {
          "base_uri": "https://localhost:8080/"
        },
        "id": "pjvOoYRl9ZHi",
        "outputId": "5fe94970-8a32-4235-bf16-f9bee6d49e41"
      },
      "outputs": [
        {
          "output_type": "execute_result",
          "data": {
            "text/plain": [
              "Location\n",
              "Unknown                           4944\n",
              "London                             301\n",
              "United States                      295\n",
              "London, England                    274\n",
              "New York, NY                       223\n",
              "                                  ... \n",
              "Work: Kent and Live: Sussex          1\n",
              "Somewhere on TradingView             1\n",
              "Honolulu, Hawai?i                    1\n",
              "SFO                                  1\n",
              "Waterville, Ireland Austin, TX       1\n",
              "Name: count, Length: 7949, dtype: int64"
            ]
          },
          "metadata": {},
          "execution_count": 57
        }
      ],
      "source": [
        "train['Location'].value_counts()"
      ]
    },
    {
      "cell_type": "markdown",
      "metadata": {
        "id": "AtzdT6CNT6yR"
      },
      "source": [
        "__Ответ__: Всего 7949 уникальных значений категорий."
      ]
    },
    {
      "cell_type": "markdown",
      "metadata": {
        "id": "6k4JwpRTQISa"
      },
      "source": [
        "Постройте гистограмму топ-10 по популярности местоположений (исключая Unknown)"
      ]
    },
    {
      "cell_type": "code",
      "execution_count": null,
      "metadata": {
        "colab": {
          "base_uri": "https://localhost:8080/",
          "height": 680
        },
        "id": "J91YkhegJ0mz",
        "outputId": "9614ec43-d714-4fc5-b038-21eb07dc70c6"
      },
      "outputs": [
        {
          "output_type": "display_data",
          "data": {
            "text/plain": [
              "<Figure size 1200x800 with 1 Axes>"
            ],
            "image/png": "[encoded data removed]"
          },
          "metadata": {}
        }
      ],
      "source": [
        "top_locations = train['Location'].value_counts().drop('Unknown').head(10)\n",
        "\n",
        "plt.figure(figsize=(12,8))\n",
        "top_locations.plot(kind='bar')\n",
        "plt.title('Top 10 most popular locations')\n",
        "plt.xticks(rotation=45)\n",
        "plt.xlabel('$Locations$')\n",
        "plt.ylabel('$Frequency$')\n",
        "plt.show()"
      ]
    },
    {
      "cell_type": "markdown",
      "metadata": {
        "id": "ZOsv3lODTfYB"
      },
      "source": [
        "Видно, что многие местоположения включают в себя более точное название места, чем другие (Например, у некоторых стоит London, UK; а у некоторых просто UK или United Kingdom).\n",
        "\n",
        "Создайте новый признак WiderLocation, который содержит самое широкое местоположение (например, из London, UK должно получиться UK). Сколько уникальных категорий теперь? Постройте аналогичную гистограмму."
      ]
    },
    {
      "cell_type": "code",
      "execution_count": null,
      "metadata": {
        "colab": {
          "base_uri": "https://localhost:8080/",
          "height": 642
        },
        "id": "mSkow6acOMyD",
        "outputId": "33fb201a-a9f6-4c93-9cff-a627c5c943d9"
      },
      "outputs": [
        {
          "output_type": "display_data",
          "data": {
            "text/plain": [
              "<Figure size 1200x800 with 1 Axes>"
            ],
            "image/png": "[encoded data removed]"
          },
          "metadata": {}
        }
      ],
      "source": [
        "train['WiderLocation'] = train['Location'].str.split(',').str[-1].str.split().str[-1].str.strip()\n",
        "test['WiderLocation'] = test['Location'].str.split(',').str[-1].str.split().str[-1].str.strip()\n",
        "\n",
        "\n",
        "UK = [\"England\", \"Scotland\", \"Wales\", \"Northern Ireland\", \"London\", \"Great Britain\", \"United Kingdom\", \"uk\", \"Kingdom\"]\n",
        "USA = [\"US\", \"us\", \"usa\" \"United States\", \"States\"] + [\"AL\", \"AK\", \"AZ\", \"AR\", \"CO\", \"CT\", \"DE\", \"FL\", \"GA\", \"HI\", \"ID\", \"IL\", \"IN\", \"IA\", \"KS\",\n",
        "                                 \"KY\", \"LA\", \"ME\", \"MD\", \"MA\", \"MI\", \"MN\", \"MS\", \"MO\", \"MT\", \"NE\", \"NV\", \"NH\", \"NJ\", \"NM\",\n",
        "                                 \"NY\", \"NC\", \"ND\", \"OH\", \"OK\", \"OR\", \"PA\", \"RI\", \"SC\", \"SD\", \"TN\", \"TX\", \"UT\", \"VT\", \"VA\",\n",
        "                                 \"WA\", \"WV\", \"WI\", \"WY\", \"AS\", \"DC\", \"GU\", \"MP\", \"PR\", \"VI\"] + [state_name for state_name in\n",
        "                                 [\"Alabama\", \"Alaska\", \"Arizona\", \"Arkansas\", \"California\", \"Colorado\", \"Connecticut\",\n",
        "                                  \"Delaware\", \"Florida\", \"Georgia\", \"Hawaii\", \"Idaho\", \"Illinois\", \"Indiana\", \"Iowa\",\n",
        "                                  \"Kansas\", \"Kentucky\", \"Louisiana\", \"Maine\", \"Maryland\", \"Massachusetts\", \"Michigan\",\n",
        "                                  \"Minnesota\", \"Mississippi\", \"Missouri\", \"Montana\", \"Nebraska\", \"Nevada\", \"New Hampshire\",\n",
        "                                  \"New Jersey\", \"New Mexico\", \"New York\", \"North Carolina\", \"North Dakota\", \"Ohio\", \"Oklahoma\",\n",
        "                                  \"Oregon\", \"Pennsylvania\", \"Rhode Island\", \"South Carolina\", \"South Dakota\", \"Tennessee\",\n",
        "                                  \"Texas\", \"Utah\", \"Vermont\", \"Virginia\", \"Washington\", \"West Virginia\", \"Wisconsin\", \"Wyoming\", \"York\"]]\n",
        "Canada = [\"Ontario\", \"CA\"]\n",
        "\n",
        "replace_dict = {**{country: 'UK' for country in UK}, **{country: 'USA' for country in USA}, **{country: 'Canada' for country in Canada}}\n",
        "\n",
        "train['WiderLocation'] = train['WiderLocation'].replace(replace_dict)\n",
        "test['WiderLocation'] = test['WiderLocation'].replace(replace_dict)\n",
        "\n",
        "top_locations = train['WiderLocation'].value_counts().drop('Unknown').head(10)\n",
        "\n",
        "plt.figure(figsize=(12,8))\n",
        "top_locations.plot(kind='bar')\n",
        "plt.title('Top 10 most popular locations')\n",
        "plt.xticks(rotation=45)\n",
        "plt.xlabel('$Locations$')\n",
        "plt.ylabel('$Frequency$')\n",
        "plt.show()"
      ]
    },
    {
      "cell_type": "code",
      "execution_count": null,
      "metadata": {
        "colab": {
          "base_uri": "https://localhost:8080/"
        },
        "id": "P-XSueRMOR1_",
        "outputId": "3f962a29-2d9d-49ce-9f65-8e65f68a4209"
      },
      "outputs": [
        {
          "output_type": "execute_result",
          "data": {
            "text/plain": [
              "WiderLocation\n",
              "USA        5490\n",
              "Unknown    4947\n",
              "UK         2407\n",
              "Canada     1174\n",
              "India       560\n",
              "           ... \n",
              "33131         1\n",
              "ÃÂUSA       1\n",
              "always        1\n",
              "10012         1\n",
              "NIGERIA       1\n",
              "Name: count, Length: 2963, dtype: int64"
            ]
          },
          "metadata": {},
          "execution_count": 60
        }
      ],
      "source": [
        "train['WiderLocation'].value_counts()"
      ]
    },
    {
      "cell_type": "markdown",
      "metadata": {
        "id": "ZcxawjWST17V"
      },
      "source": [
        "__Ответ__: Теперь 2963 уникальных категории."
      ]
    },
    {
      "cell_type": "markdown",
      "metadata": {
        "id": "cgyWrD2eVfff"
      },
      "source": [
        "Закодируйте признак WiderLocation с помощью OHE таким образом, чтобы создались только столбцы для местоположений, которые встречаются более одного раза. Сколько таких значений?\n"
      ]
    },
    {
      "cell_type": "code",
      "execution_count": null,
      "metadata": {
        "colab": {
          "base_uri": "https://localhost:8080/"
        },
        "id": "SeJBfBWgPvg_",
        "outputId": "c87986ba-7ade-439e-ff6a-7c75e2c9d18a"
      },
      "outputs": [
        {
          "output_type": "stream",
          "name": "stderr",
          "text": [
            "/usr/local/lib/python3.10/dist-packages/sklearn/preprocessing/_encoders.py:868: FutureWarning: `sparse` was renamed to `sparse_output` in version 1.2 and will be removed in 1.4. `sparse_output` is ignored unless you leave `sparse` to its default value.\n",
            "  warnings.warn(\n"
          ]
        }
      ],
      "source": [
        "from sklearn.preprocessing import OneHotEncoder\n",
        "\n",
        "count_locations = train['WiderLocation'].value_counts()\n",
        "most_common_locations = count_locations[count_locations > 1].index.tolist()\n",
        "\n",
        "ohe = OneHotEncoder(categories=[most_common_locations], handle_unknown='ignore', sparse=False) # sparse=False\n",
        "\n",
        "train_enc = ohe.fit_transform(train[['WiderLocation']])\n",
        "test_enc = ohe.transform(test[['WiderLocation']])"
      ]
    },
    {
      "cell_type": "code",
      "execution_count": null,
      "metadata": {
        "colab": {
          "base_uri": "https://localhost:8080/"
        },
        "id": "zxeyxyX4ToUR",
        "outputId": "379c3022-a66e-4aef-e912-287a2ea5e049"
      },
      "outputs": [
        {
          "output_type": "execute_result",
          "data": {
            "text/plain": [
              "WiderLocation\n",
              "USA         5490\n",
              "Unknown     4947\n",
              "UK          2407\n",
              "Canada      1174\n",
              "India        560\n",
              "            ... \n",
              "one.           2\n",
              "Mi             2\n",
              "McMurray       2\n",
              "Home           2\n",
              "RESIST         2\n",
              "Name: count, Length: 863, dtype: int64"
            ]
          },
          "metadata": {},
          "execution_count": 62
        }
      ],
      "source": [
        "count_locations[count_locations > 1]"
      ]
    },
    {
      "cell_type": "markdown",
      "metadata": {
        "id": "K8IbhozITt6P"
      },
      "source": [
        "__Ответ__: Всего локаций, которые встречаются чаще одного раза: 863."
      ]
    },
    {
      "cell_type": "markdown",
      "metadata": {
        "id": "ZyMX5kZuimPK"
      },
      "source": [
        "Добавьте этот признак к матрице отскалированных текстовых признаков, обучите логистическую регрессию, замерьте качество. Как оно изменилось? Оказался ли признак полезным?\n",
        "\n",
        "\n",
        "*Подсказка:* используйте параметр `categories` в энкодере."
      ]
    },
    {
      "cell_type": "code",
      "execution_count": null,
      "metadata": {
        "id": "EO1jNPeeim7A"
      },
      "outputs": [],
      "source": [
        "X_train = np.hstack((X_train_scaled, train_enc))\n",
        "X_test = np.hstack((X_test_scaled, test_enc))"
      ]
    },
    {
      "cell_type": "code",
      "execution_count": null,
      "metadata": {
        "colab": {
          "base_uri": "https://localhost:8080/"
        },
        "id": "C4tlCYB4UvlA",
        "outputId": "e272dc74-c193-41d4-fe29-42cf5a5766c9"
      },
      "outputs": [
        {
          "output_type": "execute_result",
          "data": {
            "text/plain": [
              "(23410, 4563)"
            ]
          },
          "metadata": {},
          "execution_count": 64
        }
      ],
      "source": [
        "X_train.shape # Размер совпадает (3700 токенов + 863 локации = 4563)"
      ]
    },
    {
      "cell_type": "code",
      "execution_count": null,
      "metadata": {
        "colab": {
          "base_uri": "https://localhost:8080/"
        },
        "id": "tyurPlMkVEiz",
        "outputId": "9645af11-f66d-45fc-cf26-6cc6f5f00004"
      },
      "outputs": [
        {
          "output_type": "stream",
          "name": "stderr",
          "text": [
            "/usr/local/lib/python3.10/dist-packages/sklearn/linear_model/_logistic.py:458: ConvergenceWarning: lbfgs failed to converge (status=1):\n",
            "STOP: TOTAL NO. of ITERATIONS REACHED LIMIT.\n",
            "\n",
            "Increase the number of iterations (max_iter) or scale the data as shown in:\n",
            "    https://scikit-learn.org/stable/modules/preprocessing.html\n",
            "Please also refer to the documentation for alternative solver options:\n",
            "    https://scikit-learn.org/stable/modules/linear_model.html#logistic-regression\n",
            "  n_iter_i = _check_optimize_result(\n"
          ]
        },
        {
          "output_type": "stream",
          "name": "stdout",
          "text": [
            "Accuracy on Train: 0.9450234942332336\n",
            "Accuracy on Test: 0.844229619294399\n"
          ]
        }
      ],
      "source": [
        "logreg = LogisticRegression()\n",
        "logreg.fit(X_train, y_train)\n",
        "\n",
        "print(f'Accuracy on Train: {accuracy_score(y_train, logreg.predict(X_train))}')\n",
        "print(f'Accuracy on Test: {accuracy_score(y_test, logreg.predict(X_test))}')"
      ]
    },
    {
      "cell_type": "markdown",
      "metadata": {
        "id": "7dHsGlDRYUQt"
      },
      "source": [
        "**Ответ:** По сравнению с моделью, обученной на train части с CV, min_df = 0.00043 и последующим скейлером, качество модели с добавленным признаком WiderLocation и примененным к нему OHE упало на тест части незначительно и также незначительно выросло на трейн части. Признак оказался бесполезным."
      ]
    },
    {
      "cell_type": "markdown",
      "metadata": {
        "id": "IWn6h4W9eD3S"
      },
      "source": [
        "## Задание 8 Хорошее качество (Бонус 1 балл)"
      ]
    },
    {
      "cell_type": "markdown",
      "metadata": {
        "id": "-HDI0SU6eLgi"
      },
      "source": [
        "Добейтесь accuracy=0.9 на тестовой выборке (можно сменить токенайзер, векторайзер, модель и т.д.)"
      ]
    },
    {
      "cell_type": "markdown",
      "source": [
        "__Ответ__: Попробуем изменить стеммер на PorterStemmer."
      ],
      "metadata": {
        "id": "bYnSH0xrVS9e"
      }
    },
    {
      "cell_type": "code",
      "execution_count": null,
      "metadata": {
        "colab": {
          "base_uri": "https://localhost:8080/"
        },
        "id": "k3WMbE8edhlW",
        "outputId": "ee4d0cce-1ea4-4585-a563-b69a7361edb6"
      },
      "outputs": [
        {
          "output_type": "stream",
          "name": "stderr",
          "text": [
            "/usr/local/lib/python3.10/dist-packages/sklearn/feature_extraction/text.py:528: UserWarning: The parameter 'token_pattern' will not be used since 'tokenizer' is not None'\n",
            "  warnings.warn(\n"
          ]
        }
      ],
      "source": [
        "from nltk.stem import PorterStemmer\n",
        "from sklearn.linear_model import SGDClassifier\n",
        "\n",
        "\n",
        "def custom_stem_tokenizer(text):\n",
        "  stemmer = PorterStemmer()\n",
        "  tweet_tokenizer = TweetTokenizer()\n",
        "  tokens = tweet_tokenizer.tokenize(text.lower())\n",
        "  noise = stopwords.words('english') + list(punctuation)\n",
        "\n",
        "  tokens = [stemmer.stem(token) for token in tokens\n",
        "            if token not in noise\n",
        "            and (len(token) > 1 or ord(token) < 128)\n",
        "            and not token.startswith('https://t.co')]\n",
        "\n",
        "  return tokens\n",
        "\n",
        "# Используем обычный CV с кастомным токенайзером с PorterStemmer\n",
        "cv = CountVectorizer(tokenizer=custom_stem_tokenizer)\n",
        "\n",
        "X_train_cv = cv.fit_transform(tweets_train)\n",
        "X_test_cv = cv.transform(tweets_test)"
      ]
    },
    {
      "cell_type": "code",
      "execution_count": null,
      "metadata": {
        "colab": {
          "base_uri": "https://localhost:8080/"
        },
        "id": "PLLhsjKiY33M",
        "outputId": "578c8357-ef48-439d-9b2c-255f0a4256b3"
      },
      "outputs": [
        {
          "output_type": "stream",
          "name": "stdout",
          "text": [
            "Accuracy on Train with CV: 0.9719777872703973\n",
            "Accuracy on Test with CV: 0.868646601554714\n"
          ]
        },
        {
          "output_type": "stream",
          "name": "stderr",
          "text": [
            "/usr/local/lib/python3.10/dist-packages/sklearn/linear_model/_logistic.py:458: ConvergenceWarning: lbfgs failed to converge (status=1):\n",
            "STOP: TOTAL NO. of ITERATIONS REACHED LIMIT.\n",
            "\n",
            "Increase the number of iterations (max_iter) or scale the data as shown in:\n",
            "    https://scikit-learn.org/stable/modules/preprocessing.html\n",
            "Please also refer to the documentation for alternative solver options:\n",
            "    https://scikit-learn.org/stable/modules/linear_model.html#logistic-regression\n",
            "  n_iter_i = _check_optimize_result(\n"
          ]
        }
      ],
      "source": [
        "logreg_cv = LogisticRegression()\n",
        "logreg_cv.fit(X_train_cv, y_train)\n",
        "\n",
        "print(f'Accuracy on Train with CV: {accuracy_score(y_train, logreg_cv.predict(X_train_cv))}')\n",
        "print(f'Accuracy on Test with CV: {accuracy_score(y_test, logreg_cv.predict(X_test_cv))}')"
      ]
    },
    {
      "cell_type": "markdown",
      "source": [
        "__Ответ__: Попробуем использовать другую модель: градиентный бустинг в обертке CatBoost, которая поддерживается в настоящее время. Подберем гиперпараметры через Optuna."
      ],
      "metadata": {
        "id": "gMabsoW2VkUm"
      }
    },
    {
      "cell_type": "code",
      "execution_count": null,
      "metadata": {
        "id": "IbjHfUKSa3sQ"
      },
      "outputs": [],
      "source": [
        "!pip install catboost"
      ]
    },
    {
      "cell_type": "code",
      "execution_count": null,
      "metadata": {
        "id": "wH39etbpajUt"
      },
      "outputs": [],
      "source": [
        "from catboost import CatBoostClassifier\n",
        "clf2 = CatBoostClassifier()\n",
        "\n",
        "clf2.fit(X_train_cv, y_train,\n",
        "        eval_set=(X_test_cv, y_test),\n",
        "        verbose=False\n",
        ")"
      ]
    },
    {
      "cell_type": "code",
      "execution_count": null,
      "metadata": {
        "colab": {
          "base_uri": "https://localhost:8080/"
        },
        "id": "faTNWgewcAK6",
        "outputId": "01fd715f-2f4a-4730-eaff-0369ce08df11"
      },
      "outputs": [
        {
          "output_type": "execute_result",
          "data": {
            "text/plain": [
              "0.8646601554713973"
            ]
          },
          "metadata": {},
          "execution_count": 70
        }
      ],
      "source": [
        "catboost_accuracy = accuracy_score(y_test,clf2.predict(X_test_cv))\n",
        "catboost_accuracy"
      ]
    },
    {
      "cell_type": "code",
      "execution_count": null,
      "metadata": {
        "id": "1xnisqdRcWvE"
      },
      "outputs": [],
      "source": [
        "!pip install optuna"
      ]
    },
    {
      "cell_type": "code",
      "execution_count": null,
      "metadata": {
        "colab": {
          "base_uri": "https://localhost:8080/"
        },
        "id": "4rE995RccPwV",
        "outputId": "ae208f7f-17b3-42c8-d7c0-7ed81299ba34"
      },
      "outputs": [
        {
          "output_type": "stream",
          "name": "stderr",
          "text": [
            "[I 2024-05-03 16:40:56,803] A new study created in memory with name: no-name-e9391f57-15fe-4973-a8e7-90ffe3fce4ce\n",
            "[I 2024-05-03 16:43:24,469] Trial 0 finished with value: 0.7987841339445884 and parameters: {'iterations': 868, 'learning_rate': 0.07047860062837677, 'depth': 6, 'l2_leaf_reg': 8.547874314242167e-08, 'bootstrap_type': 'Bayesian', 'random_strength': 3.530682263733684, 'bagging_temperature': 5.759949652538037, 'od_type': 'IncToDec', 'od_wait': 17}. Best is trial 0 with value: 0.7987841339445884.\n",
            "[I 2024-05-03 16:46:37,925] Trial 1 finished with value: 0.6808849910304963 and parameters: {'iterations': 454, 'learning_rate': 0.0016091047327265653, 'depth': 8, 'l2_leaf_reg': 37.89638012609603, 'bootstrap_type': 'Bayesian', 'random_strength': 3.085313692884808e-05, 'bagging_temperature': 0.2002714988309895, 'od_type': 'Iter', 'od_wait': 27}. Best is trial 0 with value: 0.7987841339445884.\n",
            "[I 2024-05-03 16:47:06,734] Trial 2 finished with value: 0.7801474985050827 and parameters: {'iterations': 194, 'learning_rate': 0.044469592295904484, 'depth': 5, 'l2_leaf_reg': 0.3917266900774845, 'bootstrap_type': 'Bayesian', 'random_strength': 0.12463422196505855, 'bagging_temperature': 1.8245461088723058, 'od_type': 'Iter', 'od_wait': 41}. Best is trial 0 with value: 0.7987841339445884.\n",
            "[I 2024-05-03 16:48:03,815] Trial 3 finished with value: 0.6452062985848116 and parameters: {'iterations': 312, 'learning_rate': 0.0028953289866599577, 'depth': 6, 'l2_leaf_reg': 11.708515206296454, 'bootstrap_type': 'Bayesian', 'random_strength': 4.564686389148825e-08, 'bagging_temperature': 6.815155122007788, 'od_type': 'IncToDec', 'od_wait': 46}. Best is trial 0 with value: 0.7987841339445884.\n",
            "[I 2024-05-03 16:49:15,889] Trial 4 finished with value: 0.8048634642216465 and parameters: {'iterations': 399, 'learning_rate': 0.03412899105946901, 'depth': 6, 'l2_leaf_reg': 3.0114326574509004e-07, 'bootstrap_type': 'Bayesian', 'random_strength': 2.5918870298844874e-05, 'bagging_temperature': 1.762171492166229, 'od_type': 'IncToDec', 'od_wait': 27}. Best is trial 4 with value: 0.8048634642216465.\n",
            "[I 2024-05-03 16:49:52,765] Trial 5 finished with value: 0.6368347618098466 and parameters: {'iterations': 262, 'learning_rate': 0.0033882411498541527, 'depth': 5, 'l2_leaf_reg': 2.7985134864384436e-08, 'bootstrap_type': 'Bayesian', 'random_strength': 7.603641530278423e-05, 'bagging_temperature': 7.399311221638959, 'od_type': 'IncToDec', 'od_wait': 42}. Best is trial 4 with value: 0.8048634642216465.\n",
            "[I 2024-05-03 16:55:32,644] Trial 6 finished with value: 0.8412397847319115 and parameters: {'iterations': 837, 'learning_rate': 0.06284099275043162, 'depth': 8, 'l2_leaf_reg': 8.309012902981494e-05, 'bootstrap_type': 'Bayesian', 'random_strength': 5.4270069212710705, 'bagging_temperature': 2.2463050566115705, 'od_type': 'IncToDec', 'od_wait': 19}. Best is trial 6 with value: 0.8412397847319115.\n"
          ]
        },
        {
          "output_type": "stream",
          "name": "stdout",
          "text": [
            "Number of finished trials: 7\n",
            "Best trial:\n",
            "  Value: 0.8412397847319115\n",
            "  Params: \n",
            "    iterations: 837\n",
            "    learning_rate: 0.06284099275043162\n",
            "    depth: 8\n",
            "    l2_leaf_reg: 8.309012902981494e-05\n",
            "    bootstrap_type: Bayesian\n",
            "    random_strength: 5.4270069212710705\n",
            "    bagging_temperature: 2.2463050566115705\n",
            "    od_type: IncToDec\n",
            "    od_wait: 19\n"
          ]
        }
      ],
      "source": [
        "import optuna\n",
        "from sklearn.metrics import accuracy_score\n",
        "\n",
        "def objective(trial):\n",
        "    param = {\n",
        "        \"iterations\": trial.suggest_int(\"iterations\", 100, 1000),\n",
        "        \"learning_rate\": trial.suggest_float(\"learning_rate\", 1e-3, 1e-1, log=True),\n",
        "        \"depth\": trial.suggest_int(\"depth\", 4, 10),\n",
        "        \"l2_leaf_reg\": trial.suggest_float(\"l2_leaf_reg\", 1e-8, 100.0, log=True),\n",
        "        \"bootstrap_type\": trial.suggest_categorical(\"bootstrap_type\", [\"Bayesian\"]),\n",
        "        \"random_strength\": trial.suggest_float(\"random_strength\", 1e-8, 10.0, log=True),\n",
        "        \"bagging_temperature\": trial.suggest_float(\"bagging_temperature\", 0.0, 10.0),\n",
        "        \"od_type\": trial.suggest_categorical(\"od_type\", [\"IncToDec\", \"Iter\"]),\n",
        "        \"od_wait\": trial.suggest_int(\"od_wait\", 10, 50),\n",
        "        \"verbose\": False\n",
        "    }\n",
        "\n",
        "    clf2 = CatBoostClassifier(**param)\n",
        "\n",
        "    clf2.fit(X_train_cv, y_train, eval_set=(X_test_cv, y_test))\n",
        "\n",
        "    preds = clf2.predict(X_test_cv)\n",
        "    accuracy = accuracy_score(y_test, preds)\n",
        "    return accuracy\n",
        "\n",
        "study = optuna.create_study(direction=\"maximize\")\n",
        "study.optimize(objective, n_trials=100, timeout=600)\n",
        "\n",
        "print(\"Number of finished trials: {}\".format(len(study.trials)))\n",
        "\n",
        "print(\"Best trial:\")\n",
        "trial = study.best_trial\n",
        "\n",
        "print(\"  Value: {}\".format(trial.value))\n",
        "\n",
        "print(\"  Params: \")\n",
        "for key, value in trial.params.items():\n",
        "    print(\"    {}: {}\".format(key, value))"
      ]
    },
    {
      "cell_type": "markdown",
      "source": [
        "__Ответ__: качества 0.9 не удалось достигнуть, думаю, что нужно лучше поработать с токенайзером."
      ],
      "metadata": {
        "id": "2Hgm9X_cUIyc"
      }
    }
  ],
  "metadata": {
    "colab": {
      "provenance": []
    },
    "kernelspec": {
      "display_name": "Python 3",
      "name": "python3"
    },
    "language_info": {
      "name": "python"
    }
  },
  "nbformat": 4,
  "nbformat_minor": 0
}